{
 "cells": [
  {
   "cell_type": "markdown",
   "id": "343ab336",
   "metadata": {},
   "source": [
    "# Linear Regression using Scikit-learn"
   ]
  },
  {
   "cell_type": "code",
   "execution_count": 1,
   "id": "c44ead68",
   "metadata": {},
   "outputs": [
    {
     "name": "stdout",
     "output_type": "stream",
     "text": [
      "\u001b[31mERROR: Cannot uninstall 'llvmlite'. It is a distutils installed project and thus we cannot accurately determine which files belong to it which would lead to only a partial uninstall.\u001b[0m\r\n"
     ]
    }
   ],
   "source": [
    "!pip install pandas-profiling --quiet"
   ]
  },
  {
   "cell_type": "markdown",
   "id": "5d94935b",
   "metadata": {},
   "source": [
    "To begin, we have downloaded the data using the urlretrive function from urllib.request ."
   ]
  },
  {
   "cell_type": "code",
   "execution_count": 2,
   "id": "2fb08156",
   "metadata": {},
   "outputs": [],
   "source": [
    "medical_charges_url = 'https://raw.githubusercontent.com/JovianML/opendatasets/master/data/medical-charges.csv'"
   ]
  },
  {
   "cell_type": "code",
   "execution_count": 3,
   "id": "178a1b4a",
   "metadata": {},
   "outputs": [],
   "source": [
    "from urllib.request import urlretrieve"
   ]
  },
  {
   "cell_type": "code",
   "execution_count": 4,
   "id": "8df68352",
   "metadata": {
    "scrolled": true
   },
   "outputs": [
    {
     "data": {
      "text/plain": [
       "('medical.csv', <http.client.HTTPMessage at 0x7fe4e00de880>)"
      ]
     },
     "execution_count": 4,
     "metadata": {},
     "output_type": "execute_result"
    }
   ],
   "source": [
    "urlretrieve(medical_charges_url, 'medical.csv')"
   ]
  },
  {
   "cell_type": "markdown",
   "id": "549e8d02",
   "metadata": {},
   "source": [
    "We can now create a Pandas dataframe using the downloaded file, to view and analyze the data."
   ]
  },
  {
   "cell_type": "code",
   "execution_count": 5,
   "id": "9f0716e7",
   "metadata": {},
   "outputs": [],
   "source": [
    "import pandas as pd"
   ]
  },
  {
   "cell_type": "code",
   "execution_count": 6,
   "id": "201518f6",
   "metadata": {},
   "outputs": [],
   "source": [
    "medical_df = pd.read_csv('medical.csv')"
   ]
  },
  {
   "cell_type": "code",
   "execution_count": 7,
   "id": "4cd12809",
   "metadata": {
    "scrolled": false
   },
   "outputs": [
    {
     "data": {
      "text/html": [
       "<div>\n",
       "<style scoped>\n",
       "    .dataframe tbody tr th:only-of-type {\n",
       "        vertical-align: middle;\n",
       "    }\n",
       "\n",
       "    .dataframe tbody tr th {\n",
       "        vertical-align: top;\n",
       "    }\n",
       "\n",
       "    .dataframe thead th {\n",
       "        text-align: right;\n",
       "    }\n",
       "</style>\n",
       "<table border=\"1\" class=\"dataframe\">\n",
       "  <thead>\n",
       "    <tr style=\"text-align: right;\">\n",
       "      <th></th>\n",
       "      <th>age</th>\n",
       "      <th>sex</th>\n",
       "      <th>bmi</th>\n",
       "      <th>children</th>\n",
       "      <th>smoker</th>\n",
       "      <th>region</th>\n",
       "      <th>charges</th>\n",
       "    </tr>\n",
       "  </thead>\n",
       "  <tbody>\n",
       "    <tr>\n",
       "      <th>0</th>\n",
       "      <td>19</td>\n",
       "      <td>female</td>\n",
       "      <td>27.900</td>\n",
       "      <td>0</td>\n",
       "      <td>yes</td>\n",
       "      <td>southwest</td>\n",
       "      <td>16884.92400</td>\n",
       "    </tr>\n",
       "    <tr>\n",
       "      <th>1</th>\n",
       "      <td>18</td>\n",
       "      <td>male</td>\n",
       "      <td>33.770</td>\n",
       "      <td>1</td>\n",
       "      <td>no</td>\n",
       "      <td>southeast</td>\n",
       "      <td>1725.55230</td>\n",
       "    </tr>\n",
       "    <tr>\n",
       "      <th>2</th>\n",
       "      <td>28</td>\n",
       "      <td>male</td>\n",
       "      <td>33.000</td>\n",
       "      <td>3</td>\n",
       "      <td>no</td>\n",
       "      <td>southeast</td>\n",
       "      <td>4449.46200</td>\n",
       "    </tr>\n",
       "    <tr>\n",
       "      <th>3</th>\n",
       "      <td>33</td>\n",
       "      <td>male</td>\n",
       "      <td>22.705</td>\n",
       "      <td>0</td>\n",
       "      <td>no</td>\n",
       "      <td>northwest</td>\n",
       "      <td>21984.47061</td>\n",
       "    </tr>\n",
       "    <tr>\n",
       "      <th>4</th>\n",
       "      <td>32</td>\n",
       "      <td>male</td>\n",
       "      <td>28.880</td>\n",
       "      <td>0</td>\n",
       "      <td>no</td>\n",
       "      <td>northwest</td>\n",
       "      <td>3866.85520</td>\n",
       "    </tr>\n",
       "    <tr>\n",
       "      <th>...</th>\n",
       "      <td>...</td>\n",
       "      <td>...</td>\n",
       "      <td>...</td>\n",
       "      <td>...</td>\n",
       "      <td>...</td>\n",
       "      <td>...</td>\n",
       "      <td>...</td>\n",
       "    </tr>\n",
       "    <tr>\n",
       "      <th>1333</th>\n",
       "      <td>50</td>\n",
       "      <td>male</td>\n",
       "      <td>30.970</td>\n",
       "      <td>3</td>\n",
       "      <td>no</td>\n",
       "      <td>northwest</td>\n",
       "      <td>10600.54830</td>\n",
       "    </tr>\n",
       "    <tr>\n",
       "      <th>1334</th>\n",
       "      <td>18</td>\n",
       "      <td>female</td>\n",
       "      <td>31.920</td>\n",
       "      <td>0</td>\n",
       "      <td>no</td>\n",
       "      <td>northeast</td>\n",
       "      <td>2205.98080</td>\n",
       "    </tr>\n",
       "    <tr>\n",
       "      <th>1335</th>\n",
       "      <td>18</td>\n",
       "      <td>female</td>\n",
       "      <td>36.850</td>\n",
       "      <td>0</td>\n",
       "      <td>no</td>\n",
       "      <td>southeast</td>\n",
       "      <td>1629.83350</td>\n",
       "    </tr>\n",
       "    <tr>\n",
       "      <th>1336</th>\n",
       "      <td>21</td>\n",
       "      <td>female</td>\n",
       "      <td>25.800</td>\n",
       "      <td>0</td>\n",
       "      <td>no</td>\n",
       "      <td>southwest</td>\n",
       "      <td>2007.94500</td>\n",
       "    </tr>\n",
       "    <tr>\n",
       "      <th>1337</th>\n",
       "      <td>61</td>\n",
       "      <td>female</td>\n",
       "      <td>29.070</td>\n",
       "      <td>0</td>\n",
       "      <td>yes</td>\n",
       "      <td>northwest</td>\n",
       "      <td>29141.36030</td>\n",
       "    </tr>\n",
       "  </tbody>\n",
       "</table>\n",
       "<p>1338 rows × 7 columns</p>\n",
       "</div>"
      ],
      "text/plain": [
       "      age     sex     bmi  children smoker     region      charges\n",
       "0      19  female  27.900         0    yes  southwest  16884.92400\n",
       "1      18    male  33.770         1     no  southeast   1725.55230\n",
       "2      28    male  33.000         3     no  southeast   4449.46200\n",
       "3      33    male  22.705         0     no  northwest  21984.47061\n",
       "4      32    male  28.880         0     no  northwest   3866.85520\n",
       "...   ...     ...     ...       ...    ...        ...          ...\n",
       "1333   50    male  30.970         3     no  northwest  10600.54830\n",
       "1334   18  female  31.920         0     no  northeast   2205.98080\n",
       "1335   18  female  36.850         0     no  southeast   1629.83350\n",
       "1336   21  female  25.800         0     no  southwest   2007.94500\n",
       "1337   61  female  29.070         0    yes  northwest  29141.36030\n",
       "\n",
       "[1338 rows x 7 columns]"
      ]
     },
     "execution_count": 7,
     "metadata": {},
     "output_type": "execute_result"
    }
   ],
   "source": [
    "medical_df"
   ]
  },
  {
   "cell_type": "markdown",
   "id": "518e5313",
   "metadata": {},
   "source": [
    "We check the data type of each column using info()."
   ]
  },
  {
   "cell_type": "code",
   "execution_count": 8,
   "id": "ec3846db",
   "metadata": {},
   "outputs": [
    {
     "name": "stdout",
     "output_type": "stream",
     "text": [
      "<class 'pandas.core.frame.DataFrame'>\n",
      "RangeIndex: 1338 entries, 0 to 1337\n",
      "Data columns (total 7 columns):\n",
      " #   Column    Non-Null Count  Dtype  \n",
      "---  ------    --------------  -----  \n",
      " 0   age       1338 non-null   int64  \n",
      " 1   sex       1338 non-null   object \n",
      " 2   bmi       1338 non-null   float64\n",
      " 3   children  1338 non-null   int64  \n",
      " 4   smoker    1338 non-null   object \n",
      " 5   region    1338 non-null   object \n",
      " 6   charges   1338 non-null   float64\n",
      "dtypes: float64(2), int64(2), object(3)\n",
      "memory usage: 73.3+ KB\n"
     ]
    }
   ],
   "source": [
    "medical_df.info()"
   ]
  },
  {
   "cell_type": "markdown",
   "id": "af8a95ab",
   "metadata": {},
   "source": [
    "Some statistics for numerical columns of the dataset."
   ]
  },
  {
   "cell_type": "code",
   "execution_count": 9,
   "id": "601dd869",
   "metadata": {},
   "outputs": [
    {
     "data": {
      "text/html": [
       "<div>\n",
       "<style scoped>\n",
       "    .dataframe tbody tr th:only-of-type {\n",
       "        vertical-align: middle;\n",
       "    }\n",
       "\n",
       "    .dataframe tbody tr th {\n",
       "        vertical-align: top;\n",
       "    }\n",
       "\n",
       "    .dataframe thead th {\n",
       "        text-align: right;\n",
       "    }\n",
       "</style>\n",
       "<table border=\"1\" class=\"dataframe\">\n",
       "  <thead>\n",
       "    <tr style=\"text-align: right;\">\n",
       "      <th></th>\n",
       "      <th>age</th>\n",
       "      <th>bmi</th>\n",
       "      <th>children</th>\n",
       "      <th>charges</th>\n",
       "    </tr>\n",
       "  </thead>\n",
       "  <tbody>\n",
       "    <tr>\n",
       "      <th>count</th>\n",
       "      <td>1338.000000</td>\n",
       "      <td>1338.000000</td>\n",
       "      <td>1338.000000</td>\n",
       "      <td>1338.000000</td>\n",
       "    </tr>\n",
       "    <tr>\n",
       "      <th>mean</th>\n",
       "      <td>39.207025</td>\n",
       "      <td>30.663397</td>\n",
       "      <td>1.094918</td>\n",
       "      <td>13270.422265</td>\n",
       "    </tr>\n",
       "    <tr>\n",
       "      <th>std</th>\n",
       "      <td>14.049960</td>\n",
       "      <td>6.098187</td>\n",
       "      <td>1.205493</td>\n",
       "      <td>12110.011237</td>\n",
       "    </tr>\n",
       "    <tr>\n",
       "      <th>min</th>\n",
       "      <td>18.000000</td>\n",
       "      <td>15.960000</td>\n",
       "      <td>0.000000</td>\n",
       "      <td>1121.873900</td>\n",
       "    </tr>\n",
       "    <tr>\n",
       "      <th>25%</th>\n",
       "      <td>27.000000</td>\n",
       "      <td>26.296250</td>\n",
       "      <td>0.000000</td>\n",
       "      <td>4740.287150</td>\n",
       "    </tr>\n",
       "    <tr>\n",
       "      <th>50%</th>\n",
       "      <td>39.000000</td>\n",
       "      <td>30.400000</td>\n",
       "      <td>1.000000</td>\n",
       "      <td>9382.033000</td>\n",
       "    </tr>\n",
       "    <tr>\n",
       "      <th>75%</th>\n",
       "      <td>51.000000</td>\n",
       "      <td>34.693750</td>\n",
       "      <td>2.000000</td>\n",
       "      <td>16639.912515</td>\n",
       "    </tr>\n",
       "    <tr>\n",
       "      <th>max</th>\n",
       "      <td>64.000000</td>\n",
       "      <td>53.130000</td>\n",
       "      <td>5.000000</td>\n",
       "      <td>63770.428010</td>\n",
       "    </tr>\n",
       "  </tbody>\n",
       "</table>\n",
       "</div>"
      ],
      "text/plain": [
       "               age          bmi     children       charges\n",
       "count  1338.000000  1338.000000  1338.000000   1338.000000\n",
       "mean     39.207025    30.663397     1.094918  13270.422265\n",
       "std      14.049960     6.098187     1.205493  12110.011237\n",
       "min      18.000000    15.960000     0.000000   1121.873900\n",
       "25%      27.000000    26.296250     0.000000   4740.287150\n",
       "50%      39.000000    30.400000     1.000000   9382.033000\n",
       "75%      51.000000    34.693750     2.000000  16639.912515\n",
       "max      64.000000    53.130000     5.000000  63770.428010"
      ]
     },
     "execution_count": 9,
     "metadata": {},
     "output_type": "execute_result"
    }
   ],
   "source": [
    "medical_df.describe()"
   ]
  },
  {
   "cell_type": "code",
   "execution_count": 10,
   "id": "f2e85bc8",
   "metadata": {},
   "outputs": [],
   "source": [
    "!pip install plotly matplotlib seaborn --quiet"
   ]
  },
  {
   "cell_type": "code",
   "execution_count": 11,
   "id": "66d82725",
   "metadata": {},
   "outputs": [],
   "source": [
    "import plotly.express as px\n",
    "import matplotlib\n",
    "import matplotlib.pyplot as plt\n",
    "import seaborn as sns\n",
    "%matplotlib inline"
   ]
  },
  {
   "cell_type": "markdown",
   "id": "60caa58a",
   "metadata": {},
   "source": [
    "The following settings will improve the default style and font sizes for our charts."
   ]
  },
  {
   "cell_type": "code",
   "execution_count": 12,
   "id": "8ffedac7",
   "metadata": {},
   "outputs": [],
   "source": [
    "sns.set_style('darkgrid')\n",
    "matplotlib.rcParams['font.size'] = 14\n",
    "matplotlib.rcParams['figure.figsize'] = (10, 6)\n",
    "matplotlib.rcParams['figure.facecolor'] = '#00000000'"
   ]
  },
  {
   "cell_type": "markdown",
   "id": "f19bf6f1",
   "metadata": {},
   "source": [
    "Having looked at individual columns, we can now visualize the relationship between \"charges\" (the value we wish to predict) and other columns.\n",
    "\n",
    "### Age and Charges\n",
    "\n",
    "Let's visualize the relationship between \"age\" and \"charges\" using a scatter plot. Each point in the scatter plot represents one customer. We'll also use values in the \"smoker\" column to color the points."
   ]
  },
  {
   "cell_type": "code",
   "execution_count": 145,
   "id": "5d6d5d24",
   "metadata": {},
   "outputs": [
    {
     "data": {
      "application/vnd.plotly.v1+json": {
       "config": {
        "plotlyServerURL": "https://plot.ly"
       },
       "data": [
        {
         "customdata": [
          [
           "female"
          ],
          [
           "female"
          ],
          [
           "male"
          ],
          [
           "male"
          ],
          [
           "female"
          ],
          [
           "male"
          ],
          [
           "male"
          ],
          [
           "male"
          ],
          [
           "male"
          ],
          [
           "male"
          ],
          [
           "male"
          ],
          [
           "male"
          ],
          [
           "male"
          ],
          [
           "male"
          ],
          [
           "male"
          ],
          [
           "female"
          ],
          [
           "female"
          ],
          [
           "male"
          ],
          [
           "female"
          ],
          [
           "male"
          ],
          [
           "female"
          ],
          [
           "male"
          ],
          [
           "female"
          ],
          [
           "male"
          ],
          [
           "female"
          ],
          [
           "male"
          ],
          [
           "male"
          ],
          [
           "female"
          ],
          [
           "male"
          ],
          [
           "male"
          ],
          [
           "female"
          ],
          [
           "male"
          ],
          [
           "female"
          ],
          [
           "female"
          ],
          [
           "male"
          ],
          [
           "male"
          ],
          [
           "male"
          ],
          [
           "female"
          ],
          [
           "male"
          ],
          [
           "male"
          ],
          [
           "male"
          ],
          [
           "female"
          ],
          [
           "female"
          ],
          [
           "female"
          ],
          [
           "male"
          ],
          [
           "female"
          ],
          [
           "male"
          ],
          [
           "male"
          ],
          [
           "male"
          ],
          [
           "female"
          ],
          [
           "male"
          ],
          [
           "female"
          ],
          [
           "female"
          ],
          [
           "male"
          ],
          [
           "female"
          ],
          [
           "male"
          ],
          [
           "male"
          ],
          [
           "male"
          ],
          [
           "male"
          ],
          [
           "female"
          ],
          [
           "male"
          ],
          [
           "male"
          ],
          [
           "male"
          ],
          [
           "male"
          ],
          [
           "male"
          ],
          [
           "female"
          ],
          [
           "male"
          ],
          [
           "female"
          ],
          [
           "male"
          ],
          [
           "male"
          ],
          [
           "male"
          ],
          [
           "male"
          ],
          [
           "female"
          ],
          [
           "male"
          ],
          [
           "female"
          ],
          [
           "male"
          ],
          [
           "male"
          ],
          [
           "female"
          ],
          [
           "female"
          ],
          [
           "male"
          ],
          [
           "male"
          ],
          [
           "female"
          ],
          [
           "male"
          ],
          [
           "female"
          ],
          [
           "female"
          ],
          [
           "male"
          ],
          [
           "female"
          ],
          [
           "male"
          ],
          [
           "female"
          ],
          [
           "female"
          ],
          [
           "female"
          ],
          [
           "female"
          ],
          [
           "male"
          ],
          [
           "male"
          ],
          [
           "male"
          ],
          [
           "female"
          ],
          [
           "male"
          ],
          [
           "male"
          ],
          [
           "female"
          ],
          [
           "male"
          ],
          [
           "male"
          ],
          [
           "male"
          ],
          [
           "female"
          ],
          [
           "male"
          ],
          [
           "male"
          ],
          [
           "male"
          ],
          [
           "male"
          ],
          [
           "male"
          ],
          [
           "male"
          ],
          [
           "male"
          ],
          [
           "female"
          ],
          [
           "male"
          ],
          [
           "female"
          ],
          [
           "female"
          ],
          [
           "male"
          ],
          [
           "female"
          ],
          [
           "female"
          ],
          [
           "female"
          ],
          [
           "female"
          ],
          [
           "female"
          ],
          [
           "male"
          ],
          [
           "female"
          ],
          [
           "male"
          ],
          [
           "female"
          ],
          [
           "male"
          ],
          [
           "male"
          ],
          [
           "female"
          ],
          [
           "male"
          ],
          [
           "male"
          ],
          [
           "female"
          ],
          [
           "female"
          ],
          [
           "male"
          ],
          [
           "female"
          ],
          [
           "male"
          ],
          [
           "female"
          ],
          [
           "male"
          ],
          [
           "male"
          ],
          [
           "male"
          ],
          [
           "male"
          ],
          [
           "female"
          ],
          [
           "female"
          ],
          [
           "female"
          ],
          [
           "male"
          ],
          [
           "female"
          ],
          [
           "male"
          ],
          [
           "male"
          ],
          [
           "male"
          ],
          [
           "male"
          ],
          [
           "female"
          ],
          [
           "female"
          ],
          [
           "male"
          ],
          [
           "male"
          ],
          [
           "female"
          ],
          [
           "male"
          ],
          [
           "female"
          ],
          [
           "male"
          ],
          [
           "male"
          ],
          [
           "male"
          ],
          [
           "female"
          ],
          [
           "female"
          ],
          [
           "female"
          ],
          [
           "male"
          ],
          [
           "male"
          ],
          [
           "male"
          ],
          [
           "female"
          ],
          [
           "female"
          ],
          [
           "female"
          ],
          [
           "female"
          ],
          [
           "female"
          ],
          [
           "female"
          ],
          [
           "female"
          ],
          [
           "male"
          ],
          [
           "female"
          ],
          [
           "female"
          ],
          [
           "male"
          ],
          [
           "male"
          ],
          [
           "female"
          ],
          [
           "male"
          ],
          [
           "female"
          ],
          [
           "male"
          ],
          [
           "female"
          ],
          [
           "male"
          ],
          [
           "female"
          ],
          [
           "male"
          ],
          [
           "male"
          ],
          [
           "male"
          ],
          [
           "male"
          ],
          [
           "male"
          ],
          [
           "male"
          ],
          [
           "male"
          ],
          [
           "male"
          ],
          [
           "male"
          ],
          [
           "male"
          ],
          [
           "male"
          ],
          [
           "female"
          ],
          [
           "female"
          ],
          [
           "male"
          ],
          [
           "male"
          ],
          [
           "male"
          ],
          [
           "male"
          ],
          [
           "female"
          ],
          [
           "male"
          ],
          [
           "male"
          ],
          [
           "female"
          ],
          [
           "female"
          ],
          [
           "male"
          ],
          [
           "male"
          ],
          [
           "female"
          ],
          [
           "female"
          ],
          [
           "male"
          ],
          [
           "female"
          ],
          [
           "male"
          ],
          [
           "male"
          ],
          [
           "male"
          ],
          [
           "male"
          ],
          [
           "male"
          ],
          [
           "male"
          ],
          [
           "female"
          ],
          [
           "male"
          ],
          [
           "female"
          ],
          [
           "female"
          ],
          [
           "female"
          ],
          [
           "male"
          ],
          [
           "female"
          ],
          [
           "male"
          ],
          [
           "male"
          ],
          [
           "female"
          ],
          [
           "female"
          ],
          [
           "female"
          ],
          [
           "female"
          ],
          [
           "male"
          ],
          [
           "female"
          ],
          [
           "male"
          ],
          [
           "male"
          ],
          [
           "female"
          ],
          [
           "female"
          ],
          [
           "male"
          ],
          [
           "female"
          ],
          [
           "male"
          ],
          [
           "female"
          ],
          [
           "female"
          ],
          [
           "female"
          ],
          [
           "male"
          ],
          [
           "female"
          ],
          [
           "female"
          ],
          [
           "female"
          ],
          [
           "male"
          ],
          [
           "female"
          ],
          [
           "male"
          ],
          [
           "male"
          ],
          [
           "male"
          ],
          [
           "male"
          ],
          [
           "male"
          ],
          [
           "male"
          ],
          [
           "male"
          ],
          [
           "male"
          ],
          [
           "male"
          ],
          [
           "female"
          ],
          [
           "female"
          ],
          [
           "male"
          ],
          [
           "male"
          ],
          [
           "male"
          ],
          [
           "male"
          ],
          [
           "male"
          ],
          [
           "male"
          ],
          [
           "male"
          ],
          [
           "female"
          ],
          [
           "male"
          ],
          [
           "female"
          ],
          [
           "female"
          ],
          [
           "female"
          ],
          [
           "male"
          ],
          [
           "female"
          ],
          [
           "female"
          ]
         ],
         "hovertemplate": "smoker=yes<br>age=%{x}<br>charges=%{y}<br>sex=%{customdata[0]}<extra></extra>",
         "legendgroup": "yes",
         "marker": {
          "color": "#636efa",
          "opacity": 0.8,
          "size": 5,
          "symbol": "circle"
         },
         "mode": "markers",
         "name": "yes",
         "showlegend": true,
         "type": "scattergl",
         "x": [
          19,
          62,
          27,
          30,
          34,
          31,
          22,
          28,
          35,
          60,
          36,
          48,
          36,
          58,
          18,
          53,
          20,
          28,
          27,
          22,
          37,
          45,
          57,
          59,
          64,
          56,
          38,
          61,
          20,
          63,
          29,
          44,
          19,
          32,
          34,
          30,
          46,
          42,
          48,
          18,
          30,
          42,
          18,
          63,
          36,
          27,
          35,
          19,
          42,
          40,
          19,
          23,
          63,
          18,
          63,
          54,
          50,
          56,
          19,
          20,
          52,
          19,
          46,
          40,
          50,
          40,
          54,
          59,
          25,
          19,
          47,
          31,
          53,
          43,
          27,
          34,
          45,
          64,
          61,
          52,
          50,
          19,
          26,
          23,
          39,
          24,
          27,
          55,
          44,
          26,
          36,
          63,
          64,
          61,
          40,
          33,
          56,
          42,
          30,
          54,
          61,
          24,
          44,
          21,
          29,
          51,
          19,
          39,
          42,
          57,
          54,
          49,
          43,
          35,
          48,
          31,
          34,
          21,
          19,
          59,
          30,
          47,
          49,
          19,
          37,
          18,
          44,
          39,
          42,
          52,
          64,
          43,
          40,
          62,
          44,
          60,
          39,
          27,
          41,
          51,
          30,
          29,
          35,
          37,
          23,
          29,
          27,
          53,
          37,
          47,
          18,
          33,
          19,
          30,
          50,
          53,
          27,
          33,
          18,
          47,
          33,
          56,
          36,
          41,
          23,
          57,
          60,
          37,
          46,
          49,
          48,
          25,
          37,
          51,
          32,
          57,
          64,
          47,
          43,
          60,
          32,
          18,
          43,
          45,
          37,
          25,
          51,
          44,
          34,
          54,
          43,
          51,
          29,
          31,
          24,
          27,
          30,
          24,
          47,
          43,
          22,
          47,
          19,
          46,
          55,
          18,
          22,
          45,
          35,
          20,
          43,
          22,
          49,
          47,
          59,
          37,
          28,
          39,
          47,
          22,
          51,
          33,
          38,
          48,
          25,
          33,
          23,
          53,
          23,
          19,
          60,
          43,
          19,
          18,
          43,
          52,
          31,
          23,
          20,
          43,
          19,
          18,
          36,
          37,
          46,
          20,
          52,
          20,
          52,
          64,
          32,
          24,
          20,
          64,
          24,
          26,
          39,
          47,
          18,
          61,
          20,
          19,
          45,
          62,
          43,
          42,
          29,
          32,
          25,
          19,
          30,
          62,
          42,
          61
         ],
         "xaxis": "x",
         "y": [
          16884.924,
          27808.7251,
          39611.7577,
          36837.467,
          37701.8768,
          38711,
          35585.576,
          51194.55914,
          39774.2763,
          48173.361,
          38709.176,
          23568.272,
          37742.5757,
          47496.49445,
          34303.1672,
          23244.7902,
          14711.7438,
          17663.1442,
          16577.7795,
          37165.1638,
          39836.519,
          21098.55405,
          43578.9394,
          30184.9367,
          47291.055,
          22412.6485,
          15820.699,
          30942.1918,
          17560.37975,
          47055.5321,
          19107.7796,
          39556.4945,
          17081.08,
          32734.1863,
          18972.495,
          20745.9891,
          40720.55105,
          19964.7463,
          21223.6758,
          15518.18025,
          36950.2567,
          21348.706,
          36149.4835,
          48824.45,
          43753.33705,
          37133.8982,
          20984.0936,
          34779.615,
          19515.5416,
          19444.2658,
          17352.6803,
          38511.6283,
          29523.1656,
          12829.4551,
          47305.305,
          44260.7499,
          41097.16175,
          43921.1837,
          33750.2918,
          17085.2676,
          24869.8368,
          36219.40545,
          46151.1245,
          17179.522,
          42856.838,
          22331.5668,
          48549.17835,
          47896.79135,
          42112.2356,
          16297.846,
          21978.6769,
          38746.3551,
          24873.3849,
          42124.5153,
          34838.873,
          35491.64,
          42760.5022,
          47928.03,
          48517.56315,
          24393.6224,
          41919.097,
          13844.506,
          36085.219,
          18033.9679,
          21659.9301,
          38126.2465,
          15006.57945,
          42303.69215,
          19594.80965,
          14455.64405,
          18608.262,
          28950.4692,
          46889.2612,
          46599.1084,
          39125.33225,
          37079.372,
          26109.32905,
          22144.032,
          19521.9682,
          25382.297,
          28868.6639,
          35147.52848,
          48885.13561,
          17942.106,
          36197.699,
          22218.1149,
          32548.3405,
          21082.16,
          38245.59327,
          48675.5177,
          63770.42801,
          23807.2406,
          45863.205,
          39983.42595,
          45702.02235,
          58571.07448,
          43943.8761,
          15359.1045,
          17468.9839,
          25678.77845,
          39241.442,
          42969.8527,
          23306.547,
          34439.8559,
          40182.246,
          34617.84065,
          42983.4585,
          20149.3229,
          32787.45859,
          24667.419,
          27037.9141,
          42560.4304,
          40003.33225,
          45710.20785,
          46200.9851,
          46130.5265,
          40103.89,
          34806.4677,
          40273.6455,
          44400.4064,
          40932.4295,
          16657.71745,
          19361.9988,
          40419.0191,
          36189.1017,
          44585.45587,
          18246.4955,
          43254.41795,
          19539.243,
          23065.4207,
          36307.7983,
          19040.876,
          17748.5062,
          18259.216,
          24520.264,
          21195.818,
          18310.742,
          17904.52705,
          38792.6856,
          23401.30575,
          55135.40209,
          43813.8661,
          20773.62775,
          39597.4072,
          36021.0112,
          27533.9129,
          45008.9555,
          37270.1512,
          42111.6647,
          24106.91255,
          40974.1649,
          15817.9857,
          46113.511,
          46255.1125,
          19719.6947,
          27218.43725,
          29330.98315,
          44202.6536,
          19798.05455,
          48673.5588,
          17496.306,
          33732.6867,
          21774.32215,
          35069.37452,
          39047.285,
          19933.458,
          47462.894,
          38998.546,
          20009.63365,
          41999.52,
          41034.2214,
          23967.38305,
          16138.76205,
          19199.944,
          14571.8908,
          16420.49455,
          17361.7661,
          34472.841,
          24915.22085,
          18767.7377,
          35595.5898,
          42211.1382,
          16450.8947,
          21677.28345,
          44423.803,
          13747.87235,
          37484.4493,
          39725.51805,
          20234.85475,
          33475.81715,
          21880.82,
          44501.3982,
          39727.614,
          25309.489,
          48970.2476,
          39871.7043,
          34672.1472,
          19023.26,
          41676.0811,
          33907.548,
          44641.1974,
          16776.30405,
          41949.2441,
          24180.9335,
          36124.5737,
          38282.7495,
          34166.273,
          46661.4424,
          40904.1995,
          36898.73308,
          52590.82939,
          40941.2854,
          39722.7462,
          17178.6824,
          22478.6,
          23887.6627,
          19350.3689,
          18328.2381,
          37465.34375,
          21771.3423,
          33307.5508,
          18223.4512,
          38415.474,
          20296.86345,
          41661.602,
          26125.67477,
          60021.39897,
          20167.33603,
          47269.854,
          49577.6624,
          37607.5277,
          18648.4217,
          16232.847,
          26926.5144,
          34254.05335,
          17043.3414,
          22462.04375,
          24535.69855,
          14283.4594,
          47403.88,
          38344.566,
          34828.654,
          62592.87309,
          46718.16325,
          37829.7242,
          21259.37795,
          16115.3045,
          21472.4788,
          33900.653,
          36397.576,
          18765.87545,
          28101.33305,
          43896.3763,
          29141.3603
         ],
         "yaxis": "y"
        },
        {
         "customdata": [
          [
           "male"
          ],
          [
           "male"
          ],
          [
           "male"
          ],
          [
           "male"
          ],
          [
           "female"
          ],
          [
           "female"
          ],
          [
           "female"
          ],
          [
           "male"
          ],
          [
           "female"
          ],
          [
           "male"
          ],
          [
           "male"
          ],
          [
           "female"
          ],
          [
           "male"
          ],
          [
           "female"
          ],
          [
           "male"
          ],
          [
           "male"
          ],
          [
           "female"
          ],
          [
           "female"
          ],
          [
           "male"
          ],
          [
           "male"
          ],
          [
           "female"
          ],
          [
           "female"
          ],
          [
           "female"
          ],
          [
           "male"
          ],
          [
           "female"
          ],
          [
           "female"
          ],
          [
           "male"
          ],
          [
           "male"
          ],
          [
           "female"
          ],
          [
           "male"
          ],
          [
           "female"
          ],
          [
           "female"
          ],
          [
           "male"
          ],
          [
           "female"
          ],
          [
           "male"
          ],
          [
           "male"
          ],
          [
           "female"
          ],
          [
           "female"
          ],
          [
           "female"
          ],
          [
           "female"
          ],
          [
           "female"
          ],
          [
           "female"
          ],
          [
           "female"
          ],
          [
           "female"
          ],
          [
           "male"
          ],
          [
           "male"
          ],
          [
           "male"
          ],
          [
           "female"
          ],
          [
           "female"
          ],
          [
           "female"
          ],
          [
           "male"
          ],
          [
           "female"
          ],
          [
           "male"
          ],
          [
           "female"
          ],
          [
           "male"
          ],
          [
           "male"
          ],
          [
           "male"
          ],
          [
           "female"
          ],
          [
           "male"
          ],
          [
           "female"
          ],
          [
           "female"
          ],
          [
           "male"
          ],
          [
           "female"
          ],
          [
           "female"
          ],
          [
           "female"
          ],
          [
           "female"
          ],
          [
           "female"
          ],
          [
           "female"
          ],
          [
           "female"
          ],
          [
           "male"
          ],
          [
           "female"
          ],
          [
           "female"
          ],
          [
           "male"
          ],
          [
           "female"
          ],
          [
           "male"
          ],
          [
           "female"
          ],
          [
           "female"
          ],
          [
           "female"
          ],
          [
           "male"
          ],
          [
           "male"
          ],
          [
           "male"
          ],
          [
           "female"
          ],
          [
           "male"
          ],
          [
           "female"
          ],
          [
           "male"
          ],
          [
           "male"
          ],
          [
           "male"
          ],
          [
           "female"
          ],
          [
           "female"
          ],
          [
           "male"
          ],
          [
           "male"
          ],
          [
           "female"
          ],
          [
           "female"
          ],
          [
           "female"
          ],
          [
           "female"
          ],
          [
           "male"
          ],
          [
           "female"
          ],
          [
           "female"
          ],
          [
           "female"
          ],
          [
           "male"
          ],
          [
           "female"
          ],
          [
           "female"
          ],
          [
           "male"
          ],
          [
           "male"
          ],
          [
           "female"
          ],
          [
           "female"
          ],
          [
           "male"
          ],
          [
           "male"
          ],
          [
           "male"
          ],
          [
           "female"
          ],
          [
           "female"
          ],
          [
           "female"
          ],
          [
           "male"
          ],
          [
           "male"
          ],
          [
           "male"
          ],
          [
           "female"
          ],
          [
           "female"
          ],
          [
           "male"
          ],
          [
           "female"
          ],
          [
           "male"
          ],
          [
           "female"
          ],
          [
           "male"
          ],
          [
           "male"
          ],
          [
           "female"
          ],
          [
           "female"
          ],
          [
           "female"
          ],
          [
           "male"
          ],
          [
           "male"
          ],
          [
           "male"
          ],
          [
           "male"
          ],
          [
           "female"
          ],
          [
           "female"
          ],
          [
           "male"
          ],
          [
           "male"
          ],
          [
           "female"
          ],
          [
           "female"
          ],
          [
           "male"
          ],
          [
           "female"
          ],
          [
           "male"
          ],
          [
           "female"
          ],
          [
           "male"
          ],
          [
           "female"
          ],
          [
           "female"
          ],
          [
           "female"
          ],
          [
           "female"
          ],
          [
           "male"
          ],
          [
           "female"
          ],
          [
           "male"
          ],
          [
           "female"
          ],
          [
           "male"
          ],
          [
           "male"
          ],
          [
           "female"
          ],
          [
           "female"
          ],
          [
           "female"
          ],
          [
           "female"
          ],
          [
           "female"
          ],
          [
           "female"
          ],
          [
           "female"
          ],
          [
           "male"
          ],
          [
           "female"
          ],
          [
           "male"
          ],
          [
           "female"
          ],
          [
           "male"
          ],
          [
           "male"
          ],
          [
           "male"
          ],
          [
           "male"
          ],
          [
           "female"
          ],
          [
           "female"
          ],
          [
           "female"
          ],
          [
           "female"
          ],
          [
           "male"
          ],
          [
           "female"
          ],
          [
           "female"
          ],
          [
           "female"
          ],
          [
           "female"
          ],
          [
           "male"
          ],
          [
           "male"
          ],
          [
           "male"
          ],
          [
           "female"
          ],
          [
           "female"
          ],
          [
           "male"
          ],
          [
           "female"
          ],
          [
           "female"
          ],
          [
           "female"
          ],
          [
           "male"
          ],
          [
           "male"
          ],
          [
           "female"
          ],
          [
           "male"
          ],
          [
           "male"
          ],
          [
           "female"
          ],
          [
           "female"
          ],
          [
           "male"
          ],
          [
           "male"
          ],
          [
           "female"
          ],
          [
           "male"
          ],
          [
           "male"
          ],
          [
           "male"
          ],
          [
           "male"
          ],
          [
           "female"
          ],
          [
           "female"
          ],
          [
           "male"
          ],
          [
           "female"
          ],
          [
           "female"
          ],
          [
           "female"
          ],
          [
           "male"
          ],
          [
           "male"
          ],
          [
           "male"
          ],
          [
           "male"
          ],
          [
           "male"
          ],
          [
           "male"
          ],
          [
           "female"
          ],
          [
           "male"
          ],
          [
           "female"
          ],
          [
           "male"
          ],
          [
           "female"
          ],
          [
           "male"
          ],
          [
           "female"
          ],
          [
           "female"
          ],
          [
           "male"
          ],
          [
           "female"
          ],
          [
           "female"
          ],
          [
           "male"
          ],
          [
           "female"
          ],
          [
           "male"
          ],
          [
           "female"
          ],
          [
           "male"
          ],
          [
           "male"
          ],
          [
           "female"
          ],
          [
           "male"
          ],
          [
           "female"
          ],
          [
           "female"
          ],
          [
           "female"
          ],
          [
           "male"
          ],
          [
           "female"
          ],
          [
           "female"
          ],
          [
           "male"
          ],
          [
           "female"
          ],
          [
           "male"
          ],
          [
           "female"
          ],
          [
           "male"
          ],
          [
           "male"
          ],
          [
           "male"
          ],
          [
           "male"
          ],
          [
           "female"
          ],
          [
           "male"
          ],
          [
           "male"
          ],
          [
           "female"
          ],
          [
           "male"
          ],
          [
           "male"
          ],
          [
           "male"
          ],
          [
           "female"
          ],
          [
           "male"
          ],
          [
           "female"
          ],
          [
           "female"
          ],
          [
           "female"
          ],
          [
           "male"
          ],
          [
           "male"
          ],
          [
           "male"
          ],
          [
           "female"
          ],
          [
           "female"
          ],
          [
           "male"
          ],
          [
           "female"
          ],
          [
           "male"
          ],
          [
           "female"
          ],
          [
           "female"
          ],
          [
           "male"
          ],
          [
           "male"
          ],
          [
           "female"
          ],
          [
           "male"
          ],
          [
           "female"
          ],
          [
           "female"
          ],
          [
           "female"
          ],
          [
           "male"
          ],
          [
           "female"
          ],
          [
           "male"
          ],
          [
           "male"
          ],
          [
           "male"
          ],
          [
           "male"
          ],
          [
           "female"
          ],
          [
           "female"
          ],
          [
           "male"
          ],
          [
           "female"
          ],
          [
           "female"
          ],
          [
           "female"
          ],
          [
           "female"
          ],
          [
           "female"
          ],
          [
           "male"
          ],
          [
           "male"
          ],
          [
           "female"
          ],
          [
           "female"
          ],
          [
           "female"
          ],
          [
           "male"
          ],
          [
           "female"
          ],
          [
           "male"
          ],
          [
           "male"
          ],
          [
           "female"
          ],
          [
           "male"
          ],
          [
           "male"
          ],
          [
           "female"
          ],
          [
           "male"
          ],
          [
           "female"
          ],
          [
           "female"
          ],
          [
           "male"
          ],
          [
           "female"
          ],
          [
           "male"
          ],
          [
           "male"
          ],
          [
           "female"
          ],
          [
           "male"
          ],
          [
           "female"
          ],
          [
           "male"
          ],
          [
           "male"
          ],
          [
           "female"
          ],
          [
           "female"
          ],
          [
           "male"
          ],
          [
           "female"
          ],
          [
           "male"
          ],
          [
           "male"
          ],
          [
           "female"
          ],
          [
           "female"
          ],
          [
           "female"
          ],
          [
           "male"
          ],
          [
           "male"
          ],
          [
           "male"
          ],
          [
           "male"
          ],
          [
           "female"
          ],
          [
           "female"
          ],
          [
           "male"
          ],
          [
           "male"
          ],
          [
           "male"
          ],
          [
           "male"
          ],
          [
           "male"
          ],
          [
           "female"
          ],
          [
           "female"
          ],
          [
           "female"
          ],
          [
           "female"
          ],
          [
           "male"
          ],
          [
           "female"
          ],
          [
           "male"
          ],
          [
           "female"
          ],
          [
           "male"
          ],
          [
           "male"
          ],
          [
           "male"
          ],
          [
           "male"
          ],
          [
           "female"
          ],
          [
           "male"
          ],
          [
           "female"
          ],
          [
           "male"
          ],
          [
           "female"
          ],
          [
           "female"
          ],
          [
           "male"
          ],
          [
           "female"
          ],
          [
           "female"
          ],
          [
           "male"
          ],
          [
           "male"
          ],
          [
           "male"
          ],
          [
           "male"
          ],
          [
           "male"
          ],
          [
           "male"
          ],
          [
           "male"
          ],
          [
           "female"
          ],
          [
           "female"
          ],
          [
           "male"
          ],
          [
           "female"
          ],
          [
           "female"
          ],
          [
           "female"
          ],
          [
           "male"
          ],
          [
           "male"
          ],
          [
           "female"
          ],
          [
           "female"
          ],
          [
           "female"
          ],
          [
           "female"
          ],
          [
           "male"
          ],
          [
           "female"
          ],
          [
           "female"
          ],
          [
           "female"
          ],
          [
           "male"
          ],
          [
           "male"
          ],
          [
           "male"
          ],
          [
           "male"
          ],
          [
           "male"
          ],
          [
           "female"
          ],
          [
           "female"
          ],
          [
           "male"
          ],
          [
           "female"
          ],
          [
           "female"
          ],
          [
           "male"
          ],
          [
           "male"
          ],
          [
           "female"
          ],
          [
           "female"
          ],
          [
           "female"
          ],
          [
           "male"
          ],
          [
           "male"
          ],
          [
           "female"
          ],
          [
           "male"
          ],
          [
           "female"
          ],
          [
           "female"
          ],
          [
           "male"
          ],
          [
           "female"
          ],
          [
           "male"
          ],
          [
           "male"
          ],
          [
           "male"
          ],
          [
           "female"
          ],
          [
           "female"
          ],
          [
           "male"
          ],
          [
           "male"
          ],
          [
           "male"
          ],
          [
           "male"
          ],
          [
           "male"
          ],
          [
           "male"
          ],
          [
           "male"
          ],
          [
           "female"
          ],
          [
           "male"
          ],
          [
           "female"
          ],
          [
           "female"
          ],
          [
           "female"
          ],
          [
           "female"
          ],
          [
           "female"
          ],
          [
           "female"
          ],
          [
           "female"
          ],
          [
           "male"
          ],
          [
           "male"
          ],
          [
           "female"
          ],
          [
           "male"
          ],
          [
           "male"
          ],
          [
           "male"
          ],
          [
           "male"
          ],
          [
           "female"
          ],
          [
           "female"
          ],
          [
           "female"
          ],
          [
           "male"
          ],
          [
           "female"
          ],
          [
           "female"
          ],
          [
           "female"
          ],
          [
           "male"
          ],
          [
           "male"
          ],
          [
           "female"
          ],
          [
           "female"
          ],
          [
           "male"
          ],
          [
           "female"
          ],
          [
           "male"
          ],
          [
           "female"
          ],
          [
           "female"
          ],
          [
           "male"
          ],
          [
           "male"
          ],
          [
           "male"
          ],
          [
           "male"
          ],
          [
           "female"
          ],
          [
           "female"
          ],
          [
           "male"
          ],
          [
           "male"
          ],
          [
           "female"
          ],
          [
           "female"
          ],
          [
           "female"
          ],
          [
           "male"
          ],
          [
           "female"
          ],
          [
           "female"
          ],
          [
           "female"
          ],
          [
           "female"
          ],
          [
           "female"
          ],
          [
           "female"
          ],
          [
           "female"
          ],
          [
           "male"
          ],
          [
           "male"
          ],
          [
           "female"
          ],
          [
           "male"
          ],
          [
           "male"
          ],
          [
           "male"
          ],
          [
           "female"
          ],
          [
           "male"
          ],
          [
           "female"
          ],
          [
           "male"
          ],
          [
           "female"
          ],
          [
           "female"
          ],
          [
           "female"
          ],
          [
           "male"
          ],
          [
           "male"
          ],
          [
           "male"
          ],
          [
           "female"
          ],
          [
           "female"
          ],
          [
           "female"
          ],
          [
           "male"
          ],
          [
           "female"
          ],
          [
           "female"
          ],
          [
           "male"
          ],
          [
           "female"
          ],
          [
           "female"
          ],
          [
           "female"
          ],
          [
           "female"
          ],
          [
           "male"
          ],
          [
           "female"
          ],
          [
           "female"
          ],
          [
           "female"
          ],
          [
           "female"
          ],
          [
           "female"
          ],
          [
           "female"
          ],
          [
           "female"
          ],
          [
           "male"
          ],
          [
           "female"
          ],
          [
           "male"
          ],
          [
           "female"
          ],
          [
           "male"
          ],
          [
           "male"
          ],
          [
           "male"
          ],
          [
           "male"
          ],
          [
           "male"
          ],
          [
           "female"
          ],
          [
           "male"
          ],
          [
           "male"
          ],
          [
           "male"
          ],
          [
           "female"
          ],
          [
           "female"
          ],
          [
           "male"
          ],
          [
           "male"
          ],
          [
           "male"
          ],
          [
           "female"
          ],
          [
           "male"
          ],
          [
           "male"
          ],
          [
           "male"
          ],
          [
           "female"
          ],
          [
           "male"
          ],
          [
           "female"
          ],
          [
           "female"
          ],
          [
           "female"
          ],
          [
           "female"
          ],
          [
           "female"
          ],
          [
           "female"
          ],
          [
           "female"
          ],
          [
           "male"
          ],
          [
           "female"
          ],
          [
           "female"
          ],
          [
           "male"
          ],
          [
           "female"
          ],
          [
           "female"
          ],
          [
           "male"
          ],
          [
           "male"
          ],
          [
           "female"
          ],
          [
           "male"
          ],
          [
           "female"
          ],
          [
           "male"
          ],
          [
           "female"
          ],
          [
           "male"
          ],
          [
           "female"
          ],
          [
           "male"
          ],
          [
           "female"
          ],
          [
           "female"
          ],
          [
           "male"
          ],
          [
           "male"
          ],
          [
           "female"
          ],
          [
           "male"
          ],
          [
           "male"
          ],
          [
           "male"
          ],
          [
           "female"
          ],
          [
           "male"
          ],
          [
           "male"
          ],
          [
           "male"
          ],
          [
           "male"
          ],
          [
           "female"
          ],
          [
           "female"
          ],
          [
           "female"
          ],
          [
           "male"
          ],
          [
           "female"
          ],
          [
           "female"
          ],
          [
           "female"
          ],
          [
           "male"
          ],
          [
           "female"
          ],
          [
           "female"
          ],
          [
           "female"
          ],
          [
           "male"
          ],
          [
           "female"
          ],
          [
           "female"
          ],
          [
           "male"
          ],
          [
           "female"
          ],
          [
           "female"
          ],
          [
           "male"
          ],
          [
           "female"
          ],
          [
           "male"
          ],
          [
           "female"
          ],
          [
           "male"
          ],
          [
           "female"
          ],
          [
           "female"
          ],
          [
           "female"
          ],
          [
           "male"
          ],
          [
           "male"
          ],
          [
           "male"
          ],
          [
           "female"
          ],
          [
           "male"
          ],
          [
           "female"
          ],
          [
           "female"
          ],
          [
           "male"
          ],
          [
           "female"
          ],
          [
           "female"
          ],
          [
           "female"
          ],
          [
           "female"
          ],
          [
           "male"
          ],
          [
           "male"
          ],
          [
           "female"
          ],
          [
           "male"
          ],
          [
           "female"
          ],
          [
           "male"
          ],
          [
           "male"
          ],
          [
           "female"
          ],
          [
           "male"
          ],
          [
           "male"
          ],
          [
           "male"
          ],
          [
           "female"
          ],
          [
           "male"
          ],
          [
           "male"
          ],
          [
           "female"
          ],
          [
           "male"
          ],
          [
           "female"
          ],
          [
           "male"
          ],
          [
           "male"
          ],
          [
           "female"
          ],
          [
           "female"
          ],
          [
           "male"
          ],
          [
           "female"
          ],
          [
           "female"
          ],
          [
           "female"
          ],
          [
           "male"
          ],
          [
           "female"
          ],
          [
           "female"
          ],
          [
           "male"
          ],
          [
           "male"
          ],
          [
           "male"
          ],
          [
           "male"
          ],
          [
           "male"
          ],
          [
           "male"
          ],
          [
           "male"
          ],
          [
           "male"
          ],
          [
           "female"
          ],
          [
           "female"
          ],
          [
           "male"
          ],
          [
           "male"
          ],
          [
           "male"
          ],
          [
           "female"
          ],
          [
           "female"
          ],
          [
           "male"
          ],
          [
           "female"
          ],
          [
           "female"
          ],
          [
           "male"
          ],
          [
           "female"
          ],
          [
           "female"
          ],
          [
           "female"
          ],
          [
           "female"
          ],
          [
           "male"
          ],
          [
           "male"
          ],
          [
           "female"
          ],
          [
           "female"
          ],
          [
           "female"
          ],
          [
           "male"
          ],
          [
           "male"
          ],
          [
           "female"
          ],
          [
           "female"
          ],
          [
           "male"
          ],
          [
           "male"
          ],
          [
           "male"
          ],
          [
           "female"
          ],
          [
           "female"
          ],
          [
           "male"
          ],
          [
           "male"
          ],
          [
           "male"
          ],
          [
           "female"
          ],
          [
           "female"
          ],
          [
           "male"
          ],
          [
           "female"
          ],
          [
           "male"
          ],
          [
           "male"
          ],
          [
           "female"
          ],
          [
           "female"
          ],
          [
           "male"
          ],
          [
           "male"
          ],
          [
           "male"
          ],
          [
           "male"
          ],
          [
           "female"
          ],
          [
           "female"
          ],
          [
           "female"
          ],
          [
           "male"
          ],
          [
           "male"
          ],
          [
           "male"
          ],
          [
           "female"
          ],
          [
           "male"
          ],
          [
           "female"
          ],
          [
           "male"
          ],
          [
           "male"
          ],
          [
           "female"
          ],
          [
           "female"
          ],
          [
           "female"
          ],
          [
           "male"
          ],
          [
           "female"
          ],
          [
           "female"
          ],
          [
           "female"
          ],
          [
           "male"
          ],
          [
           "male"
          ],
          [
           "male"
          ],
          [
           "male"
          ],
          [
           "male"
          ],
          [
           "female"
          ],
          [
           "male"
          ],
          [
           "female"
          ],
          [
           "male"
          ],
          [
           "male"
          ],
          [
           "male"
          ],
          [
           "female"
          ],
          [
           "female"
          ],
          [
           "male"
          ],
          [
           "male"
          ],
          [
           "female"
          ],
          [
           "male"
          ],
          [
           "male"
          ],
          [
           "female"
          ],
          [
           "male"
          ],
          [
           "female"
          ],
          [
           "male"
          ],
          [
           "male"
          ],
          [
           "female"
          ],
          [
           "male"
          ],
          [
           "male"
          ],
          [
           "female"
          ],
          [
           "male"
          ],
          [
           "female"
          ],
          [
           "female"
          ],
          [
           "male"
          ],
          [
           "male"
          ],
          [
           "male"
          ],
          [
           "female"
          ],
          [
           "female"
          ],
          [
           "male"
          ],
          [
           "female"
          ],
          [
           "male"
          ],
          [
           "male"
          ],
          [
           "female"
          ],
          [
           "female"
          ],
          [
           "male"
          ],
          [
           "female"
          ],
          [
           "female"
          ],
          [
           "female"
          ],
          [
           "female"
          ],
          [
           "female"
          ],
          [
           "male"
          ],
          [
           "male"
          ],
          [
           "male"
          ],
          [
           "male"
          ],
          [
           "female"
          ],
          [
           "female"
          ],
          [
           "female"
          ],
          [
           "male"
          ],
          [
           "male"
          ],
          [
           "female"
          ],
          [
           "male"
          ],
          [
           "female"
          ],
          [
           "male"
          ],
          [
           "female"
          ],
          [
           "male"
          ],
          [
           "female"
          ],
          [
           "male"
          ],
          [
           "male"
          ],
          [
           "male"
          ],
          [
           "female"
          ],
          [
           "female"
          ],
          [
           "male"
          ],
          [
           "male"
          ],
          [
           "female"
          ],
          [
           "male"
          ],
          [
           "male"
          ],
          [
           "male"
          ],
          [
           "female"
          ],
          [
           "male"
          ],
          [
           "male"
          ],
          [
           "male"
          ],
          [
           "female"
          ],
          [
           "female"
          ],
          [
           "female"
          ],
          [
           "male"
          ],
          [
           "male"
          ],
          [
           "male"
          ],
          [
           "male"
          ],
          [
           "male"
          ],
          [
           "female"
          ],
          [
           "female"
          ],
          [
           "female"
          ],
          [
           "female"
          ],
          [
           "female"
          ],
          [
           "male"
          ],
          [
           "male"
          ],
          [
           "male"
          ],
          [
           "female"
          ],
          [
           "female"
          ],
          [
           "male"
          ],
          [
           "male"
          ],
          [
           "female"
          ],
          [
           "male"
          ],
          [
           "female"
          ],
          [
           "male"
          ],
          [
           "female"
          ],
          [
           "male"
          ],
          [
           "female"
          ],
          [
           "female"
          ],
          [
           "female"
          ],
          [
           "male"
          ],
          [
           "female"
          ],
          [
           "female"
          ],
          [
           "female"
          ],
          [
           "female"
          ],
          [
           "female"
          ],
          [
           "male"
          ],
          [
           "male"
          ],
          [
           "male"
          ],
          [
           "male"
          ],
          [
           "male"
          ],
          [
           "male"
          ],
          [
           "male"
          ],
          [
           "female"
          ],
          [
           "female"
          ],
          [
           "male"
          ],
          [
           "female"
          ],
          [
           "male"
          ],
          [
           "female"
          ],
          [
           "female"
          ],
          [
           "female"
          ],
          [
           "female"
          ],
          [
           "male"
          ],
          [
           "male"
          ],
          [
           "female"
          ],
          [
           "female"
          ],
          [
           "male"
          ],
          [
           "male"
          ],
          [
           "female"
          ],
          [
           "female"
          ],
          [
           "male"
          ],
          [
           "female"
          ],
          [
           "male"
          ],
          [
           "male"
          ],
          [
           "male"
          ],
          [
           "female"
          ],
          [
           "male"
          ],
          [
           "female"
          ],
          [
           "female"
          ],
          [
           "female"
          ],
          [
           "male"
          ],
          [
           "male"
          ],
          [
           "female"
          ],
          [
           "male"
          ],
          [
           "female"
          ],
          [
           "female"
          ],
          [
           "female"
          ],
          [
           "male"
          ],
          [
           "male"
          ],
          [
           "male"
          ],
          [
           "male"
          ],
          [
           "female"
          ],
          [
           "female"
          ],
          [
           "male"
          ],
          [
           "male"
          ],
          [
           "male"
          ],
          [
           "female"
          ],
          [
           "male"
          ],
          [
           "male"
          ],
          [
           "female"
          ],
          [
           "female"
          ],
          [
           "female"
          ],
          [
           "female"
          ],
          [
           "male"
          ],
          [
           "male"
          ],
          [
           "male"
          ],
          [
           "male"
          ],
          [
           "male"
          ],
          [
           "male"
          ],
          [
           "female"
          ],
          [
           "male"
          ],
          [
           "male"
          ],
          [
           "male"
          ],
          [
           "male"
          ],
          [
           "female"
          ],
          [
           "male"
          ],
          [
           "female"
          ],
          [
           "female"
          ],
          [
           "male"
          ],
          [
           "female"
          ],
          [
           "female"
          ],
          [
           "male"
          ],
          [
           "male"
          ],
          [
           "male"
          ],
          [
           "male"
          ],
          [
           "female"
          ],
          [
           "female"
          ],
          [
           "female"
          ],
          [
           "male"
          ],
          [
           "male"
          ],
          [
           "female"
          ],
          [
           "female"
          ],
          [
           "male"
          ],
          [
           "male"
          ],
          [
           "male"
          ],
          [
           "female"
          ],
          [
           "male"
          ],
          [
           "female"
          ],
          [
           "female"
          ],
          [
           "male"
          ],
          [
           "female"
          ],
          [
           "male"
          ],
          [
           "female"
          ],
          [
           "female"
          ],
          [
           "male"
          ],
          [
           "male"
          ],
          [
           "female"
          ],
          [
           "male"
          ],
          [
           "female"
          ],
          [
           "female"
          ],
          [
           "female"
          ],
          [
           "male"
          ],
          [
           "male"
          ],
          [
           "female"
          ],
          [
           "female"
          ],
          [
           "male"
          ],
          [
           "male"
          ],
          [
           "male"
          ],
          [
           "female"
          ],
          [
           "male"
          ],
          [
           "male"
          ],
          [
           "female"
          ],
          [
           "female"
          ],
          [
           "female"
          ],
          [
           "female"
          ],
          [
           "female"
          ],
          [
           "female"
          ],
          [
           "female"
          ],
          [
           "female"
          ],
          [
           "female"
          ],
          [
           "male"
          ],
          [
           "male"
          ],
          [
           "female"
          ],
          [
           "female"
          ],
          [
           "female"
          ],
          [
           "male"
          ],
          [
           "female"
          ],
          [
           "male"
          ],
          [
           "female"
          ],
          [
           "female"
          ],
          [
           "male"
          ],
          [
           "male"
          ],
          [
           "female"
          ],
          [
           "female"
          ],
          [
           "female"
          ],
          [
           "female"
          ],
          [
           "female"
          ],
          [
           "female"
          ],
          [
           "female"
          ],
          [
           "male"
          ],
          [
           "female"
          ],
          [
           "female"
          ],
          [
           "female"
          ],
          [
           "female"
          ],
          [
           "female"
          ],
          [
           "female"
          ],
          [
           "female"
          ],
          [
           "female"
          ],
          [
           "male"
          ],
          [
           "male"
          ],
          [
           "female"
          ],
          [
           "male"
          ],
          [
           "male"
          ],
          [
           "male"
          ],
          [
           "male"
          ],
          [
           "male"
          ],
          [
           "female"
          ],
          [
           "male"
          ],
          [
           "male"
          ],
          [
           "male"
          ],
          [
           "male"
          ],
          [
           "female"
          ],
          [
           "female"
          ],
          [
           "male"
          ],
          [
           "male"
          ],
          [
           "male"
          ],
          [
           "female"
          ],
          [
           "female"
          ],
          [
           "male"
          ],
          [
           "male"
          ],
          [
           "male"
          ],
          [
           "female"
          ],
          [
           "male"
          ],
          [
           "male"
          ],
          [
           "male"
          ],
          [
           "male"
          ],
          [
           "female"
          ],
          [
           "male"
          ],
          [
           "female"
          ],
          [
           "male"
          ],
          [
           "female"
          ],
          [
           "female"
          ],
          [
           "male"
          ],
          [
           "female"
          ],
          [
           "female"
          ],
          [
           "female"
          ],
          [
           "male"
          ],
          [
           "male"
          ],
          [
           "female"
          ],
          [
           "male"
          ],
          [
           "female"
          ],
          [
           "male"
          ],
          [
           "female"
          ],
          [
           "female"
          ],
          [
           "female"
          ],
          [
           "female"
          ],
          [
           "female"
          ],
          [
           "male"
          ],
          [
           "female"
          ],
          [
           "female"
          ],
          [
           "male"
          ],
          [
           "female"
          ],
          [
           "female"
          ],
          [
           "female"
          ],
          [
           "female"
          ],
          [
           "female"
          ],
          [
           "male"
          ],
          [
           "male"
          ],
          [
           "female"
          ],
          [
           "male"
          ],
          [
           "male"
          ],
          [
           "male"
          ],
          [
           "female"
          ],
          [
           "female"
          ],
          [
           "female"
          ],
          [
           "female"
          ],
          [
           "male"
          ],
          [
           "female"
          ],
          [
           "female"
          ],
          [
           "female"
          ],
          [
           "male"
          ],
          [
           "female"
          ],
          [
           "male"
          ],
          [
           "male"
          ],
          [
           "male"
          ],
          [
           "male"
          ],
          [
           "male"
          ],
          [
           "female"
          ],
          [
           "male"
          ],
          [
           "female"
          ],
          [
           "female"
          ],
          [
           "female"
          ],
          [
           "male"
          ],
          [
           "male"
          ],
          [
           "female"
          ],
          [
           "male"
          ],
          [
           "male"
          ],
          [
           "female"
          ],
          [
           "male"
          ],
          [
           "male"
          ],
          [
           "female"
          ],
          [
           "male"
          ],
          [
           "male"
          ],
          [
           "male"
          ],
          [
           "male"
          ],
          [
           "female"
          ],
          [
           "male"
          ],
          [
           "female"
          ],
          [
           "male"
          ],
          [
           "female"
          ],
          [
           "female"
          ],
          [
           "female"
          ],
          [
           "male"
          ],
          [
           "female"
          ],
          [
           "female"
          ],
          [
           "female"
          ]
         ],
         "hovertemplate": "smoker=no<br>age=%{x}<br>charges=%{y}<br>sex=%{customdata[0]}<extra></extra>",
         "legendgroup": "no",
         "marker": {
          "color": "#EF553B",
          "opacity": 0.8,
          "size": 5,
          "symbol": "circle"
         },
         "mode": "markers",
         "name": "no",
         "showlegend": true,
         "type": "scattergl",
         "x": [
          18,
          28,
          33,
          32,
          31,
          46,
          37,
          37,
          60,
          25,
          23,
          56,
          19,
          52,
          23,
          56,
          60,
          30,
          18,
          37,
          59,
          63,
          55,
          23,
          18,
          19,
          63,
          19,
          62,
          26,
          24,
          31,
          41,
          37,
          38,
          55,
          18,
          28,
          60,
          18,
          21,
          40,
          58,
          34,
          43,
          25,
          64,
          28,
          19,
          61,
          40,
          40,
          31,
          53,
          58,
          44,
          57,
          29,
          21,
          22,
          41,
          31,
          45,
          48,
          56,
          46,
          55,
          21,
          53,
          35,
          28,
          54,
          55,
          41,
          30,
          18,
          34,
          19,
          26,
          29,
          54,
          55,
          37,
          21,
          52,
          60,
          58,
          49,
          37,
          44,
          18,
          20,
          47,
          26,
          52,
          38,
          59,
          61,
          53,
          19,
          20,
          22,
          19,
          22,
          54,
          22,
          34,
          26,
          29,
          29,
          51,
          53,
          19,
          35,
          48,
          32,
          40,
          44,
          50,
          54,
          32,
          37,
          47,
          20,
          32,
          19,
          27,
          63,
          49,
          18,
          35,
          24,
          38,
          54,
          46,
          41,
          58,
          18,
          22,
          44,
          44,
          26,
          30,
          41,
          29,
          61,
          36,
          25,
          56,
          18,
          19,
          39,
          45,
          51,
          64,
          19,
          48,
          60,
          46,
          28,
          59,
          63,
          40,
          20,
          40,
          24,
          34,
          45,
          41,
          53,
          27,
          26,
          24,
          34,
          53,
          32,
          55,
          28,
          58,
          41,
          47,
          42,
          59,
          19,
          59,
          39,
          18,
          31,
          44,
          33,
          55,
          40,
          54,
          60,
          24,
          19,
          29,
          27,
          55,
          38,
          51,
          58,
          53,
          59,
          45,
          49,
          18,
          41,
          50,
          25,
          47,
          19,
          22,
          59,
          51,
          30,
          55,
          52,
          46,
          46,
          63,
          52,
          28,
          29,
          22,
          25,
          18,
          48,
          36,
          56,
          28,
          57,
          29,
          28,
          30,
          58,
          41,
          50,
          19,
          49,
          52,
          50,
          54,
          44,
          32,
          34,
          26,
          57,
          29,
          40,
          27,
          52,
          61,
          56,
          43,
          64,
          60,
          62,
          46,
          24,
          62,
          60,
          63,
          49,
          34,
          33,
          46,
          36,
          19,
          57,
          50,
          30,
          33,
          18,
          46,
          46,
          47,
          23,
          18,
          48,
          35,
          21,
          21,
          49,
          56,
          42,
          44,
          18,
          61,
          57,
          42,
          20,
          64,
          62,
          55,
          35,
          44,
          19,
          58,
          50,
          26,
          24,
          48,
          19,
          48,
          49,
          46,
          46,
          43,
          21,
          64,
          18,
          51,
          47,
          64,
          49,
          31,
          52,
          33,
          47,
          38,
          32,
          19,
          25,
          19,
          43,
          52,
          64,
          25,
          48,
          45,
          38,
          18,
          21,
          27,
          19,
          29,
          42,
          60,
          31,
          60,
          22,
          35,
          52,
          26,
          31,
          18,
          59,
          45,
          60,
          56,
          40,
          35,
          39,
          30,
          24,
          20,
          32,
          59,
          55,
          57,
          56,
          40,
          49,
          62,
          56,
          19,
          60,
          56,
          28,
          18,
          27,
          18,
          19,
          47,
          25,
          21,
          23,
          63,
          49,
          18,
          51,
          48,
          31,
          54,
          19,
          53,
          19,
          61,
          18,
          61,
          20,
          31,
          45,
          44,
          62,
          43,
          38,
          37,
          22,
          21,
          24,
          57,
          56,
          27,
          51,
          19,
          58,
          20,
          45,
          35,
          31,
          50,
          32,
          51,
          38,
          18,
          19,
          51,
          46,
          18,
          62,
          59,
          37,
          64,
          38,
          33,
          46,
          46,
          53,
          34,
          20,
          63,
          54,
          28,
          54,
          25,
          63,
          32,
          62,
          52,
          25,
          28,
          46,
          34,
          19,
          46,
          54,
          27,
          50,
          18,
          19,
          38,
          41,
          49,
          31,
          18,
          30,
          62,
          57,
          58,
          22,
          52,
          25,
          59,
          19,
          39,
          32,
          19,
          33,
          21,
          61,
          38,
          58,
          47,
          20,
          41,
          46,
          42,
          34,
          43,
          52,
          18,
          51,
          56,
          64,
          51,
          27,
          28,
          47,
          38,
          18,
          34,
          20,
          56,
          55,
          30,
          49,
          59,
          29,
          36,
          33,
          58,
          53,
          24,
          29,
          40,
          51,
          64,
          19,
          35,
          56,
          33,
          61,
          23,
          43,
          48,
          39,
          40,
          18,
          58,
          49,
          53,
          48,
          45,
          59,
          26,
          27,
          48,
          57,
          37,
          57,
          32,
          18,
          49,
          40,
          30,
          29,
          36,
          41,
          45,
          55,
          56,
          49,
          21,
          19,
          53,
          33,
          53,
          42,
          40,
          47,
          21,
          47,
          20,
          24,
          27,
          26,
          53,
          56,
          23,
          21,
          50,
          53,
          34,
          47,
          33,
          49,
          31,
          36,
          18,
          50,
          43,
          20,
          24,
          60,
          49,
          60,
          51,
          58,
          51,
          53,
          62,
          19,
          50,
          41,
          18,
          41,
          53,
          24,
          48,
          59,
          49,
          26,
          45,
          31,
          50,
          50,
          34,
          19,
          47,
          28,
          21,
          64,
          58,
          24,
          31,
          39,
          30,
          22,
          23,
          27,
          45,
          57,
          47,
          42,
          64,
          38,
          61,
          53,
          44,
          41,
          51,
          40,
          45,
          35,
          53,
          18,
          51,
          31,
          35,
          60,
          21,
          29,
          62,
          39,
          19,
          22,
          39,
          30,
          30,
          58,
          42,
          64,
          21,
          23,
          45,
          40,
          19,
          18,
          25,
          46,
          33,
          54,
          28,
          36,
          20,
          24,
          23,
          45,
          26,
          18,
          44,
          60,
          64,
          39,
          63,
          36,
          28,
          58,
          36,
          42,
          36,
          56,
          35,
          59,
          21,
          59,
          53,
          51,
          23,
          27,
          55,
          61,
          53,
          20,
          25,
          57,
          38,
          55,
          36,
          51,
          40,
          18,
          57,
          61,
          25,
          50,
          26,
          42,
          43,
          44,
          23,
          49,
          33,
          41,
          37,
          22,
          23,
          21,
          25,
          36,
          22,
          57,
          36,
          54,
          62,
          61,
          19,
          18,
          19,
          49,
          26,
          49,
          60,
          26,
          27,
          44,
          63,
          22,
          59,
          44,
          33,
          24,
          61,
          35,
          62,
          62,
          38,
          34,
          43,
          50,
          19,
          57,
          62,
          41,
          26,
          39,
          46,
          45,
          32,
          59,
          44,
          39,
          18,
          53,
          18,
          50,
          18,
          19,
          62,
          56,
          42,
          42,
          57,
          30,
          31,
          24,
          48,
          19,
          29,
          63,
          46,
          52,
          35,
          44,
          21,
          39,
          50,
          34,
          22,
          19,
          26,
          48,
          26,
          45,
          36,
          54,
          34,
          27,
          20,
          44,
          43,
          45,
          34,
          26,
          38,
          50,
          38,
          39,
          39,
          63,
          33,
          36,
          24,
          48,
          47,
          29,
          28,
          25,
          51,
          48,
          61,
          48,
          38,
          59,
          19,
          26,
          54,
          21,
          51,
          18,
          47,
          21,
          23,
          54,
          37,
          30,
          61,
          54,
          22,
          19,
          18,
          28,
          55,
          43,
          25,
          44,
          64,
          49,
          27,
          55,
          48,
          45,
          24,
          32,
          24,
          57,
          36,
          29,
          42,
          48,
          39,
          63,
          54,
          63,
          21,
          54,
          60,
          32,
          47,
          21,
          63,
          18,
          32,
          38,
          32,
          62,
          55,
          57,
          52,
          56,
          55,
          23,
          50,
          18,
          22,
          52,
          25,
          53,
          29,
          58,
          37,
          54,
          49,
          50,
          26,
          45,
          54,
          28,
          23,
          55,
          41,
          30,
          46,
          27,
          63,
          55,
          35,
          34,
          19,
          39,
          27,
          57,
          52,
          28,
          50,
          44,
          26,
          33,
          50,
          41,
          52,
          39,
          50,
          52,
          20,
          55,
          42,
          18,
          58,
          35,
          48,
          36,
          23,
          20,
          32,
          43,
          34,
          30,
          18,
          41,
          35,
          57,
          29,
          32,
          37,
          56,
          38,
          29,
          22,
          40,
          23,
          42,
          24,
          25,
          48,
          45,
          62,
          23,
          31,
          41,
          58,
          48,
          31,
          19,
          41,
          40,
          31,
          37,
          46,
          22,
          51,
          35,
          59,
          59,
          36,
          39,
          18,
          52,
          27,
          18,
          40,
          29,
          38,
          30,
          40,
          50,
          41,
          33,
          38,
          42,
          56,
          58,
          54,
          58,
          45,
          26,
          63,
          58,
          37,
          25,
          22,
          28,
          18,
          28,
          45,
          33,
          18,
          19,
          40,
          34,
          42,
          51,
          54,
          55,
          52,
          32,
          28,
          41,
          43,
          49,
          55,
          20,
          45,
          26,
          25,
          43,
          35,
          57,
          22,
          32,
          25,
          48,
          18,
          47,
          28,
          36,
          44,
          38,
          21,
          46,
          58,
          20,
          18,
          28,
          33,
          19,
          25,
          24,
          41,
          42,
          33,
          34,
          18,
          19,
          18,
          35,
          39,
          31,
          62,
          31,
          61,
          42,
          51,
          23,
          52,
          57,
          23,
          52,
          50,
          18,
          18,
          21
         ],
         "xaxis": "x",
         "y": [
          1725.5523,
          4449.462,
          21984.47061,
          3866.8552,
          3756.6216,
          8240.5896,
          7281.5056,
          6406.4107,
          28923.13692,
          2721.3208,
          1826.843,
          11090.7178,
          1837.237,
          10797.3362,
          2395.17155,
          10602.385,
          13228.84695,
          4149.736,
          1137.011,
          6203.90175,
          14001.1338,
          14451.83515,
          12268.63225,
          2775.19215,
          2198.18985,
          4687.797,
          13770.0979,
          1625.43375,
          15612.19335,
          2302.3,
          3046.062,
          4949.7587,
          6272.4772,
          6313.759,
          6079.6715,
          20630.28351,
          3393.35635,
          3556.9223,
          12629.8967,
          2211.13075,
          3579.8287,
          8059.6791,
          13607.36875,
          5989.52365,
          8606.2174,
          4504.6624,
          30166.61817,
          4133.64165,
          1743.214,
          14235.072,
          6389.37785,
          5920.1041,
          6799.458,
          11741.726,
          11946.6259,
          7726.854,
          11356.6609,
          3947.4131,
          1532.4697,
          2755.02095,
          6571.02435,
          4441.21315,
          7935.29115,
          11033.6617,
          11073.176,
          8026.6666,
          11082.5772,
          2026.9741,
          10942.13205,
          5729.0053,
          3766.8838,
          12105.32,
          10226.2842,
          6186.127,
          3645.0894,
          21344.8467,
          5003.853,
          2331.519,
          3877.30425,
          2867.1196,
          10825.2537,
          11881.358,
          4646.759,
          2404.7338,
          11488.31695,
          30259.99556,
          11381.3254,
          8601.3293,
          6686.4313,
          7740.337,
          1705.6245,
          2257.47525,
          10115.00885,
          3385.39915,
          9634.538,
          6082.405,
          12815.44495,
          13616.3586,
          11163.568,
          1632.56445,
          2457.21115,
          2155.6815,
          1261.442,
          2045.68525,
          27322.73386,
          2166.732,
          27375.90478,
          3490.5491,
          18157.876,
          5138.2567,
          9877.6077,
          10959.6947,
          1842.519,
          5125.2157,
          7789.635,
          6334.34355,
          7077.1894,
          6948.7008,
          19749.38338,
          10450.552,
          5152.134,
          5028.1466,
          10407.08585,
          4830.63,
          6128.79745,
          2719.27975,
          4827.90495,
          13405.3903,
          8116.68,
          1694.7964,
          5246.047,
          2855.43755,
          6455.86265,
          10436.096,
          8823.279,
          8538.28845,
          11735.87905,
          1631.8212,
          4005.4225,
          7419.4779,
          7731.4271,
          3981.9768,
          5325.651,
          6775.961,
          4922.9159,
          12557.6053,
          4883.866,
          2137.6536,
          12044.342,
          1137.4697,
          1639.5631,
          5649.715,
          8516.829,
          9644.2525,
          14901.5167,
          2130.6759,
          8871.1517,
          13012.20865,
          7147.105,
          4337.7352,
          11743.299,
          13880.949,
          6610.1097,
          1980.07,
          8162.71625,
          3537.703,
          5002.7827,
          8520.026,
          7371.772,
          10355.641,
          2483.736,
          3392.9768,
          25081.76784,
          5012.471,
          10564.8845,
          5253.524,
          11987.1682,
          2689.4954,
          24227.33724,
          7358.17565,
          9225.2564,
          7443.64305,
          14001.2867,
          1727.785,
          12333.828,
          6710.1919,
          1615.7667,
          4463.2051,
          7152.6714,
          5354.07465,
          35160.13457,
          7196.867,
          24476.47851,
          12648.7034,
          1986.9334,
          1832.094,
          4040.55825,
          4260.744,
          13047.33235,
          5400.9805,
          11520.09985,
          11837.16,
          20462.99766,
          14590.63205,
          7441.053,
          9282.4806,
          1719.4363,
          7265.7025,
          9617.66245,
          2523.1695,
          9715.841,
          2803.69785,
          2150.469,
          12928.7911,
          9855.1314,
          4237.12655,
          11879.10405,
          9625.92,
          7742.1098,
          9432.9253,
          14256.1928,
          25992.82104,
          3172.018,
          20277.80751,
          2156.7518,
          3906.127,
          1704.5681,
          9249.4952,
          6746.7425,
          12265.5069,
          4349.462,
          12646.207,
          19442.3535,
          20177.67113,
          4151.0287,
          11944.59435,
          7749.1564,
          8444.474,
          1737.376,
          8124.4084,
          9722.7695,
          8835.26495,
          10435.06525,
          7421.19455,
          4667.60765,
          4894.7533,
          24671.66334,
          11566.30055,
          2866.091,
          6600.20595,
          3561.8889,
          9144.565,
          13429.0354,
          11658.37915,
          19144.57652,
          13822.803,
          12142.5786,
          13937.6665,
          8232.6388,
          18955.22017,
          13352.0998,
          13217.0945,
          13981.85035,
          10977.2063,
          6184.2994,
          4889.9995,
          8334.45755,
          5478.0368,
          1635.73365,
          11830.6072,
          8932.084,
          3554.203,
          12404.8791,
          14133.03775,
          24603.04837,
          8944.1151,
          9620.3307,
          1837.2819,
          1607.5101,
          10043.249,
          4751.07,
          2597.779,
          3180.5101,
          9778.3472,
          13430.265,
          8017.06115,
          8116.26885,
          3481.868,
          13415.0381,
          12029.2867,
          7639.41745,
          1391.5287,
          16455.70785,
          27000.98473,
          20781.48892,
          5846.9176,
          8302.53565,
          1261.859,
          11856.4115,
          30284.64294,
          3176.8159,
          4618.0799,
          10736.87075,
          2138.0707,
          8964.06055,
          9290.1395,
          9411.005,
          7526.70645,
          8522.003,
          16586.49771,
          14988.432,
          1631.6683,
          9264.797,
          8083.9198,
          14692.66935,
          10269.46,
          3260.199,
          11396.9002,
          4185.0979,
          8539.671,
          6652.5288,
          4074.4537,
          1621.3402,
          5080.096,
          2134.9015,
          7345.7266,
          9140.951,
          14418.2804,
          2727.3951,
          8968.33,
          9788.8659,
          6555.07035,
          7323.734819,
          3167.45585,
          18804.7524,
          23082.95533,
          4906.40965,
          5969.723,
          12638.195,
          4243.59005,
          13919.8229,
          2254.7967,
          5926.846,
          12592.5345,
          2897.3235,
          4738.2682,
          1149.3959,
          28287.89766,
          7345.084,
          12730.9996,
          11454.0215,
          5910.944,
          4762.329,
          7512.267,
          4032.2407,
          1969.614,
          1769.53165,
          4686.3887,
          21797.0004,
          11881.9696,
          11840.77505,
          10601.412,
          7682.67,
          10381.4787,
          15230.32405,
          11165.41765,
          1632.03625,
          13224.693,
          12643.3778,
          23288.9284,
          2201.0971,
          2497.0383,
          2203.47185,
          1744.465,
          20878.78443,
          2534.39375,
          1534.3045,
          1824.2854,
          15555.18875,
          9304.7019,
          1622.1885,
          9880.068,
          9563.029,
          4347.02335,
          12475.3513,
          1253.936,
          10461.9794,
          1748.774,
          24513.09126,
          2196.4732,
          12574.049,
          1967.0227,
          4931.647,
          8027.968,
          8211.1002,
          13470.86,
          6837.3687,
          5974.3847,
          6796.86325,
          2643.2685,
          3077.0955,
          3044.2133,
          11455.28,
          11763.0009,
          2498.4144,
          9361.3268,
          1256.299,
          11362.755,
          27724.28875,
          8413.46305,
          5240.765,
          3857.75925,
          25656.57526,
          3994.1778,
          9866.30485,
          5397.6167,
          11482.63485,
          24059.68019,
          9861.025,
          8342.90875,
          1708.0014,
          14043.4767,
          12925.886,
          19214.70553,
          13831.1152,
          6067.12675,
          5972.378,
          8825.086,
          8233.0975,
          27346.04207,
          6196.448,
          3056.3881,
          13887.204,
          10231.4999,
          3268.84665,
          11538.421,
          3213.62205,
          13390.559,
          3972.9247,
          12957.118,
          11187.6567,
          17878.90068,
          3847.674,
          8334.5896,
          3935.1799,
          1646.4297,
          9193.8385,
          10923.9332,
          2494.022,
          9058.7303,
          2801.2588,
          2128.43105,
          6373.55735,
          7256.7231,
          11552.904,
          3761.292,
          2219.4451,
          4753.6368,
          31620.00106,
          13224.05705,
          12222.8983,
          1664.9996,
          9724.53,
          3206.49135,
          12913.9924,
          1639.5631,
          6356.2707,
          17626.23951,
          1242.816,
          4779.6023,
          3861.20965,
          13635.6379,
          5976.8311,
          11842.442,
          8428.0693,
          2566.4707,
          5709.1644,
          8823.98575,
          7640.3092,
          5594.8455,
          7441.501,
          33471.97189,
          1633.0444,
          9174.13565,
          11070.535,
          16085.1275,
          9283.562,
          3558.62025,
          4435.0942,
          8547.6913,
          6571.544,
          2207.69745,
          6753.038,
          1880.07,
          11658.11505,
          10713.644,
          3659.346,
          9182.17,
          12129.61415,
          3736.4647,
          6748.5912,
          11326.71487,
          11365.952,
          10085.846,
          1977.815,
          3366.6697,
          7173.35995,
          9391.346,
          14410.9321,
          2709.1119,
          24915.04626,
          12949.1554,
          6666.243,
          13143.86485,
          4466.6214,
          18806.14547,
          10141.1362,
          6123.5688,
          8252.2843,
          1712.227,
          12430.95335,
          9800.8882,
          10579.711,
          8280.6227,
          8527.532,
          12244.531,
          3410.324,
          4058.71245,
          26392.26029,
          14394.39815,
          6435.6237,
          22192.43711,
          5148.5526,
          1136.3994,
          8703.456,
          6500.2359,
          4837.5823,
          3943.5954,
          4399.731,
          6185.3208,
          7222.78625,
          12485.8009,
          12363.547,
          10156.7832,
          2585.269,
          1242.26,
          9863.4718,
          4766.022,
          11244.3769,
          7729.64575,
          5438.7491,
          26236.57997,
          2104.1134,
          8068.185,
          2362.22905,
          2352.96845,
          3577.999,
          3201.24515,
          29186.48236,
          10976.24575,
          3500.6123,
          2020.5523,
          9541.69555,
          9504.3103,
          5385.3379,
          8930.93455,
          5375.038,
          10264.4421,
          6113.23105,
          5469.0066,
          1727.54,
          10107.2206,
          8310.83915,
          1984.4533,
          2457.502,
          12146.971,
          9566.9909,
          13112.6048,
          10848.1343,
          12231.6136,
          9875.6804,
          11264.541,
          12979.358,
          1263.249,
          10106.13425,
          6664.68595,
          2217.6012,
          6781.3542,
          10065.413,
          4234.927,
          9447.25035,
          14007.222,
          9583.8933,
          3484.331,
          8604.48365,
          3757.8448,
          8827.2099,
          9910.35985,
          11737.84884,
          1627.28245,
          8556.907,
          3062.50825,
          1906.35825,
          14210.53595,
          11833.7823,
          17128.42608,
          5031.26955,
          7985.815,
          5428.7277,
          3925.7582,
          2416.955,
          3070.8087,
          9095.06825,
          11842.62375,
          8062.764,
          7050.642,
          14319.031,
          6933.24225,
          27941.28758,
          11150.78,
          12797.20962,
          7261.741,
          10560.4917,
          6986.697,
          7448.40395,
          5934.3798,
          9869.8102,
          1146.7966,
          9386.1613,
          4350.5144,
          6414.178,
          12741.16745,
          1917.3184,
          5209.57885,
          13457.9608,
          5662.225,
          1252.407,
          2731.9122,
          7209.4918,
          4266.1658,
          4719.52405,
          11848.141,
          7046.7222,
          14313.8463,
          2103.08,
          1815.8759,
          7731.85785,
          28476.73499,
          2136.88225,
          1131.5066,
          3309.7926,
          9414.92,
          6360.9936,
          11013.7119,
          4428.88785,
          5584.3057,
          1877.9294,
          2842.76075,
          3597.596,
          7445.918,
          2680.9493,
          1621.8827,
          8219.2039,
          12523.6048,
          16069.08475,
          6117.4945,
          13393.756,
          5266.3656,
          4719.73655,
          11743.9341,
          5377.4578,
          7160.3303,
          4402.233,
          11657.7189,
          6402.29135,
          12622.1795,
          1526.312,
          12323.936,
          10072.05505,
          9872.701,
          2438.0552,
          2974.126,
          10601.63225,
          14119.62,
          11729.6795,
          1875.344,
          18218.16139,
          10965.446,
          7151.092,
          12269.68865,
          5458.04645,
          8782.469,
          6600.361,
          1141.4451,
          11576.13,
          13129.60345,
          4391.652,
          8457.818,
          3392.3652,
          5966.8874,
          6849.026,
          8891.1395,
          2690.1138,
          26140.3603,
          6653.7886,
          6282.235,
          6311.952,
          3443.064,
          2789.0574,
          2585.85065,
          4877.98105,
          5272.1758,
          1682.597,
          11945.1327,
          7243.8136,
          10422.91665,
          13555.0049,
          13063.883,
          2221.56445,
          1634.5734,
          2117.33885,
          8688.85885,
          4661.28635,
          8125.7845,
          12644.589,
          4564.19145,
          4846.92015,
          7633.7206,
          15170.069,
          2639.0429,
          14382.70905,
          7626.993,
          5257.50795,
          2473.3341,
          13041.921,
          5245.2269,
          13451.122,
          13462.52,
          5488.262,
          4320.41085,
          6250.435,
          25333.33284,
          2913.569,
          12032.326,
          13470.8044,
          6289.7549,
          2927.0647,
          6238.298,
          10096.97,
          7348.142,
          4673.3922,
          12233.828,
          32108.66282,
          8965.79575,
          2304.0022,
          9487.6442,
          1121.8739,
          9549.5651,
          2217.46915,
          1628.4709,
          12982.8747,
          11674.13,
          7160.094,
          6358.77645,
          11534.87265,
          4527.18295,
          3875.7341,
          12609.88702,
          28468.91901,
          2730.10785,
          3353.284,
          14474.675,
          9500.57305,
          26467.09737,
          4746.344,
          7518.02535,
          3279.86855,
          8596.8278,
          10702.6424,
          4992.3764,
          2527.81865,
          1759.338,
          2322.6218,
          7804.1605,
          2902.9065,
          9704.66805,
          4889.0368,
          25517.11363,
          4500.33925,
          16796.41194,
          4915.05985,
          7624.63,
          8410.04685,
          28340.18885,
          4518.82625,
          3378.91,
          7144.86265,
          10118.424,
          5484.4673,
          7986.47525,
          7418.522,
          13887.9685,
          6551.7501,
          5267.81815,
          1972.95,
          21232.18226,
          8627.5411,
          4433.3877,
          4438.2634,
          23241.47453,
          9957.7216,
          8269.044,
          36580.28216,
          8765.249,
          5383.536,
          12124.9924,
          2709.24395,
          3987.926,
          12495.29085,
          26018.95052,
          8798.593,
          1711.0268,
          8569.8618,
          2020.177,
          21595.38229,
          9850.432,
          6877.9801,
          4137.5227,
          12950.0712,
          12094.478,
          2250.8352,
          22493.65964,
          1704.70015,
          3161.454,
          11394.06555,
          7325.0482,
          3594.17085,
          8023.13545,
          14394.5579,
          9288.0267,
          3353.4703,
          10594.50155,
          8277.523,
          17929.30337,
          2480.9791,
          4462.7218,
          1981.5819,
          11554.2236,
          6548.19505,
          5708.867,
          7045.499,
          8978.1851,
          5757.41345,
          14349.8544,
          10928.849,
          13974.45555,
          1909.52745,
          12096.6512,
          13204.28565,
          4562.8421,
          8551.347,
          2102.2647,
          15161.5344,
          11884.04858,
          4454.40265,
          5855.9025,
          4076.497,
          15019.76005,
          10796.35025,
          11353.2276,
          9748.9106,
          10577.087,
          11286.5387,
          3591.48,
          11299.343,
          4561.1885,
          1674.6323,
          23045.56616,
          3227.1211,
          11253.421,
          3471.4096,
          11363.2832,
          20420.60465,
          10338.9316,
          8988.15875,
          10493.9458,
          2904.088,
          8605.3615,
          11512.405,
          5312.16985,
          2396.0959,
          10807.4863,
          9222.4026,
          5693.4305,
          8347.1643,
          18903.49141,
          14254.6082,
          10214.636,
          5836.5204,
          14358.36437,
          1728.897,
          8582.3023,
          3693.428,
          20709.02034,
          9991.03765,
          19673.33573,
          11085.5868,
          7623.518,
          3176.2877,
          3704.3545,
          9048.0273,
          7954.517,
          27117.99378,
          6338.0756,
          9630.397,
          11289.10925,
          2261.5688,
          10791.96,
          5979.731,
          2203.73595,
          12235.8392,
          5630.45785,
          11015.1747,
          7228.21565,
          14426.07385,
          2459.7201,
          3989.841,
          7727.2532,
          5124.1887,
          18963.17192,
          2200.83085,
          7153.5539,
          5227.98875,
          10982.5013,
          4529.477,
          4670.64,
          6112.35295,
          11093.6229,
          6457.8434,
          4433.9159,
          2154.361,
          6496.886,
          2899.48935,
          7650.77375,
          2850.68375,
          2632.992,
          9447.3824,
          8603.8234,
          13844.7972,
          13126.67745,
          5327.40025,
          13725.47184,
          13019.16105,
          8671.19125,
          4134.08245,
          18838.70366,
          5699.8375,
          6393.60345,
          4934.705,
          6198.7518,
          8733.22925,
          2055.3249,
          9964.06,
          5116.5004,
          36910.60803,
          12347.172,
          5373.36425,
          23563.01618,
          1702.4553,
          10806.839,
          3956.07145,
          12890.05765,
          5415.6612,
          4058.1161,
          7537.1639,
          4718.20355,
          6593.5083,
          8442.667,
          6858.4796,
          4795.6568,
          6640.54485,
          7162.0122,
          10594.2257,
          11938.25595,
          12479.70895,
          11345.519,
          8515.7587,
          2699.56835,
          14449.8544,
          12224.35085,
          6985.50695,
          3238.4357,
          4296.2712,
          3171.6149,
          1135.9407,
          5615.369,
          9101.798,
          6059.173,
          1633.9618,
          1241.565,
          15828.82173,
          4415.1588,
          6474.013,
          11436.73815,
          11305.93455,
          30063.58055,
          10197.7722,
          4544.2348,
          3277.161,
          6770.1925,
          7337.748,
          10370.91255,
          10704.47,
          1880.487,
          8615.3,
          3292.52985,
          3021.80915,
          14478.33015,
          4747.0529,
          10959.33,
          2741.948,
          4357.04365,
          4189.1131,
          8283.6807,
          1720.3537,
          8534.6718,
          3732.6251,
          5472.449,
          7147.4728,
          7133.9025,
          1515.3449,
          9301.89355,
          11931.12525,
          1964.78,
          1708.92575,
          4340.4409,
          5261.46945,
          2710.82855,
          3208.787,
          2464.6188,
          6875.961,
          6940.90985,
          4571.41305,
          4536.259,
          11272.33139,
          1731.677,
          1163.4627,
          19496.71917,
          7201.70085,
          5425.02335,
          12981.3457,
          4239.89265,
          13143.33665,
          7050.0213,
          9377.9047,
          22395.74424,
          10325.206,
          12629.1656,
          10795.93733,
          11411.685,
          10600.5483,
          2205.9808,
          1629.8335,
          2007.945
         ],
         "yaxis": "y"
        }
       ],
       "layout": {
        "legend": {
         "title": {
          "text": "smoker"
         },
         "tracegroupgap": 0
        },
        "template": {
         "data": {
          "bar": [
           {
            "error_x": {
             "color": "#2a3f5f"
            },
            "error_y": {
             "color": "#2a3f5f"
            },
            "marker": {
             "line": {
              "color": "#E5ECF6",
              "width": 0.5
             },
             "pattern": {
              "fillmode": "overlay",
              "size": 10,
              "solidity": 0.2
             }
            },
            "type": "bar"
           }
          ],
          "barpolar": [
           {
            "marker": {
             "line": {
              "color": "#E5ECF6",
              "width": 0.5
             },
             "pattern": {
              "fillmode": "overlay",
              "size": 10,
              "solidity": 0.2
             }
            },
            "type": "barpolar"
           }
          ],
          "carpet": [
           {
            "aaxis": {
             "endlinecolor": "#2a3f5f",
             "gridcolor": "white",
             "linecolor": "white",
             "minorgridcolor": "white",
             "startlinecolor": "#2a3f5f"
            },
            "baxis": {
             "endlinecolor": "#2a3f5f",
             "gridcolor": "white",
             "linecolor": "white",
             "minorgridcolor": "white",
             "startlinecolor": "#2a3f5f"
            },
            "type": "carpet"
           }
          ],
          "choropleth": [
           {
            "colorbar": {
             "outlinewidth": 0,
             "ticks": ""
            },
            "type": "choropleth"
           }
          ],
          "contour": [
           {
            "colorbar": {
             "outlinewidth": 0,
             "ticks": ""
            },
            "colorscale": [
             [
              0,
              "#0d0887"
             ],
             [
              0.1111111111111111,
              "#46039f"
             ],
             [
              0.2222222222222222,
              "#7201a8"
             ],
             [
              0.3333333333333333,
              "#9c179e"
             ],
             [
              0.4444444444444444,
              "#bd3786"
             ],
             [
              0.5555555555555556,
              "#d8576b"
             ],
             [
              0.6666666666666666,
              "#ed7953"
             ],
             [
              0.7777777777777778,
              "#fb9f3a"
             ],
             [
              0.8888888888888888,
              "#fdca26"
             ],
             [
              1,
              "#f0f921"
             ]
            ],
            "type": "contour"
           }
          ],
          "contourcarpet": [
           {
            "colorbar": {
             "outlinewidth": 0,
             "ticks": ""
            },
            "type": "contourcarpet"
           }
          ],
          "heatmap": [
           {
            "colorbar": {
             "outlinewidth": 0,
             "ticks": ""
            },
            "colorscale": [
             [
              0,
              "#0d0887"
             ],
             [
              0.1111111111111111,
              "#46039f"
             ],
             [
              0.2222222222222222,
              "#7201a8"
             ],
             [
              0.3333333333333333,
              "#9c179e"
             ],
             [
              0.4444444444444444,
              "#bd3786"
             ],
             [
              0.5555555555555556,
              "#d8576b"
             ],
             [
              0.6666666666666666,
              "#ed7953"
             ],
             [
              0.7777777777777778,
              "#fb9f3a"
             ],
             [
              0.8888888888888888,
              "#fdca26"
             ],
             [
              1,
              "#f0f921"
             ]
            ],
            "type": "heatmap"
           }
          ],
          "heatmapgl": [
           {
            "colorbar": {
             "outlinewidth": 0,
             "ticks": ""
            },
            "colorscale": [
             [
              0,
              "#0d0887"
             ],
             [
              0.1111111111111111,
              "#46039f"
             ],
             [
              0.2222222222222222,
              "#7201a8"
             ],
             [
              0.3333333333333333,
              "#9c179e"
             ],
             [
              0.4444444444444444,
              "#bd3786"
             ],
             [
              0.5555555555555556,
              "#d8576b"
             ],
             [
              0.6666666666666666,
              "#ed7953"
             ],
             [
              0.7777777777777778,
              "#fb9f3a"
             ],
             [
              0.8888888888888888,
              "#fdca26"
             ],
             [
              1,
              "#f0f921"
             ]
            ],
            "type": "heatmapgl"
           }
          ],
          "histogram": [
           {
            "marker": {
             "pattern": {
              "fillmode": "overlay",
              "size": 10,
              "solidity": 0.2
             }
            },
            "type": "histogram"
           }
          ],
          "histogram2d": [
           {
            "colorbar": {
             "outlinewidth": 0,
             "ticks": ""
            },
            "colorscale": [
             [
              0,
              "#0d0887"
             ],
             [
              0.1111111111111111,
              "#46039f"
             ],
             [
              0.2222222222222222,
              "#7201a8"
             ],
             [
              0.3333333333333333,
              "#9c179e"
             ],
             [
              0.4444444444444444,
              "#bd3786"
             ],
             [
              0.5555555555555556,
              "#d8576b"
             ],
             [
              0.6666666666666666,
              "#ed7953"
             ],
             [
              0.7777777777777778,
              "#fb9f3a"
             ],
             [
              0.8888888888888888,
              "#fdca26"
             ],
             [
              1,
              "#f0f921"
             ]
            ],
            "type": "histogram2d"
           }
          ],
          "histogram2dcontour": [
           {
            "colorbar": {
             "outlinewidth": 0,
             "ticks": ""
            },
            "colorscale": [
             [
              0,
              "#0d0887"
             ],
             [
              0.1111111111111111,
              "#46039f"
             ],
             [
              0.2222222222222222,
              "#7201a8"
             ],
             [
              0.3333333333333333,
              "#9c179e"
             ],
             [
              0.4444444444444444,
              "#bd3786"
             ],
             [
              0.5555555555555556,
              "#d8576b"
             ],
             [
              0.6666666666666666,
              "#ed7953"
             ],
             [
              0.7777777777777778,
              "#fb9f3a"
             ],
             [
              0.8888888888888888,
              "#fdca26"
             ],
             [
              1,
              "#f0f921"
             ]
            ],
            "type": "histogram2dcontour"
           }
          ],
          "mesh3d": [
           {
            "colorbar": {
             "outlinewidth": 0,
             "ticks": ""
            },
            "type": "mesh3d"
           }
          ],
          "parcoords": [
           {
            "line": {
             "colorbar": {
              "outlinewidth": 0,
              "ticks": ""
             }
            },
            "type": "parcoords"
           }
          ],
          "pie": [
           {
            "automargin": true,
            "type": "pie"
           }
          ],
          "scatter": [
           {
            "fillpattern": {
             "fillmode": "overlay",
             "size": 10,
             "solidity": 0.2
            },
            "type": "scatter"
           }
          ],
          "scatter3d": [
           {
            "line": {
             "colorbar": {
              "outlinewidth": 0,
              "ticks": ""
             }
            },
            "marker": {
             "colorbar": {
              "outlinewidth": 0,
              "ticks": ""
             }
            },
            "type": "scatter3d"
           }
          ],
          "scattercarpet": [
           {
            "marker": {
             "colorbar": {
              "outlinewidth": 0,
              "ticks": ""
             }
            },
            "type": "scattercarpet"
           }
          ],
          "scattergeo": [
           {
            "marker": {
             "colorbar": {
              "outlinewidth": 0,
              "ticks": ""
             }
            },
            "type": "scattergeo"
           }
          ],
          "scattergl": [
           {
            "marker": {
             "colorbar": {
              "outlinewidth": 0,
              "ticks": ""
             }
            },
            "type": "scattergl"
           }
          ],
          "scattermapbox": [
           {
            "marker": {
             "colorbar": {
              "outlinewidth": 0,
              "ticks": ""
             }
            },
            "type": "scattermapbox"
           }
          ],
          "scatterpolar": [
           {
            "marker": {
             "colorbar": {
              "outlinewidth": 0,
              "ticks": ""
             }
            },
            "type": "scatterpolar"
           }
          ],
          "scatterpolargl": [
           {
            "marker": {
             "colorbar": {
              "outlinewidth": 0,
              "ticks": ""
             }
            },
            "type": "scatterpolargl"
           }
          ],
          "scatterternary": [
           {
            "marker": {
             "colorbar": {
              "outlinewidth": 0,
              "ticks": ""
             }
            },
            "type": "scatterternary"
           }
          ],
          "surface": [
           {
            "colorbar": {
             "outlinewidth": 0,
             "ticks": ""
            },
            "colorscale": [
             [
              0,
              "#0d0887"
             ],
             [
              0.1111111111111111,
              "#46039f"
             ],
             [
              0.2222222222222222,
              "#7201a8"
             ],
             [
              0.3333333333333333,
              "#9c179e"
             ],
             [
              0.4444444444444444,
              "#bd3786"
             ],
             [
              0.5555555555555556,
              "#d8576b"
             ],
             [
              0.6666666666666666,
              "#ed7953"
             ],
             [
              0.7777777777777778,
              "#fb9f3a"
             ],
             [
              0.8888888888888888,
              "#fdca26"
             ],
             [
              1,
              "#f0f921"
             ]
            ],
            "type": "surface"
           }
          ],
          "table": [
           {
            "cells": {
             "fill": {
              "color": "#EBF0F8"
             },
             "line": {
              "color": "white"
             }
            },
            "header": {
             "fill": {
              "color": "#C8D4E3"
             },
             "line": {
              "color": "white"
             }
            },
            "type": "table"
           }
          ]
         },
         "layout": {
          "annotationdefaults": {
           "arrowcolor": "#2a3f5f",
           "arrowhead": 0,
           "arrowwidth": 1
          },
          "autotypenumbers": "strict",
          "coloraxis": {
           "colorbar": {
            "outlinewidth": 0,
            "ticks": ""
           }
          },
          "colorscale": {
           "diverging": [
            [
             0,
             "#8e0152"
            ],
            [
             0.1,
             "#c51b7d"
            ],
            [
             0.2,
             "#de77ae"
            ],
            [
             0.3,
             "#f1b6da"
            ],
            [
             0.4,
             "#fde0ef"
            ],
            [
             0.5,
             "#f7f7f7"
            ],
            [
             0.6,
             "#e6f5d0"
            ],
            [
             0.7,
             "#b8e186"
            ],
            [
             0.8,
             "#7fbc41"
            ],
            [
             0.9,
             "#4d9221"
            ],
            [
             1,
             "#276419"
            ]
           ],
           "sequential": [
            [
             0,
             "#0d0887"
            ],
            [
             0.1111111111111111,
             "#46039f"
            ],
            [
             0.2222222222222222,
             "#7201a8"
            ],
            [
             0.3333333333333333,
             "#9c179e"
            ],
            [
             0.4444444444444444,
             "#bd3786"
            ],
            [
             0.5555555555555556,
             "#d8576b"
            ],
            [
             0.6666666666666666,
             "#ed7953"
            ],
            [
             0.7777777777777778,
             "#fb9f3a"
            ],
            [
             0.8888888888888888,
             "#fdca26"
            ],
            [
             1,
             "#f0f921"
            ]
           ],
           "sequentialminus": [
            [
             0,
             "#0d0887"
            ],
            [
             0.1111111111111111,
             "#46039f"
            ],
            [
             0.2222222222222222,
             "#7201a8"
            ],
            [
             0.3333333333333333,
             "#9c179e"
            ],
            [
             0.4444444444444444,
             "#bd3786"
            ],
            [
             0.5555555555555556,
             "#d8576b"
            ],
            [
             0.6666666666666666,
             "#ed7953"
            ],
            [
             0.7777777777777778,
             "#fb9f3a"
            ],
            [
             0.8888888888888888,
             "#fdca26"
            ],
            [
             1,
             "#f0f921"
            ]
           ]
          },
          "colorway": [
           "#636efa",
           "#EF553B",
           "#00cc96",
           "#ab63fa",
           "#FFA15A",
           "#19d3f3",
           "#FF6692",
           "#B6E880",
           "#FF97FF",
           "#FECB52"
          ],
          "font": {
           "color": "#2a3f5f"
          },
          "geo": {
           "bgcolor": "white",
           "lakecolor": "white",
           "landcolor": "#E5ECF6",
           "showlakes": true,
           "showland": true,
           "subunitcolor": "white"
          },
          "hoverlabel": {
           "align": "left"
          },
          "hovermode": "closest",
          "mapbox": {
           "style": "light"
          },
          "paper_bgcolor": "white",
          "plot_bgcolor": "#E5ECF6",
          "polar": {
           "angularaxis": {
            "gridcolor": "white",
            "linecolor": "white",
            "ticks": ""
           },
           "bgcolor": "#E5ECF6",
           "radialaxis": {
            "gridcolor": "white",
            "linecolor": "white",
            "ticks": ""
           }
          },
          "scene": {
           "xaxis": {
            "backgroundcolor": "#E5ECF6",
            "gridcolor": "white",
            "gridwidth": 2,
            "linecolor": "white",
            "showbackground": true,
            "ticks": "",
            "zerolinecolor": "white"
           },
           "yaxis": {
            "backgroundcolor": "#E5ECF6",
            "gridcolor": "white",
            "gridwidth": 2,
            "linecolor": "white",
            "showbackground": true,
            "ticks": "",
            "zerolinecolor": "white"
           },
           "zaxis": {
            "backgroundcolor": "#E5ECF6",
            "gridcolor": "white",
            "gridwidth": 2,
            "linecolor": "white",
            "showbackground": true,
            "ticks": "",
            "zerolinecolor": "white"
           }
          },
          "shapedefaults": {
           "line": {
            "color": "#2a3f5f"
           }
          },
          "ternary": {
           "aaxis": {
            "gridcolor": "white",
            "linecolor": "white",
            "ticks": ""
           },
           "baxis": {
            "gridcolor": "white",
            "linecolor": "white",
            "ticks": ""
           },
           "bgcolor": "#E5ECF6",
           "caxis": {
            "gridcolor": "white",
            "linecolor": "white",
            "ticks": ""
           }
          },
          "title": {
           "x": 0.05
          },
          "xaxis": {
           "automargin": true,
           "gridcolor": "white",
           "linecolor": "white",
           "ticks": "",
           "title": {
            "standoff": 15
           },
           "zerolinecolor": "white",
           "zerolinewidth": 2
          },
          "yaxis": {
           "automargin": true,
           "gridcolor": "white",
           "linecolor": "white",
           "ticks": "",
           "title": {
            "standoff": 15
           },
           "zerolinecolor": "white",
           "zerolinewidth": 2
          }
         }
        },
        "title": {
         "text": "Age vs. Charges"
        },
        "xaxis": {
         "anchor": "y",
         "domain": [
          0,
          1
         ],
         "title": {
          "text": "age"
         }
        },
        "yaxis": {
         "anchor": "x",
         "domain": [
          0,
          1
         ],
         "title": {
          "text": "charges"
         }
        }
       }
      },
      "text/html": [
       "<div>                            <div id=\"9a2ed26c-0187-42a0-bb56-98c2d99dea30\" class=\"plotly-graph-div\" style=\"height:525px; width:100%;\"></div>            <script type=\"text/javascript\">                require([\"plotly\"], function(Plotly) {                    window.PLOTLYENV=window.PLOTLYENV || {};                                    if (document.getElementById(\"9a2ed26c-0187-42a0-bb56-98c2d99dea30\")) {                    Plotly.newPlot(                        \"9a2ed26c-0187-42a0-bb56-98c2d99dea30\",                        [{\"customdata\":[[\"female\"],[\"female\"],[\"male\"],[\"male\"],[\"female\"],[\"male\"],[\"male\"],[\"male\"],[\"male\"],[\"male\"],[\"male\"],[\"male\"],[\"male\"],[\"male\"],[\"male\"],[\"female\"],[\"female\"],[\"male\"],[\"female\"],[\"male\"],[\"female\"],[\"male\"],[\"female\"],[\"male\"],[\"female\"],[\"male\"],[\"male\"],[\"female\"],[\"male\"],[\"male\"],[\"female\"],[\"male\"],[\"female\"],[\"female\"],[\"male\"],[\"male\"],[\"male\"],[\"female\"],[\"male\"],[\"male\"],[\"male\"],[\"female\"],[\"female\"],[\"female\"],[\"male\"],[\"female\"],[\"male\"],[\"male\"],[\"male\"],[\"female\"],[\"male\"],[\"female\"],[\"female\"],[\"male\"],[\"female\"],[\"male\"],[\"male\"],[\"male\"],[\"male\"],[\"female\"],[\"male\"],[\"male\"],[\"male\"],[\"male\"],[\"male\"],[\"female\"],[\"male\"],[\"female\"],[\"male\"],[\"male\"],[\"male\"],[\"male\"],[\"female\"],[\"male\"],[\"female\"],[\"male\"],[\"male\"],[\"female\"],[\"female\"],[\"male\"],[\"male\"],[\"female\"],[\"male\"],[\"female\"],[\"female\"],[\"male\"],[\"female\"],[\"male\"],[\"female\"],[\"female\"],[\"female\"],[\"female\"],[\"male\"],[\"male\"],[\"male\"],[\"female\"],[\"male\"],[\"male\"],[\"female\"],[\"male\"],[\"male\"],[\"male\"],[\"female\"],[\"male\"],[\"male\"],[\"male\"],[\"male\"],[\"male\"],[\"male\"],[\"male\"],[\"female\"],[\"male\"],[\"female\"],[\"female\"],[\"male\"],[\"female\"],[\"female\"],[\"female\"],[\"female\"],[\"female\"],[\"male\"],[\"female\"],[\"male\"],[\"female\"],[\"male\"],[\"male\"],[\"female\"],[\"male\"],[\"male\"],[\"female\"],[\"female\"],[\"male\"],[\"female\"],[\"male\"],[\"female\"],[\"male\"],[\"male\"],[\"male\"],[\"male\"],[\"female\"],[\"female\"],[\"female\"],[\"male\"],[\"female\"],[\"male\"],[\"male\"],[\"male\"],[\"male\"],[\"female\"],[\"female\"],[\"male\"],[\"male\"],[\"female\"],[\"male\"],[\"female\"],[\"male\"],[\"male\"],[\"male\"],[\"female\"],[\"female\"],[\"female\"],[\"male\"],[\"male\"],[\"male\"],[\"female\"],[\"female\"],[\"female\"],[\"female\"],[\"female\"],[\"female\"],[\"female\"],[\"male\"],[\"female\"],[\"female\"],[\"male\"],[\"male\"],[\"female\"],[\"male\"],[\"female\"],[\"male\"],[\"female\"],[\"male\"],[\"female\"],[\"male\"],[\"male\"],[\"male\"],[\"male\"],[\"male\"],[\"male\"],[\"male\"],[\"male\"],[\"male\"],[\"male\"],[\"male\"],[\"female\"],[\"female\"],[\"male\"],[\"male\"],[\"male\"],[\"male\"],[\"female\"],[\"male\"],[\"male\"],[\"female\"],[\"female\"],[\"male\"],[\"male\"],[\"female\"],[\"female\"],[\"male\"],[\"female\"],[\"male\"],[\"male\"],[\"male\"],[\"male\"],[\"male\"],[\"male\"],[\"female\"],[\"male\"],[\"female\"],[\"female\"],[\"female\"],[\"male\"],[\"female\"],[\"male\"],[\"male\"],[\"female\"],[\"female\"],[\"female\"],[\"female\"],[\"male\"],[\"female\"],[\"male\"],[\"male\"],[\"female\"],[\"female\"],[\"male\"],[\"female\"],[\"male\"],[\"female\"],[\"female\"],[\"female\"],[\"male\"],[\"female\"],[\"female\"],[\"female\"],[\"male\"],[\"female\"],[\"male\"],[\"male\"],[\"male\"],[\"male\"],[\"male\"],[\"male\"],[\"male\"],[\"male\"],[\"male\"],[\"female\"],[\"female\"],[\"male\"],[\"male\"],[\"male\"],[\"male\"],[\"male\"],[\"male\"],[\"male\"],[\"female\"],[\"male\"],[\"female\"],[\"female\"],[\"female\"],[\"male\"],[\"female\"],[\"female\"]],\"hovertemplate\":\"smoker=yes\\u003cbr\\u003eage=%{x}\\u003cbr\\u003echarges=%{y}\\u003cbr\\u003esex=%{customdata[0]}\\u003cextra\\u003e\\u003c\\u002fextra\\u003e\",\"legendgroup\":\"yes\",\"marker\":{\"color\":\"#636efa\",\"opacity\":0.8,\"symbol\":\"circle\",\"size\":5},\"mode\":\"markers\",\"name\":\"yes\",\"showlegend\":true,\"x\":[19,62,27,30,34,31,22,28,35,60,36,48,36,58,18,53,20,28,27,22,37,45,57,59,64,56,38,61,20,63,29,44,19,32,34,30,46,42,48,18,30,42,18,63,36,27,35,19,42,40,19,23,63,18,63,54,50,56,19,20,52,19,46,40,50,40,54,59,25,19,47,31,53,43,27,34,45,64,61,52,50,19,26,23,39,24,27,55,44,26,36,63,64,61,40,33,56,42,30,54,61,24,44,21,29,51,19,39,42,57,54,49,43,35,48,31,34,21,19,59,30,47,49,19,37,18,44,39,42,52,64,43,40,62,44,60,39,27,41,51,30,29,35,37,23,29,27,53,37,47,18,33,19,30,50,53,27,33,18,47,33,56,36,41,23,57,60,37,46,49,48,25,37,51,32,57,64,47,43,60,32,18,43,45,37,25,51,44,34,54,43,51,29,31,24,27,30,24,47,43,22,47,19,46,55,18,22,45,35,20,43,22,49,47,59,37,28,39,47,22,51,33,38,48,25,33,23,53,23,19,60,43,19,18,43,52,31,23,20,43,19,18,36,37,46,20,52,20,52,64,32,24,20,64,24,26,39,47,18,61,20,19,45,62,43,42,29,32,25,19,30,62,42,61],\"xaxis\":\"x\",\"y\":[16884.924,27808.7251,39611.7577,36837.467,37701.8768,38711.0,35585.576,51194.55914,39774.2763,48173.361,38709.176,23568.272,37742.5757,47496.49445,34303.1672,23244.7902,14711.7438,17663.1442,16577.7795,37165.1638,39836.519,21098.55405,43578.9394,30184.9367,47291.055,22412.6485,15820.699,30942.1918,17560.37975,47055.5321,19107.7796,39556.4945,17081.08,32734.1863,18972.495,20745.9891,40720.55105,19964.7463,21223.6758,15518.18025,36950.2567,21348.706,36149.4835,48824.45,43753.33705,37133.8982,20984.0936,34779.615,19515.5416,19444.2658,17352.6803,38511.6283,29523.1656,12829.4551,47305.305,44260.7499,41097.16175,43921.1837,33750.2918,17085.2676,24869.8368,36219.40545,46151.1245,17179.522,42856.838,22331.5668,48549.17835,47896.79135,42112.2356,16297.846,21978.6769,38746.3551,24873.3849,42124.5153,34838.873,35491.64,42760.5022,47928.03,48517.56315,24393.6224,41919.097,13844.506,36085.219,18033.9679,21659.9301,38126.2465,15006.57945,42303.69215,19594.80965,14455.64405,18608.262,28950.4692,46889.2612,46599.1084,39125.33225,37079.372,26109.32905,22144.032,19521.9682,25382.297,28868.6639,35147.52848,48885.13561,17942.106,36197.699,22218.1149,32548.3405,21082.16,38245.59327,48675.5177,63770.42801,23807.2406,45863.205,39983.42595,45702.02235,58571.07448,43943.8761,15359.1045,17468.9839,25678.77845,39241.442,42969.8527,23306.547,34439.8559,40182.246,34617.84065,42983.4585,20149.3229,32787.45859,24667.419,27037.9141,42560.4304,40003.33225,45710.20785,46200.9851,46130.5265,40103.89,34806.4677,40273.6455,44400.4064,40932.4295,16657.71745,19361.9988,40419.0191,36189.1017,44585.45587,18246.4955,43254.41795,19539.243,23065.4207,36307.7983,19040.876,17748.5062,18259.216,24520.264,21195.818,18310.742,17904.52705,38792.6856,23401.30575,55135.40209,43813.8661,20773.62775,39597.4072,36021.0112,27533.9129,45008.9555,37270.1512,42111.6647,24106.91255,40974.1649,15817.9857,46113.511,46255.1125,19719.6947,27218.43725,29330.98315,44202.6536,19798.05455,48673.5588,17496.306,33732.6867,21774.32215,35069.37452,39047.285,19933.458,47462.894,38998.546,20009.63365,41999.52,41034.2214,23967.38305,16138.76205,19199.944,14571.8908,16420.49455,17361.7661,34472.841,24915.22085,18767.7377,35595.5898,42211.1382,16450.8947,21677.28345,44423.803,13747.87235,37484.4493,39725.51805,20234.85475,33475.81715,21880.82,44501.3982,39727.614,25309.489,48970.2476,39871.7043,34672.1472,19023.26,41676.0811,33907.548,44641.1974,16776.30405,41949.2441,24180.9335,36124.5737,38282.7495,34166.273,46661.4424,40904.1995,36898.73308,52590.82939,40941.2854,39722.7462,17178.6824,22478.6,23887.6627,19350.3689,18328.2381,37465.34375,21771.3423,33307.5508,18223.4512,38415.474,20296.86345,41661.602,26125.67477,60021.39897,20167.33603,47269.854,49577.6624,37607.5277,18648.4217,16232.847,26926.5144,34254.05335,17043.3414,22462.04375,24535.69855,14283.4594,47403.88,38344.566,34828.654,62592.87309,46718.16325,37829.7242,21259.37795,16115.3045,21472.4788,33900.653,36397.576,18765.87545,28101.33305,43896.3763,29141.3603],\"yaxis\":\"y\",\"type\":\"scattergl\"},{\"customdata\":[[\"male\"],[\"male\"],[\"male\"],[\"male\"],[\"female\"],[\"female\"],[\"female\"],[\"male\"],[\"female\"],[\"male\"],[\"male\"],[\"female\"],[\"male\"],[\"female\"],[\"male\"],[\"male\"],[\"female\"],[\"female\"],[\"male\"],[\"male\"],[\"female\"],[\"female\"],[\"female\"],[\"male\"],[\"female\"],[\"female\"],[\"male\"],[\"male\"],[\"female\"],[\"male\"],[\"female\"],[\"female\"],[\"male\"],[\"female\"],[\"male\"],[\"male\"],[\"female\"],[\"female\"],[\"female\"],[\"female\"],[\"female\"],[\"female\"],[\"female\"],[\"female\"],[\"male\"],[\"male\"],[\"male\"],[\"female\"],[\"female\"],[\"female\"],[\"male\"],[\"female\"],[\"male\"],[\"female\"],[\"male\"],[\"male\"],[\"male\"],[\"female\"],[\"male\"],[\"female\"],[\"female\"],[\"male\"],[\"female\"],[\"female\"],[\"female\"],[\"female\"],[\"female\"],[\"female\"],[\"female\"],[\"male\"],[\"female\"],[\"female\"],[\"male\"],[\"female\"],[\"male\"],[\"female\"],[\"female\"],[\"female\"],[\"male\"],[\"male\"],[\"male\"],[\"female\"],[\"male\"],[\"female\"],[\"male\"],[\"male\"],[\"male\"],[\"female\"],[\"female\"],[\"male\"],[\"male\"],[\"female\"],[\"female\"],[\"female\"],[\"female\"],[\"male\"],[\"female\"],[\"female\"],[\"female\"],[\"male\"],[\"female\"],[\"female\"],[\"male\"],[\"male\"],[\"female\"],[\"female\"],[\"male\"],[\"male\"],[\"male\"],[\"female\"],[\"female\"],[\"female\"],[\"male\"],[\"male\"],[\"male\"],[\"female\"],[\"female\"],[\"male\"],[\"female\"],[\"male\"],[\"female\"],[\"male\"],[\"male\"],[\"female\"],[\"female\"],[\"female\"],[\"male\"],[\"male\"],[\"male\"],[\"male\"],[\"female\"],[\"female\"],[\"male\"],[\"male\"],[\"female\"],[\"female\"],[\"male\"],[\"female\"],[\"male\"],[\"female\"],[\"male\"],[\"female\"],[\"female\"],[\"female\"],[\"female\"],[\"male\"],[\"female\"],[\"male\"],[\"female\"],[\"male\"],[\"male\"],[\"female\"],[\"female\"],[\"female\"],[\"female\"],[\"female\"],[\"female\"],[\"female\"],[\"male\"],[\"female\"],[\"male\"],[\"female\"],[\"male\"],[\"male\"],[\"male\"],[\"male\"],[\"female\"],[\"female\"],[\"female\"],[\"female\"],[\"male\"],[\"female\"],[\"female\"],[\"female\"],[\"female\"],[\"male\"],[\"male\"],[\"male\"],[\"female\"],[\"female\"],[\"male\"],[\"female\"],[\"female\"],[\"female\"],[\"male\"],[\"male\"],[\"female\"],[\"male\"],[\"male\"],[\"female\"],[\"female\"],[\"male\"],[\"male\"],[\"female\"],[\"male\"],[\"male\"],[\"male\"],[\"male\"],[\"female\"],[\"female\"],[\"male\"],[\"female\"],[\"female\"],[\"female\"],[\"male\"],[\"male\"],[\"male\"],[\"male\"],[\"male\"],[\"male\"],[\"female\"],[\"male\"],[\"female\"],[\"male\"],[\"female\"],[\"male\"],[\"female\"],[\"female\"],[\"male\"],[\"female\"],[\"female\"],[\"male\"],[\"female\"],[\"male\"],[\"female\"],[\"male\"],[\"male\"],[\"female\"],[\"male\"],[\"female\"],[\"female\"],[\"female\"],[\"male\"],[\"female\"],[\"female\"],[\"male\"],[\"female\"],[\"male\"],[\"female\"],[\"male\"],[\"male\"],[\"male\"],[\"male\"],[\"female\"],[\"male\"],[\"male\"],[\"female\"],[\"male\"],[\"male\"],[\"male\"],[\"female\"],[\"male\"],[\"female\"],[\"female\"],[\"female\"],[\"male\"],[\"male\"],[\"male\"],[\"female\"],[\"female\"],[\"male\"],[\"female\"],[\"male\"],[\"female\"],[\"female\"],[\"male\"],[\"male\"],[\"female\"],[\"male\"],[\"female\"],[\"female\"],[\"female\"],[\"male\"],[\"female\"],[\"male\"],[\"male\"],[\"male\"],[\"male\"],[\"female\"],[\"female\"],[\"male\"],[\"female\"],[\"female\"],[\"female\"],[\"female\"],[\"female\"],[\"male\"],[\"male\"],[\"female\"],[\"female\"],[\"female\"],[\"male\"],[\"female\"],[\"male\"],[\"male\"],[\"female\"],[\"male\"],[\"male\"],[\"female\"],[\"male\"],[\"female\"],[\"female\"],[\"male\"],[\"female\"],[\"male\"],[\"male\"],[\"female\"],[\"male\"],[\"female\"],[\"male\"],[\"male\"],[\"female\"],[\"female\"],[\"male\"],[\"female\"],[\"male\"],[\"male\"],[\"female\"],[\"female\"],[\"female\"],[\"male\"],[\"male\"],[\"male\"],[\"male\"],[\"female\"],[\"female\"],[\"male\"],[\"male\"],[\"male\"],[\"male\"],[\"male\"],[\"female\"],[\"female\"],[\"female\"],[\"female\"],[\"male\"],[\"female\"],[\"male\"],[\"female\"],[\"male\"],[\"male\"],[\"male\"],[\"male\"],[\"female\"],[\"male\"],[\"female\"],[\"male\"],[\"female\"],[\"female\"],[\"male\"],[\"female\"],[\"female\"],[\"male\"],[\"male\"],[\"male\"],[\"male\"],[\"male\"],[\"male\"],[\"male\"],[\"female\"],[\"female\"],[\"male\"],[\"female\"],[\"female\"],[\"female\"],[\"male\"],[\"male\"],[\"female\"],[\"female\"],[\"female\"],[\"female\"],[\"male\"],[\"female\"],[\"female\"],[\"female\"],[\"male\"],[\"male\"],[\"male\"],[\"male\"],[\"male\"],[\"female\"],[\"female\"],[\"male\"],[\"female\"],[\"female\"],[\"male\"],[\"male\"],[\"female\"],[\"female\"],[\"female\"],[\"male\"],[\"male\"],[\"female\"],[\"male\"],[\"female\"],[\"female\"],[\"male\"],[\"female\"],[\"male\"],[\"male\"],[\"male\"],[\"female\"],[\"female\"],[\"male\"],[\"male\"],[\"male\"],[\"male\"],[\"male\"],[\"male\"],[\"male\"],[\"female\"],[\"male\"],[\"female\"],[\"female\"],[\"female\"],[\"female\"],[\"female\"],[\"female\"],[\"female\"],[\"male\"],[\"male\"],[\"female\"],[\"male\"],[\"male\"],[\"male\"],[\"male\"],[\"female\"],[\"female\"],[\"female\"],[\"male\"],[\"female\"],[\"female\"],[\"female\"],[\"male\"],[\"male\"],[\"female\"],[\"female\"],[\"male\"],[\"female\"],[\"male\"],[\"female\"],[\"female\"],[\"male\"],[\"male\"],[\"male\"],[\"male\"],[\"female\"],[\"female\"],[\"male\"],[\"male\"],[\"female\"],[\"female\"],[\"female\"],[\"male\"],[\"female\"],[\"female\"],[\"female\"],[\"female\"],[\"female\"],[\"female\"],[\"female\"],[\"male\"],[\"male\"],[\"female\"],[\"male\"],[\"male\"],[\"male\"],[\"female\"],[\"male\"],[\"female\"],[\"male\"],[\"female\"],[\"female\"],[\"female\"],[\"male\"],[\"male\"],[\"male\"],[\"female\"],[\"female\"],[\"female\"],[\"male\"],[\"female\"],[\"female\"],[\"male\"],[\"female\"],[\"female\"],[\"female\"],[\"female\"],[\"male\"],[\"female\"],[\"female\"],[\"female\"],[\"female\"],[\"female\"],[\"female\"],[\"female\"],[\"male\"],[\"female\"],[\"male\"],[\"female\"],[\"male\"],[\"male\"],[\"male\"],[\"male\"],[\"male\"],[\"female\"],[\"male\"],[\"male\"],[\"male\"],[\"female\"],[\"female\"],[\"male\"],[\"male\"],[\"male\"],[\"female\"],[\"male\"],[\"male\"],[\"male\"],[\"female\"],[\"male\"],[\"female\"],[\"female\"],[\"female\"],[\"female\"],[\"female\"],[\"female\"],[\"female\"],[\"male\"],[\"female\"],[\"female\"],[\"male\"],[\"female\"],[\"female\"],[\"male\"],[\"male\"],[\"female\"],[\"male\"],[\"female\"],[\"male\"],[\"female\"],[\"male\"],[\"female\"],[\"male\"],[\"female\"],[\"female\"],[\"male\"],[\"male\"],[\"female\"],[\"male\"],[\"male\"],[\"male\"],[\"female\"],[\"male\"],[\"male\"],[\"male\"],[\"male\"],[\"female\"],[\"female\"],[\"female\"],[\"male\"],[\"female\"],[\"female\"],[\"female\"],[\"male\"],[\"female\"],[\"female\"],[\"female\"],[\"male\"],[\"female\"],[\"female\"],[\"male\"],[\"female\"],[\"female\"],[\"male\"],[\"female\"],[\"male\"],[\"female\"],[\"male\"],[\"female\"],[\"female\"],[\"female\"],[\"male\"],[\"male\"],[\"male\"],[\"female\"],[\"male\"],[\"female\"],[\"female\"],[\"male\"],[\"female\"],[\"female\"],[\"female\"],[\"female\"],[\"male\"],[\"male\"],[\"female\"],[\"male\"],[\"female\"],[\"male\"],[\"male\"],[\"female\"],[\"male\"],[\"male\"],[\"male\"],[\"female\"],[\"male\"],[\"male\"],[\"female\"],[\"male\"],[\"female\"],[\"male\"],[\"male\"],[\"female\"],[\"female\"],[\"male\"],[\"female\"],[\"female\"],[\"female\"],[\"male\"],[\"female\"],[\"female\"],[\"male\"],[\"male\"],[\"male\"],[\"male\"],[\"male\"],[\"male\"],[\"male\"],[\"male\"],[\"female\"],[\"female\"],[\"male\"],[\"male\"],[\"male\"],[\"female\"],[\"female\"],[\"male\"],[\"female\"],[\"female\"],[\"male\"],[\"female\"],[\"female\"],[\"female\"],[\"female\"],[\"male\"],[\"male\"],[\"female\"],[\"female\"],[\"female\"],[\"male\"],[\"male\"],[\"female\"],[\"female\"],[\"male\"],[\"male\"],[\"male\"],[\"female\"],[\"female\"],[\"male\"],[\"male\"],[\"male\"],[\"female\"],[\"female\"],[\"male\"],[\"female\"],[\"male\"],[\"male\"],[\"female\"],[\"female\"],[\"male\"],[\"male\"],[\"male\"],[\"male\"],[\"female\"],[\"female\"],[\"female\"],[\"male\"],[\"male\"],[\"male\"],[\"female\"],[\"male\"],[\"female\"],[\"male\"],[\"male\"],[\"female\"],[\"female\"],[\"female\"],[\"male\"],[\"female\"],[\"female\"],[\"female\"],[\"male\"],[\"male\"],[\"male\"],[\"male\"],[\"male\"],[\"female\"],[\"male\"],[\"female\"],[\"male\"],[\"male\"],[\"male\"],[\"female\"],[\"female\"],[\"male\"],[\"male\"],[\"female\"],[\"male\"],[\"male\"],[\"female\"],[\"male\"],[\"female\"],[\"male\"],[\"male\"],[\"female\"],[\"male\"],[\"male\"],[\"female\"],[\"male\"],[\"female\"],[\"female\"],[\"male\"],[\"male\"],[\"male\"],[\"female\"],[\"female\"],[\"male\"],[\"female\"],[\"male\"],[\"male\"],[\"female\"],[\"female\"],[\"male\"],[\"female\"],[\"female\"],[\"female\"],[\"female\"],[\"female\"],[\"male\"],[\"male\"],[\"male\"],[\"male\"],[\"female\"],[\"female\"],[\"female\"],[\"male\"],[\"male\"],[\"female\"],[\"male\"],[\"female\"],[\"male\"],[\"female\"],[\"male\"],[\"female\"],[\"male\"],[\"male\"],[\"male\"],[\"female\"],[\"female\"],[\"male\"],[\"male\"],[\"female\"],[\"male\"],[\"male\"],[\"male\"],[\"female\"],[\"male\"],[\"male\"],[\"male\"],[\"female\"],[\"female\"],[\"female\"],[\"male\"],[\"male\"],[\"male\"],[\"male\"],[\"male\"],[\"female\"],[\"female\"],[\"female\"],[\"female\"],[\"female\"],[\"male\"],[\"male\"],[\"male\"],[\"female\"],[\"female\"],[\"male\"],[\"male\"],[\"female\"],[\"male\"],[\"female\"],[\"male\"],[\"female\"],[\"male\"],[\"female\"],[\"female\"],[\"female\"],[\"male\"],[\"female\"],[\"female\"],[\"female\"],[\"female\"],[\"female\"],[\"male\"],[\"male\"],[\"male\"],[\"male\"],[\"male\"],[\"male\"],[\"male\"],[\"female\"],[\"female\"],[\"male\"],[\"female\"],[\"male\"],[\"female\"],[\"female\"],[\"female\"],[\"female\"],[\"male\"],[\"male\"],[\"female\"],[\"female\"],[\"male\"],[\"male\"],[\"female\"],[\"female\"],[\"male\"],[\"female\"],[\"male\"],[\"male\"],[\"male\"],[\"female\"],[\"male\"],[\"female\"],[\"female\"],[\"female\"],[\"male\"],[\"male\"],[\"female\"],[\"male\"],[\"female\"],[\"female\"],[\"female\"],[\"male\"],[\"male\"],[\"male\"],[\"male\"],[\"female\"],[\"female\"],[\"male\"],[\"male\"],[\"male\"],[\"female\"],[\"male\"],[\"male\"],[\"female\"],[\"female\"],[\"female\"],[\"female\"],[\"male\"],[\"male\"],[\"male\"],[\"male\"],[\"male\"],[\"male\"],[\"female\"],[\"male\"],[\"male\"],[\"male\"],[\"male\"],[\"female\"],[\"male\"],[\"female\"],[\"female\"],[\"male\"],[\"female\"],[\"female\"],[\"male\"],[\"male\"],[\"male\"],[\"male\"],[\"female\"],[\"female\"],[\"female\"],[\"male\"],[\"male\"],[\"female\"],[\"female\"],[\"male\"],[\"male\"],[\"male\"],[\"female\"],[\"male\"],[\"female\"],[\"female\"],[\"male\"],[\"female\"],[\"male\"],[\"female\"],[\"female\"],[\"male\"],[\"male\"],[\"female\"],[\"male\"],[\"female\"],[\"female\"],[\"female\"],[\"male\"],[\"male\"],[\"female\"],[\"female\"],[\"male\"],[\"male\"],[\"male\"],[\"female\"],[\"male\"],[\"male\"],[\"female\"],[\"female\"],[\"female\"],[\"female\"],[\"female\"],[\"female\"],[\"female\"],[\"female\"],[\"female\"],[\"male\"],[\"male\"],[\"female\"],[\"female\"],[\"female\"],[\"male\"],[\"female\"],[\"male\"],[\"female\"],[\"female\"],[\"male\"],[\"male\"],[\"female\"],[\"female\"],[\"female\"],[\"female\"],[\"female\"],[\"female\"],[\"female\"],[\"male\"],[\"female\"],[\"female\"],[\"female\"],[\"female\"],[\"female\"],[\"female\"],[\"female\"],[\"female\"],[\"male\"],[\"male\"],[\"female\"],[\"male\"],[\"male\"],[\"male\"],[\"male\"],[\"male\"],[\"female\"],[\"male\"],[\"male\"],[\"male\"],[\"male\"],[\"female\"],[\"female\"],[\"male\"],[\"male\"],[\"male\"],[\"female\"],[\"female\"],[\"male\"],[\"male\"],[\"male\"],[\"female\"],[\"male\"],[\"male\"],[\"male\"],[\"male\"],[\"female\"],[\"male\"],[\"female\"],[\"male\"],[\"female\"],[\"female\"],[\"male\"],[\"female\"],[\"female\"],[\"female\"],[\"male\"],[\"male\"],[\"female\"],[\"male\"],[\"female\"],[\"male\"],[\"female\"],[\"female\"],[\"female\"],[\"female\"],[\"female\"],[\"male\"],[\"female\"],[\"female\"],[\"male\"],[\"female\"],[\"female\"],[\"female\"],[\"female\"],[\"female\"],[\"male\"],[\"male\"],[\"female\"],[\"male\"],[\"male\"],[\"male\"],[\"female\"],[\"female\"],[\"female\"],[\"female\"],[\"male\"],[\"female\"],[\"female\"],[\"female\"],[\"male\"],[\"female\"],[\"male\"],[\"male\"],[\"male\"],[\"male\"],[\"male\"],[\"female\"],[\"male\"],[\"female\"],[\"female\"],[\"female\"],[\"male\"],[\"male\"],[\"female\"],[\"male\"],[\"male\"],[\"female\"],[\"male\"],[\"male\"],[\"female\"],[\"male\"],[\"male\"],[\"male\"],[\"male\"],[\"female\"],[\"male\"],[\"female\"],[\"male\"],[\"female\"],[\"female\"],[\"female\"],[\"male\"],[\"female\"],[\"female\"],[\"female\"]],\"hovertemplate\":\"smoker=no\\u003cbr\\u003eage=%{x}\\u003cbr\\u003echarges=%{y}\\u003cbr\\u003esex=%{customdata[0]}\\u003cextra\\u003e\\u003c\\u002fextra\\u003e\",\"legendgroup\":\"no\",\"marker\":{\"color\":\"#EF553B\",\"opacity\":0.8,\"symbol\":\"circle\",\"size\":5},\"mode\":\"markers\",\"name\":\"no\",\"showlegend\":true,\"x\":[18,28,33,32,31,46,37,37,60,25,23,56,19,52,23,56,60,30,18,37,59,63,55,23,18,19,63,19,62,26,24,31,41,37,38,55,18,28,60,18,21,40,58,34,43,25,64,28,19,61,40,40,31,53,58,44,57,29,21,22,41,31,45,48,56,46,55,21,53,35,28,54,55,41,30,18,34,19,26,29,54,55,37,21,52,60,58,49,37,44,18,20,47,26,52,38,59,61,53,19,20,22,19,22,54,22,34,26,29,29,51,53,19,35,48,32,40,44,50,54,32,37,47,20,32,19,27,63,49,18,35,24,38,54,46,41,58,18,22,44,44,26,30,41,29,61,36,25,56,18,19,39,45,51,64,19,48,60,46,28,59,63,40,20,40,24,34,45,41,53,27,26,24,34,53,32,55,28,58,41,47,42,59,19,59,39,18,31,44,33,55,40,54,60,24,19,29,27,55,38,51,58,53,59,45,49,18,41,50,25,47,19,22,59,51,30,55,52,46,46,63,52,28,29,22,25,18,48,36,56,28,57,29,28,30,58,41,50,19,49,52,50,54,44,32,34,26,57,29,40,27,52,61,56,43,64,60,62,46,24,62,60,63,49,34,33,46,36,19,57,50,30,33,18,46,46,47,23,18,48,35,21,21,49,56,42,44,18,61,57,42,20,64,62,55,35,44,19,58,50,26,24,48,19,48,49,46,46,43,21,64,18,51,47,64,49,31,52,33,47,38,32,19,25,19,43,52,64,25,48,45,38,18,21,27,19,29,42,60,31,60,22,35,52,26,31,18,59,45,60,56,40,35,39,30,24,20,32,59,55,57,56,40,49,62,56,19,60,56,28,18,27,18,19,47,25,21,23,63,49,18,51,48,31,54,19,53,19,61,18,61,20,31,45,44,62,43,38,37,22,21,24,57,56,27,51,19,58,20,45,35,31,50,32,51,38,18,19,51,46,18,62,59,37,64,38,33,46,46,53,34,20,63,54,28,54,25,63,32,62,52,25,28,46,34,19,46,54,27,50,18,19,38,41,49,31,18,30,62,57,58,22,52,25,59,19,39,32,19,33,21,61,38,58,47,20,41,46,42,34,43,52,18,51,56,64,51,27,28,47,38,18,34,20,56,55,30,49,59,29,36,33,58,53,24,29,40,51,64,19,35,56,33,61,23,43,48,39,40,18,58,49,53,48,45,59,26,27,48,57,37,57,32,18,49,40,30,29,36,41,45,55,56,49,21,19,53,33,53,42,40,47,21,47,20,24,27,26,53,56,23,21,50,53,34,47,33,49,31,36,18,50,43,20,24,60,49,60,51,58,51,53,62,19,50,41,18,41,53,24,48,59,49,26,45,31,50,50,34,19,47,28,21,64,58,24,31,39,30,22,23,27,45,57,47,42,64,38,61,53,44,41,51,40,45,35,53,18,51,31,35,60,21,29,62,39,19,22,39,30,30,58,42,64,21,23,45,40,19,18,25,46,33,54,28,36,20,24,23,45,26,18,44,60,64,39,63,36,28,58,36,42,36,56,35,59,21,59,53,51,23,27,55,61,53,20,25,57,38,55,36,51,40,18,57,61,25,50,26,42,43,44,23,49,33,41,37,22,23,21,25,36,22,57,36,54,62,61,19,18,19,49,26,49,60,26,27,44,63,22,59,44,33,24,61,35,62,62,38,34,43,50,19,57,62,41,26,39,46,45,32,59,44,39,18,53,18,50,18,19,62,56,42,42,57,30,31,24,48,19,29,63,46,52,35,44,21,39,50,34,22,19,26,48,26,45,36,54,34,27,20,44,43,45,34,26,38,50,38,39,39,63,33,36,24,48,47,29,28,25,51,48,61,48,38,59,19,26,54,21,51,18,47,21,23,54,37,30,61,54,22,19,18,28,55,43,25,44,64,49,27,55,48,45,24,32,24,57,36,29,42,48,39,63,54,63,21,54,60,32,47,21,63,18,32,38,32,62,55,57,52,56,55,23,50,18,22,52,25,53,29,58,37,54,49,50,26,45,54,28,23,55,41,30,46,27,63,55,35,34,19,39,27,57,52,28,50,44,26,33,50,41,52,39,50,52,20,55,42,18,58,35,48,36,23,20,32,43,34,30,18,41,35,57,29,32,37,56,38,29,22,40,23,42,24,25,48,45,62,23,31,41,58,48,31,19,41,40,31,37,46,22,51,35,59,59,36,39,18,52,27,18,40,29,38,30,40,50,41,33,38,42,56,58,54,58,45,26,63,58,37,25,22,28,18,28,45,33,18,19,40,34,42,51,54,55,52,32,28,41,43,49,55,20,45,26,25,43,35,57,22,32,25,48,18,47,28,36,44,38,21,46,58,20,18,28,33,19,25,24,41,42,33,34,18,19,18,35,39,31,62,31,61,42,51,23,52,57,23,52,50,18,18,21],\"xaxis\":\"x\",\"y\":[1725.5523,4449.462,21984.47061,3866.8552,3756.6216,8240.5896,7281.5056,6406.4107,28923.13692,2721.3208,1826.843,11090.7178,1837.237,10797.3362,2395.17155,10602.385,13228.84695,4149.736,1137.011,6203.90175,14001.1338,14451.83515,12268.63225,2775.19215,2198.18985,4687.797,13770.0979,1625.43375,15612.19335,2302.3,3046.062,4949.7587,6272.4772,6313.759,6079.6715,20630.28351,3393.35635,3556.9223,12629.8967,2211.13075,3579.8287,8059.6791,13607.36875,5989.52365,8606.2174,4504.6624,30166.61817,4133.64165,1743.214,14235.072,6389.37785,5920.1041,6799.458,11741.726,11946.6259,7726.854,11356.6609,3947.4131,1532.4697,2755.02095,6571.02435,4441.21315,7935.29115,11033.6617,11073.176,8026.6666,11082.5772,2026.9741,10942.13205,5729.0053,3766.8838,12105.32,10226.2842,6186.127,3645.0894,21344.8467,5003.853,2331.519,3877.30425,2867.1196,10825.2537,11881.358,4646.759,2404.7338,11488.31695,30259.99556,11381.3254,8601.3293,6686.4313,7740.337,1705.6245,2257.47525,10115.00885,3385.39915,9634.538,6082.405,12815.44495,13616.3586,11163.568,1632.56445,2457.21115,2155.6815,1261.442,2045.68525,27322.73386,2166.732,27375.90478,3490.5491,18157.876,5138.2567,9877.6077,10959.6947,1842.519,5125.2157,7789.635,6334.34355,7077.1894,6948.7008,19749.38338,10450.552,5152.134,5028.1466,10407.08585,4830.63,6128.79745,2719.27975,4827.90495,13405.3903,8116.68,1694.7964,5246.047,2855.43755,6455.86265,10436.096,8823.279,8538.28845,11735.87905,1631.8212,4005.4225,7419.4779,7731.4271,3981.9768,5325.651,6775.961,4922.9159,12557.6053,4883.866,2137.6536,12044.342,1137.4697,1639.5631,5649.715,8516.829,9644.2525,14901.5167,2130.6759,8871.1517,13012.20865,7147.105,4337.7352,11743.299,13880.949,6610.1097,1980.07,8162.71625,3537.703,5002.7827,8520.026,7371.772,10355.641,2483.736,3392.9768,25081.76784,5012.471,10564.8845,5253.524,11987.1682,2689.4954,24227.33724,7358.17565,9225.2564,7443.64305,14001.2867,1727.785,12333.828,6710.1919,1615.7667,4463.2051,7152.6714,5354.07465,35160.13457,7196.867,24476.47851,12648.7034,1986.9334,1832.094,4040.55825,4260.744,13047.33235,5400.9805,11520.09985,11837.16,20462.99766,14590.63205,7441.053,9282.4806,1719.4363,7265.7025,9617.66245,2523.1695,9715.841,2803.69785,2150.469,12928.7911,9855.1314,4237.12655,11879.10405,9625.92,7742.1098,9432.9253,14256.1928,25992.82104,3172.018,20277.80751,2156.7518,3906.127,1704.5681,9249.4952,6746.7425,12265.5069,4349.462,12646.207,19442.3535,20177.67113,4151.0287,11944.59435,7749.1564,8444.474,1737.376,8124.4084,9722.7695,8835.26495,10435.06525,7421.19455,4667.60765,4894.7533,24671.66334,11566.30055,2866.091,6600.20595,3561.8889,9144.565,13429.0354,11658.37915,19144.57652,13822.803,12142.5786,13937.6665,8232.6388,18955.22017,13352.0998,13217.0945,13981.85035,10977.2063,6184.2994,4889.9995,8334.45755,5478.0368,1635.73365,11830.6072,8932.084,3554.203,12404.8791,14133.03775,24603.04837,8944.1151,9620.3307,1837.2819,1607.5101,10043.249,4751.07,2597.779,3180.5101,9778.3472,13430.265,8017.06115,8116.26885,3481.868,13415.0381,12029.2867,7639.41745,1391.5287,16455.70785,27000.98473,20781.48892,5846.9176,8302.53565,1261.859,11856.4115,30284.64294,3176.8159,4618.0799,10736.87075,2138.0707,8964.06055,9290.1395,9411.005,7526.70645,8522.003,16586.49771,14988.432,1631.6683,9264.797,8083.9198,14692.66935,10269.46,3260.199,11396.9002,4185.0979,8539.671,6652.5288,4074.4537,1621.3402,5080.096,2134.9015,7345.7266,9140.951,14418.2804,2727.3951,8968.33,9788.8659,6555.07035,7323.734819,3167.45585,18804.7524,23082.95533,4906.40965,5969.723,12638.195,4243.59005,13919.8229,2254.7967,5926.846,12592.5345,2897.3235,4738.2682,1149.3959,28287.89766,7345.084,12730.9996,11454.0215,5910.944,4762.329,7512.267,4032.2407,1969.614,1769.53165,4686.3887,21797.0004,11881.9696,11840.77505,10601.412,7682.67,10381.4787,15230.32405,11165.41765,1632.03625,13224.693,12643.3778,23288.9284,2201.0971,2497.0383,2203.47185,1744.465,20878.78443,2534.39375,1534.3045,1824.2854,15555.18875,9304.7019,1622.1885,9880.068,9563.029,4347.02335,12475.3513,1253.936,10461.9794,1748.774,24513.09126,2196.4732,12574.049,1967.0227,4931.647,8027.968,8211.1002,13470.86,6837.3687,5974.3847,6796.86325,2643.2685,3077.0955,3044.2133,11455.28,11763.0009,2498.4144,9361.3268,1256.299,11362.755,27724.28875,8413.46305,5240.765,3857.75925,25656.57526,3994.1778,9866.30485,5397.6167,11482.63485,24059.68019,9861.025,8342.90875,1708.0014,14043.4767,12925.886,19214.70553,13831.1152,6067.12675,5972.378,8825.086,8233.0975,27346.04207,6196.448,3056.3881,13887.204,10231.4999,3268.84665,11538.421,3213.62205,13390.559,3972.9247,12957.118,11187.6567,17878.90068,3847.674,8334.5896,3935.1799,1646.4297,9193.8385,10923.9332,2494.022,9058.7303,2801.2588,2128.43105,6373.55735,7256.7231,11552.904,3761.292,2219.4451,4753.6368,31620.00106,13224.05705,12222.8983,1664.9996,9724.53,3206.49135,12913.9924,1639.5631,6356.2707,17626.23951,1242.816,4779.6023,3861.20965,13635.6379,5976.8311,11842.442,8428.0693,2566.4707,5709.1644,8823.98575,7640.3092,5594.8455,7441.501,33471.97189,1633.0444,9174.13565,11070.535,16085.1275,9283.562,3558.62025,4435.0942,8547.6913,6571.544,2207.69745,6753.038,1880.07,11658.11505,10713.644,3659.346,9182.17,12129.61415,3736.4647,6748.5912,11326.71487,11365.952,10085.846,1977.815,3366.6697,7173.35995,9391.346,14410.9321,2709.1119,24915.04626,12949.1554,6666.243,13143.86485,4466.6214,18806.14547,10141.1362,6123.5688,8252.2843,1712.227,12430.95335,9800.8882,10579.711,8280.6227,8527.532,12244.531,3410.324,4058.71245,26392.26029,14394.39815,6435.6237,22192.43711,5148.5526,1136.3994,8703.456,6500.2359,4837.5823,3943.5954,4399.731,6185.3208,7222.78625,12485.8009,12363.547,10156.7832,2585.269,1242.26,9863.4718,4766.022,11244.3769,7729.64575,5438.7491,26236.57997,2104.1134,8068.185,2362.22905,2352.96845,3577.999,3201.24515,29186.48236,10976.24575,3500.6123,2020.5523,9541.69555,9504.3103,5385.3379,8930.93455,5375.038,10264.4421,6113.23105,5469.0066,1727.54,10107.2206,8310.83915,1984.4533,2457.502,12146.971,9566.9909,13112.6048,10848.1343,12231.6136,9875.6804,11264.541,12979.358,1263.249,10106.13425,6664.68595,2217.6012,6781.3542,10065.413,4234.927,9447.25035,14007.222,9583.8933,3484.331,8604.48365,3757.8448,8827.2099,9910.35985,11737.84884,1627.28245,8556.907,3062.50825,1906.35825,14210.53595,11833.7823,17128.42608,5031.26955,7985.815,5428.7277,3925.7582,2416.955,3070.8087,9095.06825,11842.62375,8062.764,7050.642,14319.031,6933.24225,27941.28758,11150.78,12797.20962,7261.741,10560.4917,6986.697,7448.40395,5934.3798,9869.8102,1146.7966,9386.1613,4350.5144,6414.178,12741.16745,1917.3184,5209.57885,13457.9608,5662.225,1252.407,2731.9122,7209.4918,4266.1658,4719.52405,11848.141,7046.7222,14313.8463,2103.08,1815.8759,7731.85785,28476.73499,2136.88225,1131.5066,3309.7926,9414.92,6360.9936,11013.7119,4428.88785,5584.3057,1877.9294,2842.76075,3597.596,7445.918,2680.9493,1621.8827,8219.2039,12523.6048,16069.08475,6117.4945,13393.756,5266.3656,4719.73655,11743.9341,5377.4578,7160.3303,4402.233,11657.7189,6402.29135,12622.1795,1526.312,12323.936,10072.05505,9872.701,2438.0552,2974.126,10601.63225,14119.62,11729.6795,1875.344,18218.16139,10965.446,7151.092,12269.68865,5458.04645,8782.469,6600.361,1141.4451,11576.13,13129.60345,4391.652,8457.818,3392.3652,5966.8874,6849.026,8891.1395,2690.1138,26140.3603,6653.7886,6282.235,6311.952,3443.064,2789.0574,2585.85065,4877.98105,5272.1758,1682.597,11945.1327,7243.8136,10422.91665,13555.0049,13063.883,2221.56445,1634.5734,2117.33885,8688.85885,4661.28635,8125.7845,12644.589,4564.19145,4846.92015,7633.7206,15170.069,2639.0429,14382.70905,7626.993,5257.50795,2473.3341,13041.921,5245.2269,13451.122,13462.52,5488.262,4320.41085,6250.435,25333.33284,2913.569,12032.326,13470.8044,6289.7549,2927.0647,6238.298,10096.97,7348.142,4673.3922,12233.828,32108.66282,8965.79575,2304.0022,9487.6442,1121.8739,9549.5651,2217.46915,1628.4709,12982.8747,11674.13,7160.094,6358.77645,11534.87265,4527.18295,3875.7341,12609.88702,28468.91901,2730.10785,3353.284,14474.675,9500.57305,26467.09737,4746.344,7518.02535,3279.86855,8596.8278,10702.6424,4992.3764,2527.81865,1759.338,2322.6218,7804.1605,2902.9065,9704.66805,4889.0368,25517.11363,4500.33925,16796.41194,4915.05985,7624.63,8410.04685,28340.18885,4518.82625,3378.91,7144.86265,10118.424,5484.4673,7986.47525,7418.522,13887.9685,6551.7501,5267.81815,1972.95,21232.18226,8627.5411,4433.3877,4438.2634,23241.47453,9957.7216,8269.044,36580.28216,8765.249,5383.536,12124.9924,2709.24395,3987.926,12495.29085,26018.95052,8798.593,1711.0268,8569.8618,2020.177,21595.38229,9850.432,6877.9801,4137.5227,12950.0712,12094.478,2250.8352,22493.65964,1704.70015,3161.454,11394.06555,7325.0482,3594.17085,8023.13545,14394.5579,9288.0267,3353.4703,10594.50155,8277.523,17929.30337,2480.9791,4462.7218,1981.5819,11554.2236,6548.19505,5708.867,7045.499,8978.1851,5757.41345,14349.8544,10928.849,13974.45555,1909.52745,12096.6512,13204.28565,4562.8421,8551.347,2102.2647,15161.5344,11884.04858,4454.40265,5855.9025,4076.497,15019.76005,10796.35025,11353.2276,9748.9106,10577.087,11286.5387,3591.48,11299.343,4561.1885,1674.6323,23045.56616,3227.1211,11253.421,3471.4096,11363.2832,20420.60465,10338.9316,8988.15875,10493.9458,2904.088,8605.3615,11512.405,5312.16985,2396.0959,10807.4863,9222.4026,5693.4305,8347.1643,18903.49141,14254.6082,10214.636,5836.5204,14358.36437,1728.897,8582.3023,3693.428,20709.02034,9991.03765,19673.33573,11085.5868,7623.518,3176.2877,3704.3545,9048.0273,7954.517,27117.99378,6338.0756,9630.397,11289.10925,2261.5688,10791.96,5979.731,2203.73595,12235.8392,5630.45785,11015.1747,7228.21565,14426.07385,2459.7201,3989.841,7727.2532,5124.1887,18963.17192,2200.83085,7153.5539,5227.98875,10982.5013,4529.477,4670.64,6112.35295,11093.6229,6457.8434,4433.9159,2154.361,6496.886,2899.48935,7650.77375,2850.68375,2632.992,9447.3824,8603.8234,13844.7972,13126.67745,5327.40025,13725.47184,13019.16105,8671.19125,4134.08245,18838.70366,5699.8375,6393.60345,4934.705,6198.7518,8733.22925,2055.3249,9964.06,5116.5004,36910.60803,12347.172,5373.36425,23563.01618,1702.4553,10806.839,3956.07145,12890.05765,5415.6612,4058.1161,7537.1639,4718.20355,6593.5083,8442.667,6858.4796,4795.6568,6640.54485,7162.0122,10594.2257,11938.25595,12479.70895,11345.519,8515.7587,2699.56835,14449.8544,12224.35085,6985.50695,3238.4357,4296.2712,3171.6149,1135.9407,5615.369,9101.798,6059.173,1633.9618,1241.565,15828.82173,4415.1588,6474.013,11436.73815,11305.93455,30063.58055,10197.7722,4544.2348,3277.161,6770.1925,7337.748,10370.91255,10704.47,1880.487,8615.3,3292.52985,3021.80915,14478.33015,4747.0529,10959.33,2741.948,4357.04365,4189.1131,8283.6807,1720.3537,8534.6718,3732.6251,5472.449,7147.4728,7133.9025,1515.3449,9301.89355,11931.12525,1964.78,1708.92575,4340.4409,5261.46945,2710.82855,3208.787,2464.6188,6875.961,6940.90985,4571.41305,4536.259,11272.33139,1731.677,1163.4627,19496.71917,7201.70085,5425.02335,12981.3457,4239.89265,13143.33665,7050.0213,9377.9047,22395.74424,10325.206,12629.1656,10795.93733,11411.685,10600.5483,2205.9808,1629.8335,2007.945],\"yaxis\":\"y\",\"type\":\"scattergl\"}],                        {\"template\":{\"data\":{\"histogram2dcontour\":[{\"type\":\"histogram2dcontour\",\"colorbar\":{\"outlinewidth\":0,\"ticks\":\"\"},\"colorscale\":[[0.0,\"#0d0887\"],[0.1111111111111111,\"#46039f\"],[0.2222222222222222,\"#7201a8\"],[0.3333333333333333,\"#9c179e\"],[0.4444444444444444,\"#bd3786\"],[0.5555555555555556,\"#d8576b\"],[0.6666666666666666,\"#ed7953\"],[0.7777777777777778,\"#fb9f3a\"],[0.8888888888888888,\"#fdca26\"],[1.0,\"#f0f921\"]]}],\"choropleth\":[{\"type\":\"choropleth\",\"colorbar\":{\"outlinewidth\":0,\"ticks\":\"\"}}],\"histogram2d\":[{\"type\":\"histogram2d\",\"colorbar\":{\"outlinewidth\":0,\"ticks\":\"\"},\"colorscale\":[[0.0,\"#0d0887\"],[0.1111111111111111,\"#46039f\"],[0.2222222222222222,\"#7201a8\"],[0.3333333333333333,\"#9c179e\"],[0.4444444444444444,\"#bd3786\"],[0.5555555555555556,\"#d8576b\"],[0.6666666666666666,\"#ed7953\"],[0.7777777777777778,\"#fb9f3a\"],[0.8888888888888888,\"#fdca26\"],[1.0,\"#f0f921\"]]}],\"heatmap\":[{\"type\":\"heatmap\",\"colorbar\":{\"outlinewidth\":0,\"ticks\":\"\"},\"colorscale\":[[0.0,\"#0d0887\"],[0.1111111111111111,\"#46039f\"],[0.2222222222222222,\"#7201a8\"],[0.3333333333333333,\"#9c179e\"],[0.4444444444444444,\"#bd3786\"],[0.5555555555555556,\"#d8576b\"],[0.6666666666666666,\"#ed7953\"],[0.7777777777777778,\"#fb9f3a\"],[0.8888888888888888,\"#fdca26\"],[1.0,\"#f0f921\"]]}],\"heatmapgl\":[{\"type\":\"heatmapgl\",\"colorbar\":{\"outlinewidth\":0,\"ticks\":\"\"},\"colorscale\":[[0.0,\"#0d0887\"],[0.1111111111111111,\"#46039f\"],[0.2222222222222222,\"#7201a8\"],[0.3333333333333333,\"#9c179e\"],[0.4444444444444444,\"#bd3786\"],[0.5555555555555556,\"#d8576b\"],[0.6666666666666666,\"#ed7953\"],[0.7777777777777778,\"#fb9f3a\"],[0.8888888888888888,\"#fdca26\"],[1.0,\"#f0f921\"]]}],\"contourcarpet\":[{\"type\":\"contourcarpet\",\"colorbar\":{\"outlinewidth\":0,\"ticks\":\"\"}}],\"contour\":[{\"type\":\"contour\",\"colorbar\":{\"outlinewidth\":0,\"ticks\":\"\"},\"colorscale\":[[0.0,\"#0d0887\"],[0.1111111111111111,\"#46039f\"],[0.2222222222222222,\"#7201a8\"],[0.3333333333333333,\"#9c179e\"],[0.4444444444444444,\"#bd3786\"],[0.5555555555555556,\"#d8576b\"],[0.6666666666666666,\"#ed7953\"],[0.7777777777777778,\"#fb9f3a\"],[0.8888888888888888,\"#fdca26\"],[1.0,\"#f0f921\"]]}],\"surface\":[{\"type\":\"surface\",\"colorbar\":{\"outlinewidth\":0,\"ticks\":\"\"},\"colorscale\":[[0.0,\"#0d0887\"],[0.1111111111111111,\"#46039f\"],[0.2222222222222222,\"#7201a8\"],[0.3333333333333333,\"#9c179e\"],[0.4444444444444444,\"#bd3786\"],[0.5555555555555556,\"#d8576b\"],[0.6666666666666666,\"#ed7953\"],[0.7777777777777778,\"#fb9f3a\"],[0.8888888888888888,\"#fdca26\"],[1.0,\"#f0f921\"]]}],\"mesh3d\":[{\"type\":\"mesh3d\",\"colorbar\":{\"outlinewidth\":0,\"ticks\":\"\"}}],\"scatter\":[{\"fillpattern\":{\"fillmode\":\"overlay\",\"size\":10,\"solidity\":0.2},\"type\":\"scatter\"}],\"parcoords\":[{\"type\":\"parcoords\",\"line\":{\"colorbar\":{\"outlinewidth\":0,\"ticks\":\"\"}}}],\"scatterpolargl\":[{\"type\":\"scatterpolargl\",\"marker\":{\"colorbar\":{\"outlinewidth\":0,\"ticks\":\"\"}}}],\"bar\":[{\"error_x\":{\"color\":\"#2a3f5f\"},\"error_y\":{\"color\":\"#2a3f5f\"},\"marker\":{\"line\":{\"color\":\"#E5ECF6\",\"width\":0.5},\"pattern\":{\"fillmode\":\"overlay\",\"size\":10,\"solidity\":0.2}},\"type\":\"bar\"}],\"scattergeo\":[{\"type\":\"scattergeo\",\"marker\":{\"colorbar\":{\"outlinewidth\":0,\"ticks\":\"\"}}}],\"scatterpolar\":[{\"type\":\"scatterpolar\",\"marker\":{\"colorbar\":{\"outlinewidth\":0,\"ticks\":\"\"}}}],\"histogram\":[{\"marker\":{\"pattern\":{\"fillmode\":\"overlay\",\"size\":10,\"solidity\":0.2}},\"type\":\"histogram\"}],\"scattergl\":[{\"type\":\"scattergl\",\"marker\":{\"colorbar\":{\"outlinewidth\":0,\"ticks\":\"\"}}}],\"scatter3d\":[{\"type\":\"scatter3d\",\"line\":{\"colorbar\":{\"outlinewidth\":0,\"ticks\":\"\"}},\"marker\":{\"colorbar\":{\"outlinewidth\":0,\"ticks\":\"\"}}}],\"scattermapbox\":[{\"type\":\"scattermapbox\",\"marker\":{\"colorbar\":{\"outlinewidth\":0,\"ticks\":\"\"}}}],\"scatterternary\":[{\"type\":\"scatterternary\",\"marker\":{\"colorbar\":{\"outlinewidth\":0,\"ticks\":\"\"}}}],\"scattercarpet\":[{\"type\":\"scattercarpet\",\"marker\":{\"colorbar\":{\"outlinewidth\":0,\"ticks\":\"\"}}}],\"carpet\":[{\"aaxis\":{\"endlinecolor\":\"#2a3f5f\",\"gridcolor\":\"white\",\"linecolor\":\"white\",\"minorgridcolor\":\"white\",\"startlinecolor\":\"#2a3f5f\"},\"baxis\":{\"endlinecolor\":\"#2a3f5f\",\"gridcolor\":\"white\",\"linecolor\":\"white\",\"minorgridcolor\":\"white\",\"startlinecolor\":\"#2a3f5f\"},\"type\":\"carpet\"}],\"table\":[{\"cells\":{\"fill\":{\"color\":\"#EBF0F8\"},\"line\":{\"color\":\"white\"}},\"header\":{\"fill\":{\"color\":\"#C8D4E3\"},\"line\":{\"color\":\"white\"}},\"type\":\"table\"}],\"barpolar\":[{\"marker\":{\"line\":{\"color\":\"#E5ECF6\",\"width\":0.5},\"pattern\":{\"fillmode\":\"overlay\",\"size\":10,\"solidity\":0.2}},\"type\":\"barpolar\"}],\"pie\":[{\"automargin\":true,\"type\":\"pie\"}]},\"layout\":{\"autotypenumbers\":\"strict\",\"colorway\":[\"#636efa\",\"#EF553B\",\"#00cc96\",\"#ab63fa\",\"#FFA15A\",\"#19d3f3\",\"#FF6692\",\"#B6E880\",\"#FF97FF\",\"#FECB52\"],\"font\":{\"color\":\"#2a3f5f\"},\"hovermode\":\"closest\",\"hoverlabel\":{\"align\":\"left\"},\"paper_bgcolor\":\"white\",\"plot_bgcolor\":\"#E5ECF6\",\"polar\":{\"bgcolor\":\"#E5ECF6\",\"angularaxis\":{\"gridcolor\":\"white\",\"linecolor\":\"white\",\"ticks\":\"\"},\"radialaxis\":{\"gridcolor\":\"white\",\"linecolor\":\"white\",\"ticks\":\"\"}},\"ternary\":{\"bgcolor\":\"#E5ECF6\",\"aaxis\":{\"gridcolor\":\"white\",\"linecolor\":\"white\",\"ticks\":\"\"},\"baxis\":{\"gridcolor\":\"white\",\"linecolor\":\"white\",\"ticks\":\"\"},\"caxis\":{\"gridcolor\":\"white\",\"linecolor\":\"white\",\"ticks\":\"\"}},\"coloraxis\":{\"colorbar\":{\"outlinewidth\":0,\"ticks\":\"\"}},\"colorscale\":{\"sequential\":[[0.0,\"#0d0887\"],[0.1111111111111111,\"#46039f\"],[0.2222222222222222,\"#7201a8\"],[0.3333333333333333,\"#9c179e\"],[0.4444444444444444,\"#bd3786\"],[0.5555555555555556,\"#d8576b\"],[0.6666666666666666,\"#ed7953\"],[0.7777777777777778,\"#fb9f3a\"],[0.8888888888888888,\"#fdca26\"],[1.0,\"#f0f921\"]],\"sequentialminus\":[[0.0,\"#0d0887\"],[0.1111111111111111,\"#46039f\"],[0.2222222222222222,\"#7201a8\"],[0.3333333333333333,\"#9c179e\"],[0.4444444444444444,\"#bd3786\"],[0.5555555555555556,\"#d8576b\"],[0.6666666666666666,\"#ed7953\"],[0.7777777777777778,\"#fb9f3a\"],[0.8888888888888888,\"#fdca26\"],[1.0,\"#f0f921\"]],\"diverging\":[[0,\"#8e0152\"],[0.1,\"#c51b7d\"],[0.2,\"#de77ae\"],[0.3,\"#f1b6da\"],[0.4,\"#fde0ef\"],[0.5,\"#f7f7f7\"],[0.6,\"#e6f5d0\"],[0.7,\"#b8e186\"],[0.8,\"#7fbc41\"],[0.9,\"#4d9221\"],[1,\"#276419\"]]},\"xaxis\":{\"gridcolor\":\"white\",\"linecolor\":\"white\",\"ticks\":\"\",\"title\":{\"standoff\":15},\"zerolinecolor\":\"white\",\"automargin\":true,\"zerolinewidth\":2},\"yaxis\":{\"gridcolor\":\"white\",\"linecolor\":\"white\",\"ticks\":\"\",\"title\":{\"standoff\":15},\"zerolinecolor\":\"white\",\"automargin\":true,\"zerolinewidth\":2},\"scene\":{\"xaxis\":{\"backgroundcolor\":\"#E5ECF6\",\"gridcolor\":\"white\",\"linecolor\":\"white\",\"showbackground\":true,\"ticks\":\"\",\"zerolinecolor\":\"white\",\"gridwidth\":2},\"yaxis\":{\"backgroundcolor\":\"#E5ECF6\",\"gridcolor\":\"white\",\"linecolor\":\"white\",\"showbackground\":true,\"ticks\":\"\",\"zerolinecolor\":\"white\",\"gridwidth\":2},\"zaxis\":{\"backgroundcolor\":\"#E5ECF6\",\"gridcolor\":\"white\",\"linecolor\":\"white\",\"showbackground\":true,\"ticks\":\"\",\"zerolinecolor\":\"white\",\"gridwidth\":2}},\"shapedefaults\":{\"line\":{\"color\":\"#2a3f5f\"}},\"annotationdefaults\":{\"arrowcolor\":\"#2a3f5f\",\"arrowhead\":0,\"arrowwidth\":1},\"geo\":{\"bgcolor\":\"white\",\"landcolor\":\"#E5ECF6\",\"subunitcolor\":\"white\",\"showland\":true,\"showlakes\":true,\"lakecolor\":\"white\"},\"title\":{\"x\":0.05},\"mapbox\":{\"style\":\"light\"}}},\"xaxis\":{\"anchor\":\"y\",\"domain\":[0.0,1.0],\"title\":{\"text\":\"age\"}},\"yaxis\":{\"anchor\":\"x\",\"domain\":[0.0,1.0],\"title\":{\"text\":\"charges\"}},\"legend\":{\"title\":{\"text\":\"smoker\"},\"tracegroupgap\":0},\"title\":{\"text\":\"Age vs. Charges\"}},                        {\"responsive\": true}                    ).then(function(){\n",
       "                            \n",
       "var gd = document.getElementById('9a2ed26c-0187-42a0-bb56-98c2d99dea30');\n",
       "var x = new MutationObserver(function (mutations, observer) {{\n",
       "        var display = window.getComputedStyle(gd).display;\n",
       "        if (!display || display === 'none') {{\n",
       "            console.log([gd, 'removed!']);\n",
       "            Plotly.purge(gd);\n",
       "            observer.disconnect();\n",
       "        }}\n",
       "}});\n",
       "\n",
       "// Listen for the removal of the full notebook cells\n",
       "var notebookContainer = gd.closest('#notebook-container');\n",
       "if (notebookContainer) {{\n",
       "    x.observe(notebookContainer, {childList: true});\n",
       "}}\n",
       "\n",
       "// Listen for the clearing of the current output cell\n",
       "var outputEl = gd.closest('.output');\n",
       "if (outputEl) {{\n",
       "    x.observe(outputEl, {childList: true});\n",
       "}}\n",
       "\n",
       "                        })                };                });            </script>        </div>"
      ]
     },
     "metadata": {},
     "output_type": "display_data"
    }
   ],
   "source": [
    "fig = px.scatter(medical_df, \n",
    "                 x='age', \n",
    "                 y='charges', \n",
    "                 color='smoker', \n",
    "                 opacity=0.8, \n",
    "                 hover_data=['sex'], \n",
    "                 title='Age vs. Charges')\n",
    "fig.update_traces(marker_size=5)\n",
    "fig.show()"
   ]
  },
  {
   "cell_type": "code",
   "execution_count": 146,
   "id": "490888ba",
   "metadata": {},
   "outputs": [
    {
     "data": {
      "text/plain": [
       "0.7872514304984782"
      ]
     },
     "execution_count": 146,
     "metadata": {},
     "output_type": "execute_result"
    }
   ],
   "source": [
    "smoker_values = {'no': 0, 'yes': 1}\n",
    "smoker_numeric = medical_df.smoker.map(smoker_values)\n",
    "medical_df.charges.corr(smoker_numeric)"
   ]
  },
  {
   "cell_type": "markdown",
   "id": "eaf4b75b",
   "metadata": {},
   "source": [
    "> **EXERCISE**: Repeat the steps is this section to train a linear regression model to estimate medical charges for smokers. Visualize the targets and predictions, and compute the loss."
   ]
  },
  {
   "cell_type": "code",
   "execution_count": 127,
   "id": "56e996b8",
   "metadata": {},
   "outputs": [
    {
     "data": {
      "text/html": [
       "<div>\n",
       "<style scoped>\n",
       "    .dataframe tbody tr th:only-of-type {\n",
       "        vertical-align: middle;\n",
       "    }\n",
       "\n",
       "    .dataframe tbody tr th {\n",
       "        vertical-align: top;\n",
       "    }\n",
       "\n",
       "    .dataframe thead th {\n",
       "        text-align: right;\n",
       "    }\n",
       "</style>\n",
       "<table border=\"1\" class=\"dataframe\">\n",
       "  <thead>\n",
       "    <tr style=\"text-align: right;\">\n",
       "      <th></th>\n",
       "      <th>age</th>\n",
       "      <th>sex</th>\n",
       "      <th>bmi</th>\n",
       "      <th>children</th>\n",
       "      <th>smoker</th>\n",
       "      <th>region</th>\n",
       "      <th>charges</th>\n",
       "      <th>smoker_code</th>\n",
       "      <th>sex_code</th>\n",
       "      <th>northeast</th>\n",
       "      <th>northwest</th>\n",
       "      <th>southeast</th>\n",
       "      <th>southwest</th>\n",
       "    </tr>\n",
       "  </thead>\n",
       "  <tbody>\n",
       "    <tr>\n",
       "      <th>0</th>\n",
       "      <td>19</td>\n",
       "      <td>female</td>\n",
       "      <td>27.900</td>\n",
       "      <td>0</td>\n",
       "      <td>yes</td>\n",
       "      <td>southwest</td>\n",
       "      <td>16884.92400</td>\n",
       "      <td>1</td>\n",
       "      <td>0</td>\n",
       "      <td>0.0</td>\n",
       "      <td>0.0</td>\n",
       "      <td>0.0</td>\n",
       "      <td>1.0</td>\n",
       "    </tr>\n",
       "    <tr>\n",
       "      <th>1</th>\n",
       "      <td>18</td>\n",
       "      <td>male</td>\n",
       "      <td>33.770</td>\n",
       "      <td>1</td>\n",
       "      <td>no</td>\n",
       "      <td>southeast</td>\n",
       "      <td>1725.55230</td>\n",
       "      <td>0</td>\n",
       "      <td>1</td>\n",
       "      <td>0.0</td>\n",
       "      <td>0.0</td>\n",
       "      <td>1.0</td>\n",
       "      <td>0.0</td>\n",
       "    </tr>\n",
       "    <tr>\n",
       "      <th>2</th>\n",
       "      <td>28</td>\n",
       "      <td>male</td>\n",
       "      <td>33.000</td>\n",
       "      <td>3</td>\n",
       "      <td>no</td>\n",
       "      <td>southeast</td>\n",
       "      <td>4449.46200</td>\n",
       "      <td>0</td>\n",
       "      <td>1</td>\n",
       "      <td>0.0</td>\n",
       "      <td>0.0</td>\n",
       "      <td>1.0</td>\n",
       "      <td>0.0</td>\n",
       "    </tr>\n",
       "    <tr>\n",
       "      <th>3</th>\n",
       "      <td>33</td>\n",
       "      <td>male</td>\n",
       "      <td>22.705</td>\n",
       "      <td>0</td>\n",
       "      <td>no</td>\n",
       "      <td>northwest</td>\n",
       "      <td>21984.47061</td>\n",
       "      <td>0</td>\n",
       "      <td>1</td>\n",
       "      <td>0.0</td>\n",
       "      <td>1.0</td>\n",
       "      <td>0.0</td>\n",
       "      <td>0.0</td>\n",
       "    </tr>\n",
       "    <tr>\n",
       "      <th>4</th>\n",
       "      <td>32</td>\n",
       "      <td>male</td>\n",
       "      <td>28.880</td>\n",
       "      <td>0</td>\n",
       "      <td>no</td>\n",
       "      <td>northwest</td>\n",
       "      <td>3866.85520</td>\n",
       "      <td>0</td>\n",
       "      <td>1</td>\n",
       "      <td>0.0</td>\n",
       "      <td>1.0</td>\n",
       "      <td>0.0</td>\n",
       "      <td>0.0</td>\n",
       "    </tr>\n",
       "    <tr>\n",
       "      <th>...</th>\n",
       "      <td>...</td>\n",
       "      <td>...</td>\n",
       "      <td>...</td>\n",
       "      <td>...</td>\n",
       "      <td>...</td>\n",
       "      <td>...</td>\n",
       "      <td>...</td>\n",
       "      <td>...</td>\n",
       "      <td>...</td>\n",
       "      <td>...</td>\n",
       "      <td>...</td>\n",
       "      <td>...</td>\n",
       "      <td>...</td>\n",
       "    </tr>\n",
       "    <tr>\n",
       "      <th>1333</th>\n",
       "      <td>50</td>\n",
       "      <td>male</td>\n",
       "      <td>30.970</td>\n",
       "      <td>3</td>\n",
       "      <td>no</td>\n",
       "      <td>northwest</td>\n",
       "      <td>10600.54830</td>\n",
       "      <td>0</td>\n",
       "      <td>1</td>\n",
       "      <td>0.0</td>\n",
       "      <td>1.0</td>\n",
       "      <td>0.0</td>\n",
       "      <td>0.0</td>\n",
       "    </tr>\n",
       "    <tr>\n",
       "      <th>1334</th>\n",
       "      <td>18</td>\n",
       "      <td>female</td>\n",
       "      <td>31.920</td>\n",
       "      <td>0</td>\n",
       "      <td>no</td>\n",
       "      <td>northeast</td>\n",
       "      <td>2205.98080</td>\n",
       "      <td>0</td>\n",
       "      <td>0</td>\n",
       "      <td>1.0</td>\n",
       "      <td>0.0</td>\n",
       "      <td>0.0</td>\n",
       "      <td>0.0</td>\n",
       "    </tr>\n",
       "    <tr>\n",
       "      <th>1335</th>\n",
       "      <td>18</td>\n",
       "      <td>female</td>\n",
       "      <td>36.850</td>\n",
       "      <td>0</td>\n",
       "      <td>no</td>\n",
       "      <td>southeast</td>\n",
       "      <td>1629.83350</td>\n",
       "      <td>0</td>\n",
       "      <td>0</td>\n",
       "      <td>0.0</td>\n",
       "      <td>0.0</td>\n",
       "      <td>1.0</td>\n",
       "      <td>0.0</td>\n",
       "    </tr>\n",
       "    <tr>\n",
       "      <th>1336</th>\n",
       "      <td>21</td>\n",
       "      <td>female</td>\n",
       "      <td>25.800</td>\n",
       "      <td>0</td>\n",
       "      <td>no</td>\n",
       "      <td>southwest</td>\n",
       "      <td>2007.94500</td>\n",
       "      <td>0</td>\n",
       "      <td>0</td>\n",
       "      <td>0.0</td>\n",
       "      <td>0.0</td>\n",
       "      <td>0.0</td>\n",
       "      <td>1.0</td>\n",
       "    </tr>\n",
       "    <tr>\n",
       "      <th>1337</th>\n",
       "      <td>61</td>\n",
       "      <td>female</td>\n",
       "      <td>29.070</td>\n",
       "      <td>0</td>\n",
       "      <td>yes</td>\n",
       "      <td>northwest</td>\n",
       "      <td>29141.36030</td>\n",
       "      <td>1</td>\n",
       "      <td>0</td>\n",
       "      <td>0.0</td>\n",
       "      <td>1.0</td>\n",
       "      <td>0.0</td>\n",
       "      <td>0.0</td>\n",
       "    </tr>\n",
       "  </tbody>\n",
       "</table>\n",
       "<p>1338 rows × 13 columns</p>\n",
       "</div>"
      ],
      "text/plain": [
       "      age     sex     bmi  children smoker     region      charges  \\\n",
       "0      19  female  27.900         0    yes  southwest  16884.92400   \n",
       "1      18    male  33.770         1     no  southeast   1725.55230   \n",
       "2      28    male  33.000         3     no  southeast   4449.46200   \n",
       "3      33    male  22.705         0     no  northwest  21984.47061   \n",
       "4      32    male  28.880         0     no  northwest   3866.85520   \n",
       "...   ...     ...     ...       ...    ...        ...          ...   \n",
       "1333   50    male  30.970         3     no  northwest  10600.54830   \n",
       "1334   18  female  31.920         0     no  northeast   2205.98080   \n",
       "1335   18  female  36.850         0     no  southeast   1629.83350   \n",
       "1336   21  female  25.800         0     no  southwest   2007.94500   \n",
       "1337   61  female  29.070         0    yes  northwest  29141.36030   \n",
       "\n",
       "      smoker_code  sex_code  northeast  northwest  southeast  southwest  \n",
       "0               1         0        0.0        0.0        0.0        1.0  \n",
       "1               0         1        0.0        0.0        1.0        0.0  \n",
       "2               0         1        0.0        0.0        1.0        0.0  \n",
       "3               0         1        0.0        1.0        0.0        0.0  \n",
       "4               0         1        0.0        1.0        0.0        0.0  \n",
       "...           ...       ...        ...        ...        ...        ...  \n",
       "1333            0         1        0.0        1.0        0.0        0.0  \n",
       "1334            0         0        1.0        0.0        0.0        0.0  \n",
       "1335            0         0        0.0        0.0        1.0        0.0  \n",
       "1336            0         0        0.0        0.0        0.0        1.0  \n",
       "1337            1         0        0.0        1.0        0.0        0.0  \n",
       "\n",
       "[1338 rows x 13 columns]"
      ]
     },
     "execution_count": 127,
     "metadata": {},
     "output_type": "execute_result"
    }
   ],
   "source": [
    "medical_df"
   ]
  },
  {
   "cell_type": "markdown",
   "id": "34380197",
   "metadata": {},
   "source": [
    "First, let's create a data frame containing just the data for smokers."
   ]
  },
  {
   "cell_type": "code",
   "execution_count": 147,
   "id": "382309ce",
   "metadata": {},
   "outputs": [],
   "source": [
    "smoker_df = medical_df[medical_df.smoker == \"yes\"]"
   ]
  },
  {
   "cell_type": "code",
   "execution_count": 148,
   "id": "7e3876a6",
   "metadata": {},
   "outputs": [
    {
     "data": {
      "text/html": [
       "<div>\n",
       "<style scoped>\n",
       "    .dataframe tbody tr th:only-of-type {\n",
       "        vertical-align: middle;\n",
       "    }\n",
       "\n",
       "    .dataframe tbody tr th {\n",
       "        vertical-align: top;\n",
       "    }\n",
       "\n",
       "    .dataframe thead th {\n",
       "        text-align: right;\n",
       "    }\n",
       "</style>\n",
       "<table border=\"1\" class=\"dataframe\">\n",
       "  <thead>\n",
       "    <tr style=\"text-align: right;\">\n",
       "      <th></th>\n",
       "      <th>age</th>\n",
       "      <th>sex</th>\n",
       "      <th>bmi</th>\n",
       "      <th>children</th>\n",
       "      <th>smoker</th>\n",
       "      <th>region</th>\n",
       "      <th>charges</th>\n",
       "      <th>smoker_code</th>\n",
       "      <th>sex_code</th>\n",
       "      <th>northeast</th>\n",
       "      <th>northwest</th>\n",
       "      <th>southeast</th>\n",
       "      <th>southwest</th>\n",
       "    </tr>\n",
       "  </thead>\n",
       "  <tbody>\n",
       "    <tr>\n",
       "      <th>0</th>\n",
       "      <td>19</td>\n",
       "      <td>female</td>\n",
       "      <td>27.900</td>\n",
       "      <td>0</td>\n",
       "      <td>yes</td>\n",
       "      <td>southwest</td>\n",
       "      <td>16884.92400</td>\n",
       "      <td>1</td>\n",
       "      <td>0</td>\n",
       "      <td>0.0</td>\n",
       "      <td>0.0</td>\n",
       "      <td>0.0</td>\n",
       "      <td>1.0</td>\n",
       "    </tr>\n",
       "    <tr>\n",
       "      <th>11</th>\n",
       "      <td>62</td>\n",
       "      <td>female</td>\n",
       "      <td>26.290</td>\n",
       "      <td>0</td>\n",
       "      <td>yes</td>\n",
       "      <td>southeast</td>\n",
       "      <td>27808.72510</td>\n",
       "      <td>1</td>\n",
       "      <td>0</td>\n",
       "      <td>0.0</td>\n",
       "      <td>0.0</td>\n",
       "      <td>1.0</td>\n",
       "      <td>0.0</td>\n",
       "    </tr>\n",
       "    <tr>\n",
       "      <th>14</th>\n",
       "      <td>27</td>\n",
       "      <td>male</td>\n",
       "      <td>42.130</td>\n",
       "      <td>0</td>\n",
       "      <td>yes</td>\n",
       "      <td>southeast</td>\n",
       "      <td>39611.75770</td>\n",
       "      <td>1</td>\n",
       "      <td>1</td>\n",
       "      <td>0.0</td>\n",
       "      <td>0.0</td>\n",
       "      <td>1.0</td>\n",
       "      <td>0.0</td>\n",
       "    </tr>\n",
       "    <tr>\n",
       "      <th>19</th>\n",
       "      <td>30</td>\n",
       "      <td>male</td>\n",
       "      <td>35.300</td>\n",
       "      <td>0</td>\n",
       "      <td>yes</td>\n",
       "      <td>southwest</td>\n",
       "      <td>36837.46700</td>\n",
       "      <td>1</td>\n",
       "      <td>1</td>\n",
       "      <td>0.0</td>\n",
       "      <td>0.0</td>\n",
       "      <td>0.0</td>\n",
       "      <td>1.0</td>\n",
       "    </tr>\n",
       "    <tr>\n",
       "      <th>23</th>\n",
       "      <td>34</td>\n",
       "      <td>female</td>\n",
       "      <td>31.920</td>\n",
       "      <td>1</td>\n",
       "      <td>yes</td>\n",
       "      <td>northeast</td>\n",
       "      <td>37701.87680</td>\n",
       "      <td>1</td>\n",
       "      <td>0</td>\n",
       "      <td>1.0</td>\n",
       "      <td>0.0</td>\n",
       "      <td>0.0</td>\n",
       "      <td>0.0</td>\n",
       "    </tr>\n",
       "    <tr>\n",
       "      <th>...</th>\n",
       "      <td>...</td>\n",
       "      <td>...</td>\n",
       "      <td>...</td>\n",
       "      <td>...</td>\n",
       "      <td>...</td>\n",
       "      <td>...</td>\n",
       "      <td>...</td>\n",
       "      <td>...</td>\n",
       "      <td>...</td>\n",
       "      <td>...</td>\n",
       "      <td>...</td>\n",
       "      <td>...</td>\n",
       "      <td>...</td>\n",
       "    </tr>\n",
       "    <tr>\n",
       "      <th>1313</th>\n",
       "      <td>19</td>\n",
       "      <td>female</td>\n",
       "      <td>34.700</td>\n",
       "      <td>2</td>\n",
       "      <td>yes</td>\n",
       "      <td>southwest</td>\n",
       "      <td>36397.57600</td>\n",
       "      <td>1</td>\n",
       "      <td>0</td>\n",
       "      <td>0.0</td>\n",
       "      <td>0.0</td>\n",
       "      <td>0.0</td>\n",
       "      <td>1.0</td>\n",
       "    </tr>\n",
       "    <tr>\n",
       "      <th>1314</th>\n",
       "      <td>30</td>\n",
       "      <td>female</td>\n",
       "      <td>23.655</td>\n",
       "      <td>3</td>\n",
       "      <td>yes</td>\n",
       "      <td>northwest</td>\n",
       "      <td>18765.87545</td>\n",
       "      <td>1</td>\n",
       "      <td>0</td>\n",
       "      <td>0.0</td>\n",
       "      <td>1.0</td>\n",
       "      <td>0.0</td>\n",
       "      <td>0.0</td>\n",
       "    </tr>\n",
       "    <tr>\n",
       "      <th>1321</th>\n",
       "      <td>62</td>\n",
       "      <td>male</td>\n",
       "      <td>26.695</td>\n",
       "      <td>0</td>\n",
       "      <td>yes</td>\n",
       "      <td>northeast</td>\n",
       "      <td>28101.33305</td>\n",
       "      <td>1</td>\n",
       "      <td>1</td>\n",
       "      <td>1.0</td>\n",
       "      <td>0.0</td>\n",
       "      <td>0.0</td>\n",
       "      <td>0.0</td>\n",
       "    </tr>\n",
       "    <tr>\n",
       "      <th>1323</th>\n",
       "      <td>42</td>\n",
       "      <td>female</td>\n",
       "      <td>40.370</td>\n",
       "      <td>2</td>\n",
       "      <td>yes</td>\n",
       "      <td>southeast</td>\n",
       "      <td>43896.37630</td>\n",
       "      <td>1</td>\n",
       "      <td>0</td>\n",
       "      <td>0.0</td>\n",
       "      <td>0.0</td>\n",
       "      <td>1.0</td>\n",
       "      <td>0.0</td>\n",
       "    </tr>\n",
       "    <tr>\n",
       "      <th>1337</th>\n",
       "      <td>61</td>\n",
       "      <td>female</td>\n",
       "      <td>29.070</td>\n",
       "      <td>0</td>\n",
       "      <td>yes</td>\n",
       "      <td>northwest</td>\n",
       "      <td>29141.36030</td>\n",
       "      <td>1</td>\n",
       "      <td>0</td>\n",
       "      <td>0.0</td>\n",
       "      <td>1.0</td>\n",
       "      <td>0.0</td>\n",
       "      <td>0.0</td>\n",
       "    </tr>\n",
       "  </tbody>\n",
       "</table>\n",
       "<p>274 rows × 13 columns</p>\n",
       "</div>"
      ],
      "text/plain": [
       "      age     sex     bmi  children smoker     region      charges  \\\n",
       "0      19  female  27.900         0    yes  southwest  16884.92400   \n",
       "11     62  female  26.290         0    yes  southeast  27808.72510   \n",
       "14     27    male  42.130         0    yes  southeast  39611.75770   \n",
       "19     30    male  35.300         0    yes  southwest  36837.46700   \n",
       "23     34  female  31.920         1    yes  northeast  37701.87680   \n",
       "...   ...     ...     ...       ...    ...        ...          ...   \n",
       "1313   19  female  34.700         2    yes  southwest  36397.57600   \n",
       "1314   30  female  23.655         3    yes  northwest  18765.87545   \n",
       "1321   62    male  26.695         0    yes  northeast  28101.33305   \n",
       "1323   42  female  40.370         2    yes  southeast  43896.37630   \n",
       "1337   61  female  29.070         0    yes  northwest  29141.36030   \n",
       "\n",
       "      smoker_code  sex_code  northeast  northwest  southeast  southwest  \n",
       "0               1         0        0.0        0.0        0.0        1.0  \n",
       "11              1         0        0.0        0.0        1.0        0.0  \n",
       "14              1         1        0.0        0.0        1.0        0.0  \n",
       "19              1         1        0.0        0.0        0.0        1.0  \n",
       "23              1         0        1.0        0.0        0.0        0.0  \n",
       "...           ...       ...        ...        ...        ...        ...  \n",
       "1313            1         0        0.0        0.0        0.0        1.0  \n",
       "1314            1         0        0.0        1.0        0.0        0.0  \n",
       "1321            1         1        1.0        0.0        0.0        0.0  \n",
       "1323            1         0        0.0        0.0        1.0        0.0  \n",
       "1337            1         0        0.0        1.0        0.0        0.0  \n",
       "\n",
       "[274 rows x 13 columns]"
      ]
     },
     "execution_count": 148,
     "metadata": {},
     "output_type": "execute_result"
    }
   ],
   "source": [
    "smoker_df"
   ]
  },
  {
   "cell_type": "markdown",
   "id": "775f179c",
   "metadata": {},
   "source": [
    "We have created a helper function estimate_charges, to compute charges, given age, w and b"
   ]
  },
  {
   "cell_type": "code",
   "execution_count": 149,
   "id": "60d62dc9",
   "metadata": {},
   "outputs": [],
   "source": [
    "def estimate_charges(age, w, b):\n",
    "    return w * age + b"
   ]
  },
  {
   "cell_type": "code",
   "execution_count": 130,
   "id": "a384c438",
   "metadata": {},
   "outputs": [],
   "source": [
    "w=50\n",
    "b=100\n",
    "ages = smoker_df.age\n",
    "estimated_charges = estimate_charges(ages,w,b)"
   ]
  },
  {
   "cell_type": "markdown",
   "id": "87d6dac4",
   "metadata": {},
   "source": [
    "We can plot estimates charges using a line graph."
   ]
  },
  {
   "cell_type": "code",
   "execution_count": 153,
   "id": "2189d11b",
   "metadata": {},
   "outputs": [
    {
     "data": {
      "image/png": "[encoded data removed]",
      "text/plain": [
       "<Figure size 720x432 with 1 Axes>"
      ]
     },
     "metadata": {
      "needs_background": "light"
     },
     "output_type": "display_data"
    }
   ],
   "source": [
    "plt.plot(ages, estimated_charges, 'r-o');\n",
    "plt.xlabel('Age');\n",
    "plt.ylabel('Estimated Charges');"
   ]
  },
  {
   "cell_type": "markdown",
   "id": "b76e2a90",
   "metadata": {},
   "source": [
    "We can overlay this line on the actual data, so see how well our model fits the data."
   ]
  },
  {
   "cell_type": "code",
   "execution_count": 155,
   "id": "7eb93c1b",
   "metadata": {},
   "outputs": [
    {
     "data": {
      "image/png": "[encoded data removed]",
      "text/plain": [
       "<Figure size 720x432 with 1 Axes>"
      ]
     },
     "metadata": {
      "needs_background": "light"
     },
     "output_type": "display_data"
    }
   ],
   "source": [
    "target= smoker_df.charges\n",
    "plt.scatter(ages,target,s=6,alpha=0.8);\n",
    "plt.plot(ages,estimated_charges,'r',alpha=0.9);\n",
    "plt.xlabel('Age');\n",
    "plt.ylabel('Charges')\n",
    "plt.legend(['Estimate', 'Actual']);"
   ]
  },
  {
   "cell_type": "markdown",
   "id": "dd0c1b07",
   "metadata": {},
   "source": [
    "Now we calculate the root mean square to find the estimated loss."
   ]
  },
  {
   "cell_type": "code",
   "execution_count": 156,
   "id": "b18c6233",
   "metadata": {},
   "outputs": [],
   "source": [
    "def rmse(targets,estimated_charges):\n",
    "    return np.sqrt(np.mean(np.square(targets-estimated_charges)))"
   ]
  },
  {
   "cell_type": "markdown",
   "id": "3ac39453",
   "metadata": {},
   "source": [
    "Let's define a helper function try_parameters which takes w and b as inputs and creates the above plot."
   ]
  },
  {
   "cell_type": "code",
   "execution_count": 157,
   "id": "77581624",
   "metadata": {},
   "outputs": [],
   "source": [
    "def try_parameters(w,b):\n",
    "    ages = smoker_df.age\n",
    "    estimated_charges = estimate_charges(ages,w,b)\n",
    "    target= smoker_df.charges\n",
    "    plt.scatter(ages,target,s=6,alpha=0.8);\n",
    "    plt.plot(ages,estimated_charges,'r',alpha=0.9);\n",
    "    \n",
    "    loss =rmse(target,estimated_charges)\n",
    "    print(\"Loss=\",loss)\n",
    "\n"
   ]
  },
  {
   "cell_type": "code",
   "execution_count": 134,
   "id": "bb828514",
   "metadata": {
    "scrolled": true
   },
   "outputs": [
    {
     "name": "stdout",
     "output_type": "stream",
     "text": [
      "Loss= 11467.733725859289\n"
     ]
    },
    {
     "data": {
      "image/png": "[encoded data removed]",
      "text/plain": [
       "<Figure size 720x432 with 1 Axes>"
      ]
     },
     "metadata": {
      "needs_background": "light"
     },
     "output_type": "display_data"
    }
   ],
   "source": [
    "try_parameters(600,8900)"
   ]
  },
  {
   "cell_type": "code",
   "execution_count": 143,
   "id": "28990e66",
   "metadata": {},
   "outputs": [],
   "source": [
    "!pip install scikit-learn --quiet"
   ]
  },
  {
   "cell_type": "code",
   "execution_count": 144,
   "id": "1d7bb3ac",
   "metadata": {},
   "outputs": [],
   "source": [
    "from sklearn.linear_model import LinearRegression"
   ]
  },
  {
   "cell_type": "markdown",
   "id": "24d564d9",
   "metadata": {},
   "source": [
    "First, we create a new model object. Next, we can use the fit method of the model to find the best fit line for the inputs and targets. "
   ]
  },
  {
   "cell_type": "code",
   "execution_count": 158,
   "id": "fcebbbcc",
   "metadata": {},
   "outputs": [
    {
     "data": {
      "text/plain": [
       "LinearRegression()"
      ]
     },
     "execution_count": 158,
     "metadata": {},
     "output_type": "execute_result"
    }
   ],
   "source": [
    "model = LinearRegression()\n",
    "inputs = smoker_df[['age']]\n",
    "target = smoker_df.charges\n",
    "model.fit(inputs,target)\n"
   ]
  },
  {
   "cell_type": "markdown",
   "id": "84f411e0",
   "metadata": {},
   "source": [
    "We can now make predictions using the model. Let's try predicting the charges for the age 19."
   ]
  },
  {
   "cell_type": "code",
   "execution_count": 160,
   "id": "216c2f8a",
   "metadata": {},
   "outputs": [
    {
     "name": "stderr",
     "output_type": "stream",
     "text": [
      "/opt/conda/lib/python3.9/site-packages/sklearn/base.py:445: UserWarning:\n",
      "\n",
      "X does not have valid feature names, but LinearRegression was fitted with feature names\n",
      "\n"
     ]
    },
    {
     "data": {
      "text/plain": [
       "array([26093.642567])"
      ]
     },
     "execution_count": 160,
     "metadata": {},
     "output_type": "execute_result"
    }
   ],
   "source": [
    "model.predict(np.array([[19]]))\n"
   ]
  },
  {
   "cell_type": "code",
   "execution_count": 161,
   "id": "7e6ee36b",
   "metadata": {},
   "outputs": [
    {
     "data": {
      "text/html": [
       "<div>\n",
       "<style scoped>\n",
       "    .dataframe tbody tr th:only-of-type {\n",
       "        vertical-align: middle;\n",
       "    }\n",
       "\n",
       "    .dataframe tbody tr th {\n",
       "        vertical-align: top;\n",
       "    }\n",
       "\n",
       "    .dataframe thead th {\n",
       "        text-align: right;\n",
       "    }\n",
       "</style>\n",
       "<table border=\"1\" class=\"dataframe\">\n",
       "  <thead>\n",
       "    <tr style=\"text-align: right;\">\n",
       "      <th></th>\n",
       "      <th>age</th>\n",
       "      <th>sex</th>\n",
       "      <th>bmi</th>\n",
       "      <th>children</th>\n",
       "      <th>smoker</th>\n",
       "      <th>region</th>\n",
       "      <th>charges</th>\n",
       "      <th>smoker_code</th>\n",
       "      <th>sex_code</th>\n",
       "      <th>northeast</th>\n",
       "      <th>northwest</th>\n",
       "      <th>southeast</th>\n",
       "      <th>southwest</th>\n",
       "    </tr>\n",
       "  </thead>\n",
       "  <tbody>\n",
       "    <tr>\n",
       "      <th>0</th>\n",
       "      <td>19</td>\n",
       "      <td>female</td>\n",
       "      <td>27.900</td>\n",
       "      <td>0</td>\n",
       "      <td>yes</td>\n",
       "      <td>southwest</td>\n",
       "      <td>16884.92400</td>\n",
       "      <td>1</td>\n",
       "      <td>0</td>\n",
       "      <td>0.0</td>\n",
       "      <td>0.0</td>\n",
       "      <td>0.0</td>\n",
       "      <td>1.0</td>\n",
       "    </tr>\n",
       "    <tr>\n",
       "      <th>11</th>\n",
       "      <td>62</td>\n",
       "      <td>female</td>\n",
       "      <td>26.290</td>\n",
       "      <td>0</td>\n",
       "      <td>yes</td>\n",
       "      <td>southeast</td>\n",
       "      <td>27808.72510</td>\n",
       "      <td>1</td>\n",
       "      <td>0</td>\n",
       "      <td>0.0</td>\n",
       "      <td>0.0</td>\n",
       "      <td>1.0</td>\n",
       "      <td>0.0</td>\n",
       "    </tr>\n",
       "    <tr>\n",
       "      <th>14</th>\n",
       "      <td>27</td>\n",
       "      <td>male</td>\n",
       "      <td>42.130</td>\n",
       "      <td>0</td>\n",
       "      <td>yes</td>\n",
       "      <td>southeast</td>\n",
       "      <td>39611.75770</td>\n",
       "      <td>1</td>\n",
       "      <td>1</td>\n",
       "      <td>0.0</td>\n",
       "      <td>0.0</td>\n",
       "      <td>1.0</td>\n",
       "      <td>0.0</td>\n",
       "    </tr>\n",
       "    <tr>\n",
       "      <th>19</th>\n",
       "      <td>30</td>\n",
       "      <td>male</td>\n",
       "      <td>35.300</td>\n",
       "      <td>0</td>\n",
       "      <td>yes</td>\n",
       "      <td>southwest</td>\n",
       "      <td>36837.46700</td>\n",
       "      <td>1</td>\n",
       "      <td>1</td>\n",
       "      <td>0.0</td>\n",
       "      <td>0.0</td>\n",
       "      <td>0.0</td>\n",
       "      <td>1.0</td>\n",
       "    </tr>\n",
       "    <tr>\n",
       "      <th>23</th>\n",
       "      <td>34</td>\n",
       "      <td>female</td>\n",
       "      <td>31.920</td>\n",
       "      <td>1</td>\n",
       "      <td>yes</td>\n",
       "      <td>northeast</td>\n",
       "      <td>37701.87680</td>\n",
       "      <td>1</td>\n",
       "      <td>0</td>\n",
       "      <td>1.0</td>\n",
       "      <td>0.0</td>\n",
       "      <td>0.0</td>\n",
       "      <td>0.0</td>\n",
       "    </tr>\n",
       "    <tr>\n",
       "      <th>...</th>\n",
       "      <td>...</td>\n",
       "      <td>...</td>\n",
       "      <td>...</td>\n",
       "      <td>...</td>\n",
       "      <td>...</td>\n",
       "      <td>...</td>\n",
       "      <td>...</td>\n",
       "      <td>...</td>\n",
       "      <td>...</td>\n",
       "      <td>...</td>\n",
       "      <td>...</td>\n",
       "      <td>...</td>\n",
       "      <td>...</td>\n",
       "    </tr>\n",
       "    <tr>\n",
       "      <th>1313</th>\n",
       "      <td>19</td>\n",
       "      <td>female</td>\n",
       "      <td>34.700</td>\n",
       "      <td>2</td>\n",
       "      <td>yes</td>\n",
       "      <td>southwest</td>\n",
       "      <td>36397.57600</td>\n",
       "      <td>1</td>\n",
       "      <td>0</td>\n",
       "      <td>0.0</td>\n",
       "      <td>0.0</td>\n",
       "      <td>0.0</td>\n",
       "      <td>1.0</td>\n",
       "    </tr>\n",
       "    <tr>\n",
       "      <th>1314</th>\n",
       "      <td>30</td>\n",
       "      <td>female</td>\n",
       "      <td>23.655</td>\n",
       "      <td>3</td>\n",
       "      <td>yes</td>\n",
       "      <td>northwest</td>\n",
       "      <td>18765.87545</td>\n",
       "      <td>1</td>\n",
       "      <td>0</td>\n",
       "      <td>0.0</td>\n",
       "      <td>1.0</td>\n",
       "      <td>0.0</td>\n",
       "      <td>0.0</td>\n",
       "    </tr>\n",
       "    <tr>\n",
       "      <th>1321</th>\n",
       "      <td>62</td>\n",
       "      <td>male</td>\n",
       "      <td>26.695</td>\n",
       "      <td>0</td>\n",
       "      <td>yes</td>\n",
       "      <td>northeast</td>\n",
       "      <td>28101.33305</td>\n",
       "      <td>1</td>\n",
       "      <td>1</td>\n",
       "      <td>1.0</td>\n",
       "      <td>0.0</td>\n",
       "      <td>0.0</td>\n",
       "      <td>0.0</td>\n",
       "    </tr>\n",
       "    <tr>\n",
       "      <th>1323</th>\n",
       "      <td>42</td>\n",
       "      <td>female</td>\n",
       "      <td>40.370</td>\n",
       "      <td>2</td>\n",
       "      <td>yes</td>\n",
       "      <td>southeast</td>\n",
       "      <td>43896.37630</td>\n",
       "      <td>1</td>\n",
       "      <td>0</td>\n",
       "      <td>0.0</td>\n",
       "      <td>0.0</td>\n",
       "      <td>1.0</td>\n",
       "      <td>0.0</td>\n",
       "    </tr>\n",
       "    <tr>\n",
       "      <th>1337</th>\n",
       "      <td>61</td>\n",
       "      <td>female</td>\n",
       "      <td>29.070</td>\n",
       "      <td>0</td>\n",
       "      <td>yes</td>\n",
       "      <td>northwest</td>\n",
       "      <td>29141.36030</td>\n",
       "      <td>1</td>\n",
       "      <td>0</td>\n",
       "      <td>0.0</td>\n",
       "      <td>1.0</td>\n",
       "      <td>0.0</td>\n",
       "      <td>0.0</td>\n",
       "    </tr>\n",
       "  </tbody>\n",
       "</table>\n",
       "<p>274 rows × 13 columns</p>\n",
       "</div>"
      ],
      "text/plain": [
       "      age     sex     bmi  children smoker     region      charges  \\\n",
       "0      19  female  27.900         0    yes  southwest  16884.92400   \n",
       "11     62  female  26.290         0    yes  southeast  27808.72510   \n",
       "14     27    male  42.130         0    yes  southeast  39611.75770   \n",
       "19     30    male  35.300         0    yes  southwest  36837.46700   \n",
       "23     34  female  31.920         1    yes  northeast  37701.87680   \n",
       "...   ...     ...     ...       ...    ...        ...          ...   \n",
       "1313   19  female  34.700         2    yes  southwest  36397.57600   \n",
       "1314   30  female  23.655         3    yes  northwest  18765.87545   \n",
       "1321   62    male  26.695         0    yes  northeast  28101.33305   \n",
       "1323   42  female  40.370         2    yes  southeast  43896.37630   \n",
       "1337   61  female  29.070         0    yes  northwest  29141.36030   \n",
       "\n",
       "      smoker_code  sex_code  northeast  northwest  southeast  southwest  \n",
       "0               1         0        0.0        0.0        0.0        1.0  \n",
       "11              1         0        0.0        0.0        1.0        0.0  \n",
       "14              1         1        0.0        0.0        1.0        0.0  \n",
       "19              1         1        0.0        0.0        0.0        1.0  \n",
       "23              1         0        1.0        0.0        0.0        0.0  \n",
       "...           ...       ...        ...        ...        ...        ...  \n",
       "1313            1         0        0.0        0.0        0.0        1.0  \n",
       "1314            1         0        0.0        1.0        0.0        0.0  \n",
       "1321            1         1        1.0        0.0        0.0        0.0  \n",
       "1323            1         0        0.0        0.0        1.0        0.0  \n",
       "1337            1         0        0.0        1.0        0.0        0.0  \n",
       "\n",
       "[274 rows x 13 columns]"
      ]
     },
     "execution_count": 161,
     "metadata": {},
     "output_type": "execute_result"
    }
   ],
   "source": [
    "smoker_df"
   ]
  },
  {
   "cell_type": "code",
   "execution_count": 162,
   "id": "e54058fa",
   "metadata": {},
   "outputs": [
    {
     "data": {
      "text/plain": [
       "10711.00334810241"
      ]
     },
     "execution_count": 162,
     "metadata": {},
     "output_type": "execute_result"
    }
   ],
   "source": [
    "predictions = model.predict(inputs)\n",
    "rmse (target,predictions) #by the model"
   ]
  },
  {
   "cell_type": "code",
   "execution_count": 169,
   "id": "adacb269",
   "metadata": {},
   "outputs": [
    {
     "data": {
      "text/plain": [
       "32074.587227345703"
      ]
     },
     "execution_count": 169,
     "metadata": {},
     "output_type": "execute_result"
    }
   ],
   "source": [
    "rmse(target,estimated_charges) #estimated charges calculted manually"
   ]
  },
  {
   "cell_type": "markdown",
   "id": "fe896730",
   "metadata": {},
   "source": [
    "Let's visualize the line created by the above parameters."
   ]
  },
  {
   "cell_type": "code",
   "execution_count": 165,
   "id": "9795e5b8",
   "metadata": {},
   "outputs": [
    {
     "name": "stdout",
     "output_type": "stream",
     "text": [
      "Loss= 10711.00334810241\n"
     ]
    },
    {
     "data": {
      "image/png": "[encoded data removed]",
      "text/plain": [
       "<Figure size 720x432 with 1 Axes>"
      ]
     },
     "metadata": {
      "needs_background": "light"
     },
     "output_type": "display_data"
    }
   ],
   "source": [
    "try_parameters(model.coef_, model.intercept_)"
   ]
  },
  {
   "cell_type": "markdown",
   "id": "a89e6ab8",
   "metadata": {},
   "source": [
    "Seems like the prediction made by the model is off by $10711 which is not to bad considering there are several outliers."
   ]
  },
  {
   "cell_type": "code",
   "execution_count": 172,
   "id": "48b9fec6",
   "metadata": {},
   "outputs": [
    {
     "data": {
      "application/javascript": [
       "window.require && require([\"base/js/namespace\"],function(Jupyter){Jupyter.notebook.save_checkpoint()})"
      ],
      "text/plain": [
       "<IPython.core.display.Javascript object>"
      ]
     },
     "metadata": {},
     "output_type": "display_data"
    },
    {
     "name": "stdout",
     "output_type": "stream",
     "text": [
      "[jovian] Updating notebook \"gt4052/smoker-df\" on https://jovian.com\u001b[0m\n",
      "[jovian] Committed successfully! https://jovian.com/gt4052/smoker-df\u001b[0m\n"
     ]
    },
    {
     "data": {
      "text/plain": [
       "'https://jovian.com/gt4052/smoker-df'"
      ]
     },
     "execution_count": 172,
     "metadata": {},
     "output_type": "execute_result"
    }
   ],
   "source": [
    "jovian.commit()"
   ]
  },
  {
   "cell_type": "code",
   "execution_count": null,
   "id": "90fcb9a2",
   "metadata": {},
   "outputs": [],
   "source": []
  }
 ],
 "metadata": {
  "kernelspec": {
   "display_name": "Python 3 (ipykernel)",
   "language": "python",
   "name": "python3"
  },
  "language_info": {
   "codemirror_mode": {
    "name": "ipython",
    "version": 3
   },
   "file_extension": ".py",
   "mimetype": "text/x-python",
   "name": "python",
   "nbconvert_exporter": "python",
   "pygments_lexer": "ipython3",
   "version": "3.9.7"
  }
 },
 "nbformat": 4,
 "nbformat_minor": 5
}
